{
 "cells": [
  {
   "cell_type": "markdown",
   "metadata": {},
   "source": [
    "# iPhone X vs Galaxy S9\n",
    "<table>\n",
    "<tr><td><img src=\"A_logo.JPG\" width=\"100px\" style=\"float\"></td>\n",
    "    <td>VS</td>\n",
    "    <td> <img src=\"S_logo.JPG\" width=\"200px\" style=\"left\"></td>\n",
    "</tr></table>\n",
    "\n",
    "> Apple iPhone and Samsung Galaxy are known to be top two competitors in the smartphone market. Our team wanted to know what the consumers think of these two products. We determined that iPhone X and Galaxy S9 will be a fair comparison because the release dates were only 4 months apart.\n",
    "\n",
    ">iPhone X Release Date: **November 3, 2017**\n",
    "\n",
    ">Galaxy S9 Release Date: **March 16, 2018**\n",
    "\n",
    ">These two products have different features and functions. We will explore these reviews to extract insigts that can help with business decisions.\n",
    "\n",
    "<br>"
   ]
  },
  {
   "cell_type": "code",
   "execution_count": 1,
   "metadata": {},
   "outputs": [
    {
     "name": "stderr",
     "output_type": "stream",
     "text": [
      "C:\\Users\\tkjan\\Anaconda3\\lib\\site-packages\\statsmodels\\compat\\pandas.py:56: FutureWarning: The pandas.core.datetools module is deprecated and will be removed in a future version. Please use the pandas.tseries module instead.\n",
      "  from pandas.core import datetools\n",
      "C:\\Users\\tkjan\\Anaconda3\\lib\\site-packages\\gensim\\utils.py:1197: UserWarning: detected Windows; aliasing chunkize to chunkize_serial\n",
      "  warnings.warn(\"detected Windows; aliasing chunkize to chunkize_serial\")\n"
     ]
    }
   ],
   "source": [
    "# load necessary libraries\n",
    "import re\n",
    "import pandas as pd\n",
    "import numpy as np\n",
    "from sklearn.model_selection import train_test_split\n",
    "from sklearn.metrics import mean_squared_error\n",
    "import statsmodels.formula.api as smf \n",
    "import statsmodels.api as sm\n",
    "import matplotlib.pyplot as plt\n",
    "from textblob import TextBlob\n",
    "import nltk\n",
    "from nltk.corpus import stopwords\n",
    "from nltk.corpus import subjectivity\n",
    "from nltk.sentiment import SentimentAnalyzer\n",
    "from nltk.sentiment.util import *\n",
    "from nltk.sentiment.vader import SentimentIntensityAnalyzer\n",
    "from nltk.tokenize import word_tokenize\n",
    "from nltk.util import ngrams\n",
    "from nltk.stem import WordNetLemmatizer\n",
    "from collections import Counter\n",
    "import gensim\n",
    "import spacy\n",
    "from spacy import displacy\n",
    "nlp = spacy.load('en_core_web_lg')\n",
    "\n",
    "from sklearn.metrics import confusion_matrix\n",
    "from sklearn.metrics import accuracy_score\n",
    "from sklearn.feature_extraction.text import CountVectorizer\n",
    "from sklearn.feature_extraction.text import TfidfTransformer\n",
    "from sklearn.naive_bayes import MultinomialNB\n",
    "from sklearn.model_selection import GridSearchCV\n",
    "from sklearn.linear_model import SGDClassifier\n",
    "from sklearn.pipeline import Pipeline\n",
    "from sklearn.externals import joblib\n",
    "from nltk.stem import PorterStemmer\n",
    "from nltk.stem import LancasterStemmer\n",
    "import ipywidgets as widgets\n",
    "import seaborn as sns"
   ]
  },
  {
   "cell_type": "markdown",
   "metadata": {},
   "source": [
    "## Review of Data Acquisition and Processing\n",
    "\n",
    "We scraped the 6 websites below using BeautifulSoup and Selenium. More websites were considered, but not every website had both phone reviews or didn't have 5-star rating system or review system. For the sake of this analysis, scraped only basic model of both phones (e.g. S9 rather than S9+). Scraping codes are included in the folder 'scrapers' and the dataframes extracted from these websites are also saved separately in 'scraped-data' folder.\n",
    "\n",
    "Scraped websites : \n",
    "1. Best-Buy(Electronic and Product Sale) \n",
    "2. Verizon(Telecommunication) \n",
    "3. AT&T(Telecommunication) \n",
    "4. influenster.com(E-Commerce for Daily Products) \n",
    "5. ProductReview.au(Electronic Sale/Purchase company in Australia) \n",
    "6. very.co.uk(Electronic Sale/Purchase company in the United Kingdom) \n",
    "\n",
    "#### We have saved the scraped data as 'final_data.csv' and EDA starts from this"
   ]
  },
  {
   "cell_type": "code",
   "execution_count": 2,
   "metadata": {},
   "outputs": [
    {
     "data": {
      "text/html": [
       "<div>\n",
       "<style scoped>\n",
       "    .dataframe tbody tr th:only-of-type {\n",
       "        vertical-align: middle;\n",
       "    }\n",
       "\n",
       "    .dataframe tbody tr th {\n",
       "        vertical-align: top;\n",
       "    }\n",
       "\n",
       "    .dataframe thead th {\n",
       "        text-align: right;\n",
       "    }\n",
       "</style>\n",
       "<table border=\"1\" class=\"dataframe\">\n",
       "  <thead>\n",
       "    <tr style=\"text-align: right;\">\n",
       "      <th>phone</th>\n",
       "      <th>galaxy</th>\n",
       "      <th>iphone</th>\n",
       "    </tr>\n",
       "    <tr>\n",
       "      <th>source</th>\n",
       "      <th></th>\n",
       "      <th></th>\n",
       "    </tr>\n",
       "  </thead>\n",
       "  <tbody>\n",
       "    <tr>\n",
       "      <th>BestBuy</th>\n",
       "      <td>1606</td>\n",
       "      <td>39</td>\n",
       "    </tr>\n",
       "    <tr>\n",
       "      <th>Productreview.com.au</th>\n",
       "      <td>111</td>\n",
       "      <td>660</td>\n",
       "    </tr>\n",
       "    <tr>\n",
       "      <th>Very.co.uk</th>\n",
       "      <td>7620</td>\n",
       "      <td>500</td>\n",
       "    </tr>\n",
       "    <tr>\n",
       "      <th>att.com</th>\n",
       "      <td>268</td>\n",
       "      <td>1117</td>\n",
       "    </tr>\n",
       "    <tr>\n",
       "      <th>influenster</th>\n",
       "      <td>95</td>\n",
       "      <td>990</td>\n",
       "    </tr>\n",
       "    <tr>\n",
       "      <th>vw</th>\n",
       "      <td>74</td>\n",
       "      <td>170</td>\n",
       "    </tr>\n",
       "  </tbody>\n",
       "</table>\n",
       "</div>"
      ],
      "text/plain": [
       "phone                 galaxy  iphone\n",
       "source                              \n",
       "BestBuy                 1606      39\n",
       "Productreview.com.au     111     660\n",
       "Very.co.uk              7620     500\n",
       "att.com                  268    1117\n",
       "influenster               95     990\n",
       "vw                        74     170"
      ]
     },
     "execution_count": 2,
     "metadata": {},
     "output_type": "execute_result"
    }
   ],
   "source": [
    "# read the data in\n",
    "df = pd.read_csv('data/final_data.csv')\n",
    "\n",
    "# count by source and type of phone\n",
    "pd.pivot_table(df, index='source', columns='phone', aggfunc='size')"
   ]
  },
  {
   "cell_type": "code",
   "execution_count": 3,
   "metadata": {},
   "outputs": [
    {
     "data": {
      "text/html": [
       "<div>\n",
       "<style scoped>\n",
       "    .dataframe tbody tr th:only-of-type {\n",
       "        vertical-align: middle;\n",
       "    }\n",
       "\n",
       "    .dataframe tbody tr th {\n",
       "        vertical-align: top;\n",
       "    }\n",
       "\n",
       "    .dataframe thead th {\n",
       "        text-align: right;\n",
       "    }\n",
       "</style>\n",
       "<table border=\"1\" class=\"dataframe\">\n",
       "  <thead>\n",
       "    <tr style=\"text-align: right;\">\n",
       "      <th>rating</th>\n",
       "      <th>1</th>\n",
       "      <th>2</th>\n",
       "      <th>3</th>\n",
       "      <th>4</th>\n",
       "      <th>5</th>\n",
       "    </tr>\n",
       "    <tr>\n",
       "      <th>phone</th>\n",
       "      <th></th>\n",
       "      <th></th>\n",
       "      <th></th>\n",
       "      <th></th>\n",
       "      <th></th>\n",
       "    </tr>\n",
       "  </thead>\n",
       "  <tbody>\n",
       "    <tr>\n",
       "      <th>galaxy</th>\n",
       "      <td>277</td>\n",
       "      <td>252</td>\n",
       "      <td>535</td>\n",
       "      <td>1673</td>\n",
       "      <td>7037</td>\n",
       "    </tr>\n",
       "    <tr>\n",
       "      <th>iphone</th>\n",
       "      <td>127</td>\n",
       "      <td>97</td>\n",
       "      <td>179</td>\n",
       "      <td>501</td>\n",
       "      <td>2572</td>\n",
       "    </tr>\n",
       "  </tbody>\n",
       "</table>\n",
       "</div>"
      ],
      "text/plain": [
       "rating    1    2    3     4     5\n",
       "phone                            \n",
       "galaxy  277  252  535  1673  7037\n",
       "iphone  127   97  179   501  2572"
      ]
     },
     "execution_count": 3,
     "metadata": {},
     "output_type": "execute_result"
    }
   ],
   "source": [
    "# count by rating and type of phone\n",
    "pd.pivot_table(df, index='phone', columns='rating', aggfunc='size')"
   ]
  },
  {
   "cell_type": "markdown",
   "metadata": {},
   "source": [
    "We labeled rating 1, 2 as negative sentiment (N) and 4, 5 as positive sentiment (P). We went through all the rating 3 reviews and labeled it manually. We indicated some reviews as '?' which do not express any sentiment such as the reviews written in foreign language and very neutral sentiment. There were 32 reviews of those out of 13250 total observations and we eventually dropped all the '?'s and ended up with 13218 rows.\n",
    "\n",
    "#### After labeling, it is saved as 'final_data_labeld.csv'"
   ]
  },
  {
   "cell_type": "code",
   "execution_count": 4,
   "metadata": {},
   "outputs": [
    {
     "data": {
      "text/html": [
       "<div>\n",
       "<style scoped>\n",
       "    .dataframe tbody tr th:only-of-type {\n",
       "        vertical-align: middle;\n",
       "    }\n",
       "\n",
       "    .dataframe tbody tr th {\n",
       "        vertical-align: top;\n",
       "    }\n",
       "\n",
       "    .dataframe thead th {\n",
       "        text-align: right;\n",
       "    }\n",
       "</style>\n",
       "<table border=\"1\" class=\"dataframe\">\n",
       "  <thead>\n",
       "    <tr style=\"text-align: right;\">\n",
       "      <th>sentiment</th>\n",
       "      <th>?</th>\n",
       "      <th>N</th>\n",
       "      <th>P</th>\n",
       "    </tr>\n",
       "    <tr>\n",
       "      <th>phone</th>\n",
       "      <th></th>\n",
       "      <th></th>\n",
       "      <th></th>\n",
       "    </tr>\n",
       "  </thead>\n",
       "  <tbody>\n",
       "    <tr>\n",
       "      <th>galaxy</th>\n",
       "      <td>29</td>\n",
       "      <td>895</td>\n",
       "      <td>8850</td>\n",
       "    </tr>\n",
       "    <tr>\n",
       "      <th>iphone</th>\n",
       "      <td>3</td>\n",
       "      <td>353</td>\n",
       "      <td>3120</td>\n",
       "    </tr>\n",
       "  </tbody>\n",
       "</table>\n",
       "</div>"
      ],
      "text/plain": [
       "sentiment   ?    N     P\n",
       "phone                   \n",
       "galaxy     29  895  8850\n",
       "iphone      3  353  3120"
      ]
     },
     "execution_count": 4,
     "metadata": {},
     "output_type": "execute_result"
    }
   ],
   "source": [
    "df = pd.read_csv(\"data/final_data_labeled.csv\", index_col = False)\n",
    "\n",
    "pd.pivot_table(df, index='phone', columns='sentiment',aggfunc='size',fill_value='0')"
   ]
  },
  {
   "cell_type": "code",
   "execution_count": 5,
   "metadata": {},
   "outputs": [
    {
     "name": "stdout",
     "output_type": "stream",
     "text": [
      "total rows : 13218\n"
     ]
    },
    {
     "data": {
      "text/plain": [
       "phone\n",
       "galaxy    9745\n",
       "iphone    3473\n",
       "dtype: int64"
      ]
     },
     "execution_count": 5,
     "metadata": {},
     "output_type": "execute_result"
    }
   ],
   "source": [
    "df = df[df['sentiment'] != '?'].reset_index(drop=True)\n",
    "print(\"total rows : \" +str(len(df)))\n",
    "\n",
    "pd.pivot_table(df, index='phone', aggfunc='size')"
   ]
  },
  {
   "cell_type": "markdown",
   "metadata": {},
   "source": [
    "## Adding features\n",
    "\n",
    "As above table depcts, iPhone X and Samsung S9 reviews were scraped 6 different product review websites. Count of Galaxy reivews are three times as much as iPhone reivews (very.co.uk had a significantly more Galaxy S9 reviews.) After cleaning, total of 13218 reviews are used in this analysis.\n",
    "\n",
    "1. **phone** : iphone and galaxy\n",
    "\n",
    "+ **rating** : 1 - 5 stars\n",
    "\n",
    "+ **sentiment** : 5 and 4 stars are 'P' meaning positive reviews. 1 and 2 stars are 'N'. 3 stars were manually labels after reading the reviews.\n",
    "\n",
    "+ **review** : actual reviews in string\n",
    "\n",
    "+ **source** : productreview.com.au, very.co.uk, bestbuy.com, att.com, verizon.com, influenster.com\n",
    "\n",
    "+ **cleaned** : special characters and non ASCII characters removed\n",
    "\n",
    "+ **filtered** : stopwords removed from \"cleaned\"\n",
    "\n",
    "+ **len_org** : number of organization mentioned in each review (e.g. 'Samsung' in the review will be counted as one.)\n",
    "\n",
    "       spaCy correctly identifys comnany names. 'Samsung', 'Apple' 'Sony' will be tagged as 'ORG'.\n",
    "\n",
    "+ **len_adj** : number of adjectives appeared in each review\n",
    "       \n",
    "       spaCy tagger will indentify all of adjectives as 'ADJ'\n",
    "\n",
    "+ **len_ch** : number of characters in each review (e.g. 'I love Apple' would be 10 characters)\n",
    "\n",
    "+ **positivity** : Used SentimentIntensityAnalyzer in nltk.vader library. The positivity score is calculated based on a dictionay of words and associated positive scores. Cool thing about this function is that special characters are taken into consideration when the scores are calculated.\n",
    "        \n",
    "        e.g. I love this phone. vs I love this phone!\n",
    "        \n",
    "        SentimentIntensityAnalyzer will assign higher positivity to second sentence.\n",
    "        \n",
    "+ **negativity** : Used SentimentIntensityAnalyzer in nltk.vader. The negativity score is calculated based on a dictionay of words and associated negative scores. Cool thing about this function is that special characters are taken into consideration when the scores are calculated.\n",
    "\n",
    "        e.g. I hate this phone. vs I hate this phone!\n",
    "        \n",
    "        SentimentIntensityAnalyzer will assign higher negativity to second sentence.\n",
    "        \n",
    "    <u>\\* one review can have both non-zero positivity and negativity scores</u>\n",
    "\n",
    "+ **compound** : both posivitiy and negativity score was taken into consideration and normalized to calculate compound socre\n",
    "\n",
    "+ **num_pos** : number of positive words\n",
    "\n",
    "       each word in reviews was quantified (semtiment > 0) via Textblob\n",
    "\n",
    "+ **num_neg** : number of negative words\n",
    "\n",
    "       each word in reviews was quantified (semtiment < 0) via Textblob\n",
    "\n",
    "+ **polarity** : Polarity is float which lies in the range of [-1,1] where 1 means positive statement and -1 means a negative statement.\n",
    "\n",
    "+ **treated_negativity** : negativity score AFTER treating double negations in each review\n",
    "\n",
    "+ **treated_positivity** : positivity score AFTER treating double negations in each review\n",
    "\n",
    "+ **treated_compound** : compound score AFTER treating double negations in each review"
   ]
  },
  {
   "cell_type": "code",
   "execution_count": 6,
   "metadata": {},
   "outputs": [],
   "source": [
    "# 1) Adding \"cleaned\" review as a feature\n",
    "reviews = df['review']\n",
    "stopwords = nltk.corpus.stopwords.words('english')\n",
    "\n",
    "# df with one column\n",
    "data = reviews.to_frame()\n",
    "# remove non ASCII characters & special characters\n",
    "df['cleaned'] = data['review'].apply(lambda x : ' '.join(e for e in x.split(\" \") if e.isalnum()))\n",
    "\n",
    "# 2) Adding \"filtered\" review as a feature : this is to remove stopwords\n",
    "word_tokens = []\n",
    "\n",
    "for review in df['cleaned'] :\n",
    "    tokens = word_tokenize(str(review))\n",
    "    word_tokens.append(tokens)\n",
    "\n",
    "filtered_sentence = []\n",
    "for tokens in word_tokens :\n",
    "    filtered_review = [w for w in tokens if not w.lower() in stopwords] \n",
    "    filtered_sentence.append(filtered_review)\n",
    "\n",
    "filtered = pd.DataFrame({'filtered' : filtered_sentence})\n",
    "df['filtered'] = filtered\n",
    "df['filtered'] = df['filtered'].apply(' '.join)"
   ]
  },
  {
   "cell_type": "code",
   "execution_count": 7,
   "metadata": {},
   "outputs": [],
   "source": [
    "# 3) count of adjectives in each review \n",
    "# 4) count of brand name(s) mentioned in each review\n",
    "# 5) count of characters in each review\n",
    "leng =[]\n",
    "len_org = []\n",
    "len_char = []\n",
    "for i in range(len(df)):\n",
    "    \n",
    "    k = len(df['review'][i]) #count of chars\n",
    "    len_char.append(k)\n",
    "    \n",
    "    text = nlp(df['review'][i])\n",
    "    len_org.append(len(text.ents)) #count of brand names\n",
    "    \n",
    "    for token in text:\n",
    "        if token.pos_ == \"ADJ\":\n",
    "            tk=len(token)\n",
    "    leng.append(tk) #count of adj\n",
    "    \n",
    "df['len_org'] = len_org # freq of organiztion mentioned\n",
    "df['len_adj'] = leng # freq of adjectives\n",
    "df['len_ch'] = len_char # count of character"
   ]
  },
  {
   "cell_type": "code",
   "execution_count": 8,
   "metadata": {},
   "outputs": [],
   "source": [
    "# 6) adding negativity, positivity, and compound scores\n",
    "\n",
    "negativity=[]\n",
    "positivity=[]\n",
    "compound=[]\n",
    "\n",
    "sid = SentimentIntensityAnalyzer()\n",
    "for i in range(len(df)):\n",
    "    score=sid.polarity_scores(df['review'][i])\n",
    "    score.keys()\n",
    "    neg=list(score.values())[0]\n",
    "    pos=list(score.values())[2]\n",
    "    comp=list(score.values())[3]\n",
    "    \n",
    "    negativity.append(neg)\n",
    "    positivity.append(pos)\n",
    "    compound.append(comp)\n",
    "\n",
    "df['negativity'] = negativity\n",
    "df['positivity'] = positivity\n",
    "df['compound'] = compound"
   ]
  },
  {
   "cell_type": "code",
   "execution_count": 9,
   "metadata": {},
   "outputs": [],
   "source": [
    "# 7) adding number of positive words and negative words\n",
    "\n",
    "num_pos = []\n",
    "num_neg = []\n",
    "\n",
    "# 'filtered' is already without stopwords and special characters. we will use filtered column\n",
    "# filter it once more to make sure it's clean\n",
    "filtered = df['filtered'].map(lambda x: re.sub(r'\\W+', ' ', str(x)))\n",
    "\n",
    "for review in filtered :\n",
    "    pos_counter = 0\n",
    "    neg_counter = 0\n",
    "    for word in word_tokenize(review):\n",
    "        if(TextBlob(word).sentiment[0] > 0) :\n",
    "            pos_counter = pos_counter+1\n",
    "            #print(TextBlob(word).sentiment[0])\n",
    "            \n",
    "        elif (TextBlob(word).sentiment[0] < 0) :\n",
    "            neg_counter = neg_counter+1\n",
    "            #print(TextBlob(word).sentiment[0])\n",
    "        \n",
    "        else :\n",
    "            pass\n",
    "        \n",
    "    num_pos.append(pos_counter)\n",
    "    num_neg.append(neg_counter)\n",
    "\n",
    "df['num_pos'] = num_pos\n",
    "df['num_neg'] = num_neg"
   ]
  },
  {
   "cell_type": "code",
   "execution_count": 10,
   "metadata": {},
   "outputs": [],
   "source": [
    "# 8) adding polarity scores based on the original review. polarity score is from textblob library\n",
    "\n",
    "df['polarity'] = df['review'].apply(lambda x : TextBlob(x).sentiment[0])"
   ]
  },
  {
   "cell_type": "markdown",
   "metadata": {},
   "source": [
    "####  The below is what our master_data looks like and we have saved the file as 'master_data.csv' so that we do not have to run the above code again."
   ]
  },
  {
   "cell_type": "code",
   "execution_count": 11,
   "metadata": {},
   "outputs": [],
   "source": [
    "# we have saved the file after adding the necessary features as 'master_data.csv'\n",
    "\n",
    "df.to_csv('data/master_data.csv', index=False)\n"
   ]
  },
  {
   "cell_type": "code",
   "execution_count": 12,
   "metadata": {},
   "outputs": [
    {
     "data": {
      "text/html": [
       "<div>\n",
       "<style scoped>\n",
       "    .dataframe tbody tr th:only-of-type {\n",
       "        vertical-align: middle;\n",
       "    }\n",
       "\n",
       "    .dataframe tbody tr th {\n",
       "        vertical-align: top;\n",
       "    }\n",
       "\n",
       "    .dataframe thead th {\n",
       "        text-align: right;\n",
       "    }\n",
       "</style>\n",
       "<table border=\"1\" class=\"dataframe\">\n",
       "  <thead>\n",
       "    <tr style=\"text-align: right;\">\n",
       "      <th></th>\n",
       "      <th>phone</th>\n",
       "      <th>rating</th>\n",
       "      <th>sentiment</th>\n",
       "      <th>review</th>\n",
       "      <th>source</th>\n",
       "      <th>cleaned</th>\n",
       "      <th>filtered</th>\n",
       "      <th>len_org</th>\n",
       "      <th>len_adj</th>\n",
       "      <th>len_ch</th>\n",
       "      <th>negativity</th>\n",
       "      <th>positivity</th>\n",
       "      <th>compound</th>\n",
       "      <th>num_pos</th>\n",
       "      <th>num_neg</th>\n",
       "      <th>polarity</th>\n",
       "    </tr>\n",
       "  </thead>\n",
       "  <tbody>\n",
       "    <tr>\n",
       "      <th>0</th>\n",
       "      <td>galaxy</td>\n",
       "      <td>5</td>\n",
       "      <td>P</td>\n",
       "      <td>The Samsung Galaxy s9 is arguably the most bea...</td>\n",
       "      <td>Productreview.com.au</td>\n",
       "      <td>The Samsung Galaxy s9 is arguably the most bea...</td>\n",
       "      <td>Samsung Galaxy s9 arguably beautiful phone eve...</td>\n",
       "      <td>4</td>\n",
       "      <td>7</td>\n",
       "      <td>395</td>\n",
       "      <td>0.025</td>\n",
       "      <td>0.227</td>\n",
       "      <td>0.9476</td>\n",
       "      <td>4</td>\n",
       "      <td>0</td>\n",
       "      <td>0.558333</td>\n",
       "    </tr>\n",
       "    <tr>\n",
       "      <th>1</th>\n",
       "      <td>galaxy</td>\n",
       "      <td>5</td>\n",
       "      <td>P</td>\n",
       "      <td>great  phone smart features easy to use ,, , p...</td>\n",
       "      <td>Productreview.com.au</td>\n",
       "      <td>great phone smart features easy to use plenty ...</td>\n",
       "      <td>great phone smart features easy use plenty goo...</td>\n",
       "      <td>0</td>\n",
       "      <td>4</td>\n",
       "      <td>224</td>\n",
       "      <td>0.000</td>\n",
       "      <td>0.424</td>\n",
       "      <td>0.9590</td>\n",
       "      <td>6</td>\n",
       "      <td>0</td>\n",
       "      <td>0.624603</td>\n",
       "    </tr>\n",
       "    <tr>\n",
       "      <th>2</th>\n",
       "      <td>galaxy</td>\n",
       "      <td>4</td>\n",
       "      <td>P</td>\n",
       "      <td>I really liked the phone. It has good camera w...</td>\n",
       "      <td>Productreview.com.au</td>\n",
       "      <td>I really liked the It has good camera which is...</td>\n",
       "      <td>really liked good camera best feature good cha...</td>\n",
       "      <td>1</td>\n",
       "      <td>4</td>\n",
       "      <td>155</td>\n",
       "      <td>0.000</td>\n",
       "      <td>0.419</td>\n",
       "      <td>0.9421</td>\n",
       "      <td>6</td>\n",
       "      <td>0</td>\n",
       "      <td>0.640000</td>\n",
       "    </tr>\n",
       "    <tr>\n",
       "      <th>3</th>\n",
       "      <td>galaxy</td>\n",
       "      <td>3</td>\n",
       "      <td>P</td>\n",
       "      <td>First of all the camera quality does not disap...</td>\n",
       "      <td>Productreview.com.au</td>\n",
       "      <td>First of all the camera quality does not as ar...</td>\n",
       "      <td>First camera quality samsung cameras excellent...</td>\n",
       "      <td>4</td>\n",
       "      <td>5</td>\n",
       "      <td>382</td>\n",
       "      <td>0.033</td>\n",
       "      <td>0.109</td>\n",
       "      <td>0.7317</td>\n",
       "      <td>4</td>\n",
       "      <td>1</td>\n",
       "      <td>0.185625</td>\n",
       "    </tr>\n",
       "    <tr>\n",
       "      <th>4</th>\n",
       "      <td>galaxy</td>\n",
       "      <td>4</td>\n",
       "      <td>P</td>\n",
       "      <td>As a flagship phone goes, everything is pretty...</td>\n",
       "      <td>Productreview.com.au</td>\n",
       "      <td>As a flagship phone everything is pretty Speed...</td>\n",
       "      <td>flagship phone everything pretty Speed touch i...</td>\n",
       "      <td>3</td>\n",
       "      <td>9</td>\n",
       "      <td>605</td>\n",
       "      <td>0.056</td>\n",
       "      <td>0.111</td>\n",
       "      <td>0.7269</td>\n",
       "      <td>7</td>\n",
       "      <td>1</td>\n",
       "      <td>0.158333</td>\n",
       "    </tr>\n",
       "  </tbody>\n",
       "</table>\n",
       "</div>"
      ],
      "text/plain": [
       "    phone  rating sentiment  \\\n",
       "0  galaxy       5         P   \n",
       "1  galaxy       5         P   \n",
       "2  galaxy       4         P   \n",
       "3  galaxy       3         P   \n",
       "4  galaxy       4         P   \n",
       "\n",
       "                                              review                source  \\\n",
       "0  The Samsung Galaxy s9 is arguably the most bea...  Productreview.com.au   \n",
       "1  great  phone smart features easy to use ,, , p...  Productreview.com.au   \n",
       "2  I really liked the phone. It has good camera w...  Productreview.com.au   \n",
       "3  First of all the camera quality does not disap...  Productreview.com.au   \n",
       "4  As a flagship phone goes, everything is pretty...  Productreview.com.au   \n",
       "\n",
       "                                             cleaned  \\\n",
       "0  The Samsung Galaxy s9 is arguably the most bea...   \n",
       "1  great phone smart features easy to use plenty ...   \n",
       "2  I really liked the It has good camera which is...   \n",
       "3  First of all the camera quality does not as ar...   \n",
       "4  As a flagship phone everything is pretty Speed...   \n",
       "\n",
       "                                            filtered  len_org  len_adj  \\\n",
       "0  Samsung Galaxy s9 arguably beautiful phone eve...        4        7   \n",
       "1  great phone smart features easy use plenty goo...        0        4   \n",
       "2  really liked good camera best feature good cha...        1        4   \n",
       "3  First camera quality samsung cameras excellent...        4        5   \n",
       "4  flagship phone everything pretty Speed touch i...        3        9   \n",
       "\n",
       "   len_ch  negativity  positivity  compound  num_pos  num_neg  polarity  \n",
       "0     395       0.025       0.227    0.9476        4        0  0.558333  \n",
       "1     224       0.000       0.424    0.9590        6        0  0.624603  \n",
       "2     155       0.000       0.419    0.9421        6        0  0.640000  \n",
       "3     382       0.033       0.109    0.7317        4        1  0.185625  \n",
       "4     605       0.056       0.111    0.7269        7        1  0.158333  "
      ]
     },
     "execution_count": 12,
     "metadata": {},
     "output_type": "execute_result"
    }
   ],
   "source": [
    "df.head()"
   ]
  },
  {
   "cell_type": "markdown",
   "metadata": {},
   "source": [
    "## Analysis\n",
    "### Exploratory Data Analysis\n",
    "\n",
    "We are mostly interested in correlation to rating variable. Rating has to have some pattern or relationship with these variables."
   ]
  },
  {
   "cell_type": "code",
   "execution_count": 13,
   "metadata": {
    "scrolled": false
   },
   "outputs": [
    {
     "data": {
      "image/png": "[encoded data removed]",
      "text/plain": [
       "<Figure size 432x288 with 2 Axes>"
      ]
     },
     "metadata": {},
     "output_type": "display_data"
    }
   ],
   "source": [
    "# the correlation between the numeric variables which we created\n",
    "df = pd.read_csv('data/master_data.csv')\n",
    "corr=df.corr()\n",
    "sns.heatmap(corr, cmap= \"Blues\",\n",
    "        xticklabels=corr.columns,\n",
    "        yticklabels=corr.columns);"
   ]
  },
  {
   "cell_type": "code",
   "execution_count": 14,
   "metadata": {},
   "outputs": [
    {
     "data": {
      "image/png": "[encoded data removed]",
      "text/plain": [
       "<Figure size 792x792 with 100 Axes>"
      ]
     },
     "metadata": {},
     "output_type": "display_data"
    }
   ],
   "source": [
    "pd.plotting.scatter_matrix(df, figsize=(11, 11), diagonal='kde')\n",
    "plt.show()"
   ]
  },
  {
   "cell_type": "markdown",
   "metadata": {},
   "source": [
    "### Exploratory Data Analysis continued\n",
    "\n",
    "After examining the scatter plot matrix, we decided to closely look at the feature variables and the association with the rating by creating the plots and compare them one another.\n"
   ]
  },
  {
   "cell_type": "code",
   "execution_count": 15,
   "metadata": {},
   "outputs": [
    {
     "data": {
      "image/png": "[encoded data removed]",
      "text/plain": [
       "<Figure size 1008x288 with 2 Axes>"
      ]
     },
     "metadata": {},
     "output_type": "display_data"
    }
   ],
   "source": [
    "f = plt.figure(figsize=(14,4))\n",
    "ax = f.add_subplot(121)\n",
    "ax2 = f.add_subplot(122)\n",
    "ax.set_title(\"compound scores associated with rating\")\n",
    "ax.plot(df['compound'], df['rating'], 'o')\n",
    "ax2.plot(df['polarity'], df['rating'], 'o')\n",
    "ax2.set_title(\"polarity scores associated with rating\")\n",
    "plt.show()"
   ]
  },
  {
   "cell_type": "markdown",
   "metadata": {},
   "source": [
    "> Compoud scores don't makes sense. You should be able to see steps rising toward northweast corner. It is minimally resembling the true polarity. In the perfect world, again, you should be able to see steps rising toward northweast corner."
   ]
  },
  {
   "cell_type": "code",
   "execution_count": 16,
   "metadata": {},
   "outputs": [
    {
     "data": {
      "image/png": "[encoded data removed]",
      "text/plain": [
       "<Figure size 1008x288 with 2 Axes>"
      ]
     },
     "metadata": {},
     "output_type": "display_data"
    }
   ],
   "source": [
    "f = plt.figure(figsize=(14,4))\n",
    "ax = f.add_subplot(121)\n",
    "ax2 = f.add_subplot(122)\n",
    "ax.set_title(\"length of review with rating\")\n",
    "ax.plot(df['len_ch'], df['rating'], 'o')\n",
    "ax2.plot(df['len_adj'], df['rating'], 'o')\n",
    "ax2.set_title(\"number of adjectives with rating\")\n",
    "plt.show()"
   ]
  },
  {
   "cell_type": "markdown",
   "metadata": {},
   "source": [
    "> The trend is that the higher the ratings are the longer the reviews are. With count of adjectives, our team expected to see $\\huge\\subset$ shape. 5 and 1 star will have more adjectives. It seems to agree with 5 stars, but not 1 stars."
   ]
  },
  {
   "cell_type": "code",
   "execution_count": 17,
   "metadata": {},
   "outputs": [
    {
     "data": {
      "image/png": "[encoded data removed]",
      "text/plain": [
       "<Figure size 1008x288 with 2 Axes>"
      ]
     },
     "metadata": {},
     "output_type": "display_data"
    }
   ],
   "source": [
    "f = plt.figure(figsize=(14,4))\n",
    "ax = f.add_subplot(121)\n",
    "ax2 = f.add_subplot(122)\n",
    "ax.set_title(\"positivity associated with rating\")\n",
    "ax.plot(df['positivity'], df['rating'], 'o')\n",
    "ax2.plot(df['negativity'], df['rating'], 'o')\n",
    "ax2.set_title(\"negativity associated with rating\")\n",
    "plt.show()"
   ]
  },
  {
   "cell_type": "markdown",
   "metadata": {},
   "source": [
    "> Above plots are interesting because postivity is resembling the true shape of rating distribution (the higher the ratings, the higher the positivity scores are). Similarly, we would expect the lower the ratings, the lower the negativity scores are. "
   ]
  },
  {
   "cell_type": "code",
   "execution_count": 18,
   "metadata": {},
   "outputs": [
    {
     "data": {
      "image/png": "[encoded data removed]",
      "text/plain": [
       "<Figure size 1008x288 with 2 Axes>"
      ]
     },
     "metadata": {},
     "output_type": "display_data"
    }
   ],
   "source": [
    "f = plt.figure(figsize=(14,4))\n",
    "ax = f.add_subplot(121)\n",
    "ax2 = f.add_subplot(122)\n",
    "ax.set_title(\"number of positive words with rating\")\n",
    "ax.plot(df['num_pos'], df['rating'], 'o')\n",
    "ax2.plot(df['num_neg'], df['rating'], 'o')\n",
    "ax2.set_title(\"number of negative words with rating\")\n",
    "plt.show()"
   ]
  },
  {
   "cell_type": "markdown",
   "metadata": {},
   "source": [
    "> We decided to count positive and negative words to confirm. The results were consistent as above posotivity and negativity plots. Number of positive words mostly agree with ratings, but again, number of negative words are messy. We highly suspect that this is because of \"double negations\" as the example in the next code chunk. Let's see if we can fix this by treating double negations. We will cover this topic extensively in \"Treating Double Negated Phrases\" below. "
   ]
  },
  {
   "cell_type": "markdown",
   "metadata": {},
   "source": [
    "## Treating double negated phrases\n",
    "\n",
    "As the example below (legit phone not bad aspects : rating 5), we want to take care of the double negations which might be messing with our data. We decided to create a list of double negated phrases from our dataset. Using bigrams, we will sift double negatives and create a list in order to nullify the double negatives.\n",
    "\n",
    "1. go through the list from ratings 4 and 5 and retrieve double nagated words\n",
    "2. we defined double negative phrases as whatever contains \"no\" as the first word and the following word should be a negative adjective. For example, \"not bad\" should be in our list. The reason why we defined the first word to be explicitly \"no\" is because both nltk and textblob library consider \"no\" doesn't contain any sentiment. Polarity score of \"no\" from textblob is 0.0 and the negativity score from nltk was also 0.0\n",
    "\n",
    "3. Once the phrase is found, add it to the list."
   ]
  },
  {
   "cell_type": "code",
   "execution_count": 19,
   "metadata": {},
   "outputs": [
    {
     "name": "stdout",
     "output_type": "stream",
     "text": [
      "{'neg': 0.655, 'neu': 0.345, 'pos': 0.0, 'compound': -0.6908}\n",
      "rating:  5\n",
      "1\n"
     ]
    },
    {
     "data": {
      "text/plain": [
       "'Legit phone no bad aspects'"
      ]
     },
     "execution_count": 19,
     "metadata": {},
     "output_type": "execute_result"
    }
   ],
   "source": [
    "### double negation example ###\n",
    "\n",
    "# This is a 5-star review, but negativity score is 0.655 when positive score is 0.\n",
    "n=13201\n",
    "sid = SentimentIntensityAnalyzer()\n",
    "print(sid.polarity_scores(df['review'][n]))\n",
    "print('rating: ', df['rating'][n])\n",
    "print(df['num_neg'][n])\n",
    "df['review'][n]\n"
   ]
  },
  {
   "cell_type": "code",
   "execution_count": 20,
   "metadata": {
    "scrolled": true
   },
   "outputs": [],
   "source": [
    "# use cleaned review\n",
    "filtered = df['cleaned']\n",
    "\n",
    "#Lemmatization before sifting double negatives\n",
    "lemmatizer=WordNetLemmatizer()\n",
    "tok = filtered.apply(lambda x : word_tokenize(str(x)))\n",
    "lem = tok.apply(lambda x : [lemmatizer.lemmatize(_) for _ in x])\n",
    "lem_rat = pd.concat([lem, df['rating']], axis=1)\n",
    "\n",
    "#list for bigrams of all the reviews\n",
    "# also added rating next to each bigram\n",
    "bigrams =[]\n",
    "for i in range(len(lem_rat['cleaned'])) :\n",
    "    for ngram in (ngrams(lem_rat['cleaned'][i], 2)) :\n",
    "        bigrams.append(' '.join(str(i) for i in ngram))\n",
    "        bigrams.append(lem_rat['rating'][i])\n",
    "        \n",
    "#list for possible double negatives\n",
    "double_negatives = []\n",
    "\n",
    "for i in range(0, len(bigrams), 2):\n",
    "    tokens = word_tokenize(bigrams[i])\n",
    "    #if both words are negative\n",
    "    if((\"no\" in tokens[0]) & (TextBlob(tokens[1]).sentiment[0]<0)):\n",
    "        double_negatives.append(bigrams[i])\n",
    "        double_negatives.append(bigrams[i+1])\n",
    "    \n",
    "    \n",
    "# let's separate the list and make it as a dataframe\n",
    "d_neg = []\n",
    "d_rat = []\n",
    "\n",
    "i = 0\n",
    "while(i < len(double_negatives)):\n",
    "    d_neg.append(double_negatives[i])\n",
    "    i=i+1\n",
    "    d_rat.append(double_negatives[i])\n",
    "    i=i+1\n",
    "\n",
    "# list to a dataframe\n",
    "d_neg_rat = pd.DataFrame({'negative bigrams' : d_neg, 'associated rating' : d_rat})\n",
    "\n",
    "# export\n",
    "d_neg_rat.to_csv('data/doub_neg.csv', index=False)"
   ]
  },
  {
   "cell_type": "markdown",
   "metadata": {},
   "source": [
    "#### From the code above, we have acquired a list of double negatives out of our dataset. The list looks like below and we also have saved it as \"doub_neg.csv\" file so this code chunk doesn't have to be run."
   ]
  },
  {
   "cell_type": "code",
   "execution_count": 21,
   "metadata": {},
   "outputs": [
    {
     "data": {
      "text/html": [
       "<div>\n",
       "<style scoped>\n",
       "    .dataframe tbody tr th:only-of-type {\n",
       "        vertical-align: middle;\n",
       "    }\n",
       "\n",
       "    .dataframe tbody tr th {\n",
       "        vertical-align: top;\n",
       "    }\n",
       "\n",
       "    .dataframe thead th {\n",
       "        text-align: right;\n",
       "    }\n",
       "</style>\n",
       "<table border=\"1\" class=\"dataframe\">\n",
       "  <thead>\n",
       "    <tr style=\"text-align: right;\">\n",
       "      <th></th>\n",
       "      <th>associated rating</th>\n",
       "      <th>negative bigrams</th>\n",
       "    </tr>\n",
       "  </thead>\n",
       "  <tbody>\n",
       "    <tr>\n",
       "      <th>0</th>\n",
       "      <td>3</td>\n",
       "      <td>now down</td>\n",
       "    </tr>\n",
       "    <tr>\n",
       "      <th>1</th>\n",
       "      <td>5</td>\n",
       "      <td>no mean</td>\n",
       "    </tr>\n",
       "    <tr>\n",
       "      <th>2</th>\n",
       "      <td>5</td>\n",
       "      <td>not bad</td>\n",
       "    </tr>\n",
       "    <tr>\n",
       "      <th>3</th>\n",
       "      <td>2</td>\n",
       "      <td>nothing Less</td>\n",
       "    </tr>\n",
       "    <tr>\n",
       "      <th>4</th>\n",
       "      <td>5</td>\n",
       "      <td>not broken</td>\n",
       "    </tr>\n",
       "    <tr>\n",
       "      <th>5</th>\n",
       "      <td>5</td>\n",
       "      <td>technology difficult</td>\n",
       "    </tr>\n",
       "    <tr>\n",
       "      <th>6</th>\n",
       "      <td>5</td>\n",
       "      <td>no complaint</td>\n",
       "    </tr>\n",
       "    <tr>\n",
       "      <th>7</th>\n",
       "      <td>1</td>\n",
       "      <td>not serious</td>\n",
       "    </tr>\n",
       "    <tr>\n",
       "      <th>8</th>\n",
       "      <td>2</td>\n",
       "      <td>annoying worst</td>\n",
       "    </tr>\n",
       "    <tr>\n",
       "      <th>9</th>\n",
       "      <td>3</td>\n",
       "      <td>not tough</td>\n",
       "    </tr>\n",
       "  </tbody>\n",
       "</table>\n",
       "</div>"
      ],
      "text/plain": [
       "   associated rating      negative bigrams\n",
       "0                  3              now down\n",
       "1                  5               no mean\n",
       "2                  5               not bad\n",
       "3                  2          nothing Less\n",
       "4                  5            not broken\n",
       "5                  5  technology difficult\n",
       "6                  5          no complaint\n",
       "7                  1           not serious\n",
       "8                  2        annoying worst\n",
       "9                  3             not tough"
      ]
     },
     "execution_count": 21,
     "metadata": {},
     "output_type": "execute_result"
    }
   ],
   "source": [
    "d_neg_rat.head(10)"
   ]
  },
  {
   "cell_type": "code",
   "execution_count": 22,
   "metadata": {},
   "outputs": [
    {
     "data": {
      "text/plain": [
       "associated rating\n",
       "1      3\n",
       "2      6\n",
       "3     15\n",
       "4     22\n",
       "5    108\n",
       "dtype: int64"
      ]
     },
     "execution_count": 22,
     "metadata": {},
     "output_type": "execute_result"
    }
   ],
   "source": [
    "d_neg_rat = pd.read_csv('data/doub_neg.csv')\n",
    "pd.pivot_table(d_neg_rat, columns='associated rating', aggfunc='size')"
   ]
  },
  {
   "cell_type": "markdown",
   "metadata": {},
   "source": [
    "> We can see there are way more 4s and 5s in the rating that are associated with double negated phrases."
   ]
  },
  {
   "cell_type": "markdown",
   "metadata": {},
   "source": [
    "## Plotting after removing double negated phrases\n",
    "\n",
    "### Part1. Getting the list ready\n",
    "<br>\n",
    "\n",
    "**Trimming the list**\n",
    "\n",
    "Out of the list we have created, we observed that there are phrases that are not double negated such as \"technology difficult\". We manually went through the list and deleted non-double negated phrases. We have saved the file as \"doub_deg_edited.csv\".\n",
    "\n",
    "**Updating the list**\n",
    "\n",
    "We wanted to look into the negativity score even more closely and see if there is any more phrases we want to include. Using our double negated phrase list, we created a subset which is rating 5s and the negativity score above 0.2. There were 146 occurrences in the subset. After we examine the subset, we figured out that there are actually more double negations in the reviews which we did not include in our double negation lists such as \n",
    "\n",
    "- no regret\n",
    "- no fault\n",
    "- no problem\n",
    "- coudn't be happier\n",
    "- no complain\n",
    "\n",
    "We added these phrases in to our double negation list and updated it."
   ]
  },
  {
   "cell_type": "code",
   "execution_count": 23,
   "metadata": {},
   "outputs": [
    {
     "name": "stdout",
     "output_type": "stream",
     "text": [
      "length of our trimmed list : 32\n"
     ]
    }
   ],
   "source": [
    "d_list = pd.read_csv('data/doub_neg_edited.csv') #this is the trimmed list\n",
    "d_list = d_list.dropna()\n",
    "d_list = list(d_list['negative bigrams'])\n",
    "\n",
    "unique = list(set(d_list))\n",
    "print(\"length of our trimmed list : \" +str(len(unique)))"
   ]
  },
  {
   "cell_type": "code",
   "execution_count": 24,
   "metadata": {},
   "outputs": [
    {
     "data": {
      "text/plain": [
       "array(['Legit phone no bad aspects',\n",
       "       'This does everything I need. Absolutely no disappointments!',\n",
       "       'Bought phone a few weeks ago absolutely no regrets',\n",
       "       'Brill phone no faults couldnt ask for a better phone :)',\n",
       "       'Apps are difficult to find. Start-up was difficult',\n",
       "       'Flawless had it for 3 months so far. No problems or negative comments',\n",
       "       'Great phone no fault yet............................',\n",
       "       \"Had phone one week couldn't be happier best phone ever\",\n",
       "       'I love it I got no complain',\n",
       "       'I bought this phone a week ago still learning but no regrets',\n",
       "       \"I have it less than 14 days and don't like it, I LOVE my phone!!!\",\n",
       "       'Bit disappointed no built-in radio like my old phone',\n",
       "       'Got this as an upgrade, had no problems with it transferred everything over from my old s7 with no problems.',\n",
       "       \"I've had this phone for one month now. No complaints\",\n",
       "       \"Got this phone a month ago and I've got no complaints\",\n",
       "       \"A pure love ae mad phone it's mad ting belter man b\",\n",
       "       'Had a couple of weeks & no faults found at all with the phone',\n",
       "       'I got this phone for my few months ago absolutely wicked love it no problems at all',\n",
       "       'This is a great phone, you get what you pay for, no complaints.',\n",
       "       'Bought it 3 weeks ago, and no regrets!! Totally love it!!',\n",
       "       'Bought just over a week ago, so far no problems good features',\n",
       "       'Brilliant phone slightly big but no faults what so ever brought it a month ago',\n",
       "       'Great phone, samsung pay does not support my bank and a lot of other big banks though. Im now using google pay but this has no security which it worrying. Sick phone though',\n",
       "       'Good except no good screen protectors and bad ar emoji',\n",
       "       'Had the Samsung s9 Duo sim over a month and no happy with it no problems',\n",
       "       'Galaxy killers lol Best phones',\n",
       "       'Loving the new screen and features - no problems so far!',\n",
       "       'My phone arrived as expected, no damage or scratches on phone, just as new!',\n",
       "       'The galaxy s9, has been ok. I was very sad to lose my Individualized ringtones As oreo does not support it.',\n",
       "       'Really happy, no complaints at all, would highly recommend.',\n",
       "       'Was told I’d have problems getting used to the X. No problems at all. Really like the phone.',\n",
       "       'This phone is Amaze-balls!! I have never loved a phone so much!',\n",
       "       'Swapped from and iPhone a month ago and no regretting a single second of it.',\n",
       "       'Bought this for my wife and she loves it, no complaints!',\n",
       "       'Had no choice. needed a new phone to replace an S8 that I cracked the screen on. It works. No complaints.',\n",
       "       'Was struggling with a dying W10 mobile.. what a change!',\n",
       "       'Great phone. Very fast and reliable. No complaints so far.',\n",
       "       'I love this phone but hate Bixby & cant get rid of it.',\n",
       "       'Phone is faster than note 8, less ram however no lag issues.',\n",
       "       'Phone is faster than note 8, less ram however no lag issues.'],\n",
       "      dtype=object)"
      ]
     },
     "execution_count": 24,
     "metadata": {},
     "output_type": "execute_result"
    }
   ],
   "source": [
    "# examine the review with negativity score and rating to update our doube negative list.\n",
    "\n",
    "test = df[['review','negativity','rating']]\n",
    "liars = test[(test['rating']==5) & (test['negativity']>0.30)].sort_values(by='negativity', ascending=False)\n",
    "liars['review'].values"
   ]
  },
  {
   "cell_type": "code",
   "execution_count": 25,
   "metadata": {},
   "outputs": [
    {
     "name": "stdout",
     "output_type": "stream",
     "text": [
      "length of our updated list : 37\n"
     ]
    }
   ],
   "source": [
    "d_list = pd.read_csv('data/doub_neg_edited.csv')\n",
    "d_list = d_list.dropna()\n",
    "d_list = list(d_list['negative bigrams'])\n",
    "\n",
    "#add more double negative phrases and the associated ratings into our double negative lists\n",
    "more = [\"no regret\", \"no fault\", \"no problem\", 'couldn\\'t be happier', \"no complain\"]\n",
    "\n",
    "for word in more :\n",
    "    d_list.append(word)\n",
    "\n",
    "unique = list(set(d_list))\n",
    "print(\"length of our updated list : \" +str(len(unique)))"
   ]
  },
  {
   "cell_type": "markdown",
   "metadata": {},
   "source": [
    "> After updating the list, we ended up having 37 double negation phrases."
   ]
  },
  {
   "cell_type": "markdown",
   "metadata": {},
   "source": [
    "### Part 2. Removing double negated phrases from the review\n",
    "\n",
    "Now that we have a list of double negations extracted from our dataset, we decided to see if that would change the negativity plots. We will nullify the double negated phrases using our double negative list and create the plots again to see any difference."
   ]
  },
  {
   "cell_type": "code",
   "execution_count": 26,
   "metadata": {},
   "outputs": [
    {
     "data": {
      "text/html": [
       "<div>\n",
       "<style scoped>\n",
       "    .dataframe tbody tr th:only-of-type {\n",
       "        vertical-align: middle;\n",
       "    }\n",
       "\n",
       "    .dataframe tbody tr th {\n",
       "        vertical-align: top;\n",
       "    }\n",
       "\n",
       "    .dataframe thead th {\n",
       "        text-align: right;\n",
       "    }\n",
       "</style>\n",
       "<table border=\"1\" class=\"dataframe\">\n",
       "  <thead>\n",
       "    <tr style=\"text-align: right;\">\n",
       "      <th></th>\n",
       "      <th>rating</th>\n",
       "      <th>treated</th>\n",
       "    </tr>\n",
       "  </thead>\n",
       "  <tbody>\n",
       "    <tr>\n",
       "      <th>0</th>\n",
       "      <td>5</td>\n",
       "      <td>The Samsung Galaxy s9 is arguably the most bea...</td>\n",
       "    </tr>\n",
       "    <tr>\n",
       "      <th>1</th>\n",
       "      <td>5</td>\n",
       "      <td>great  phone smart features easy to use ,, , p...</td>\n",
       "    </tr>\n",
       "    <tr>\n",
       "      <th>2</th>\n",
       "      <td>4</td>\n",
       "      <td>I really liked the phone. It has good camera w...</td>\n",
       "    </tr>\n",
       "    <tr>\n",
       "      <th>3</th>\n",
       "      <td>3</td>\n",
       "      <td>First of all the camera quality does not disap...</td>\n",
       "    </tr>\n",
       "    <tr>\n",
       "      <th>4</th>\n",
       "      <td>4</td>\n",
       "      <td>As a flagship phone goes, everything is pretty...</td>\n",
       "    </tr>\n",
       "    <tr>\n",
       "      <th>5</th>\n",
       "      <td>2</td>\n",
       "      <td>Had Samsung S9 for just over 1 month, battery ...</td>\n",
       "    </tr>\n",
       "    <tr>\n",
       "      <th>6</th>\n",
       "      <td>5</td>\n",
       "      <td>The camera quality is very good with this phon...</td>\n",
       "    </tr>\n",
       "    <tr>\n",
       "      <th>7</th>\n",
       "      <td>5</td>\n",
       "      <td>Fantastic phone. The camera is great and the s...</td>\n",
       "    </tr>\n",
       "    <tr>\n",
       "      <th>8</th>\n",
       "      <td>4</td>\n",
       "      <td>Camera quality is decent, occasionally plays u...</td>\n",
       "    </tr>\n",
       "    <tr>\n",
       "      <th>9</th>\n",
       "      <td>5</td>\n",
       "      <td>My New Samsung S9 is my go to girl . I simply ...</td>\n",
       "    </tr>\n",
       "  </tbody>\n",
       "</table>\n",
       "</div>"
      ],
      "text/plain": [
       "   rating                                            treated\n",
       "0       5  The Samsung Galaxy s9 is arguably the most bea...\n",
       "1       5  great  phone smart features easy to use ,, , p...\n",
       "2       4  I really liked the phone. It has good camera w...\n",
       "3       3  First of all the camera quality does not disap...\n",
       "4       4  As a flagship phone goes, everything is pretty...\n",
       "5       2  Had Samsung S9 for just over 1 month, battery ...\n",
       "6       5  The camera quality is very good with this phon...\n",
       "7       5  Fantastic phone. The camera is great and the s...\n",
       "8       4  Camera quality is decent, occasionally plays u...\n",
       "9       5  My New Samsung S9 is my go to girl . I simply ..."
      ]
     },
     "execution_count": 26,
     "metadata": {},
     "output_type": "execute_result"
    }
   ],
   "source": [
    "# let's try to remove only those phrases above in the reviews\n",
    "\n",
    "mylist = list(map(str.lower, unique))\n",
    "\n",
    "#create a copy of the dataframe\n",
    "data = df[['review','rating']]\n",
    "\n",
    "#list of strings to be removed from\n",
    "review = data['review']\n",
    "rating = data['rating']\n",
    "zipped = list(zip(review, rating))\n",
    "\n",
    "test = zipped\n",
    "mylist = list(unique)\n",
    "\n",
    "tup1 = []\n",
    "tup2 = []\n",
    "for i in range(len(test)) :\n",
    "    current = test[i][0]\n",
    "    current_rating = test[i][1]\n",
    "    for word in mylist :\n",
    "        if word in current.lower():\n",
    "            #print(word)\n",
    "            current = current.replace(word, '') #remove it?\n",
    "    \n",
    "    tup1.append(current)\n",
    "    tup2.append(current_rating)\n",
    "    \n",
    "test_d = pd.DataFrame({'treated' : tup1, 'rating' :tup2})\n",
    "test_d.head(10)"
   ]
  },
  {
   "cell_type": "code",
   "execution_count": 27,
   "metadata": {},
   "outputs": [
    {
     "name": "stdout",
     "output_type": "stream",
     "text": [
      "negativity length : 13218\n",
      "positivity length : 13218\n",
      "compound length : 13218\n"
     ]
    }
   ],
   "source": [
    "# now that we have removed the double negative phrases from the review, let's get the negativity score and compare the plots.\n",
    "\n",
    "negativity=[]\n",
    "positivity=[]\n",
    "compound=[]\n",
    "sid = SentimentIntensityAnalyzer()\n",
    "\n",
    "for i in range(len(data)):\n",
    "    score=sid.polarity_scores(test_d['treated'][i])\n",
    "    score.keys()\n",
    "    neg=list(score.values())[0]\n",
    "    pos=list(score.values())[2]\n",
    "    comp=list(score.values())[3]\n",
    "    \n",
    "    negativity.append(neg)\n",
    "    positivity.append(pos)\n",
    "    compound.append(comp)\n",
    "\n",
    "print(\"negativity length : \" +str(len(negativity)))\n",
    "print(\"positivity length : \" +str(len(positivity)))\n",
    "print(\"compound length : \" +str(len(compound)))\n",
    "\n",
    "df['treated_negativity'] = negativity\n",
    "df['treated_positivity'] = positivity\n",
    "df['treated_compound'] = compound"
   ]
  },
  {
   "cell_type": "code",
   "execution_count": 28,
   "metadata": {},
   "outputs": [
    {
     "data": {
      "image/png": "[encoded data removed]",
      "text/plain": [
       "<Figure size 864x216 with 1 Axes>"
      ]
     },
     "metadata": {},
     "output_type": "display_data"
    },
    {
     "name": "stdout",
     "output_type": "stream",
     "text": [
      "13218\n"
     ]
    },
    {
     "data": {
      "image/png": "[encoded data removed]",
      "text/plain": [
       "<Figure size 864x216 with 1 Axes>"
      ]
     },
     "metadata": {},
     "output_type": "display_data"
    },
    {
     "name": "stdout",
     "output_type": "stream",
     "text": [
      "13218\n"
     ]
    }
   ],
   "source": [
    "plt.figure(figsize=(12,3))\n",
    "plt.title(\"negativity plot AFTER removing double negative phrases from the review\")\n",
    "plt.plot(df['treated_negativity'], df['rating'], 'x')\n",
    "plt.show()\n",
    "print(len(test_d)) #13218\n",
    "\n",
    "plt.figure(figsize=(12,3))\n",
    "plt.title(\"negativity plot BEFORE removing double negative phrases from the review\")\n",
    "plt.plot(df['negativity'], df['rating'], 'x')\n",
    "plt.show()\n",
    "print(len(df)) #13218"
   ]
  },
  {
   "cell_type": "markdown",
   "metadata": {},
   "source": [
    "> After removing the double negated phrases, we saw some changes in our plot. It removed some of the outliers that had higher negativity scores with higher rating. We now know that treating double negative was one thing to improve our model accuracy based on our dataset.\n"
   ]
  },
  {
   "cell_type": "markdown",
   "metadata": {},
   "source": [
    "# Identifying the features and sentiments\n",
    "\n",
    "We are trying to extract the features of each brand that make them popular and unique to identify which features are driving positive reviews and which features are the ones that the consumers did not like.\n",
    "\n",
    "\n",
    "### Part1.  Most common bi-grams within negative reviews\n",
    "\n",
    "We started with examining the most common phrases that consist of two words (bi-gram) within negative reviews. N-gram will output every combination of n sequencial words in a review. Here, we are adding all of tokenized words into a list and getting the frequencies of n-grams. Since we are creating n-grams with \"N\" sentiment for each product, this will give us **clearer ideas of what customers are NOT happy about**."
   ]
  },
  {
   "cell_type": "code",
   "execution_count": 29,
   "metadata": {},
   "outputs": [],
   "source": [
    "from collections import Counter\n",
    "import re\n",
    "from nltk import ngrams\n",
    "\n",
    "#Preparing separate data-sets for the samsung and apple phones:\n",
    "samsung = df[df['phone']=='galaxy']\n",
    "iphone = df[df['phone']=='iphone']\n",
    "\n",
    "samsung = samsung.reset_index()\n",
    "iphone = iphone.reset_index()\n",
    "\n",
    "# negative sentiment only\n",
    "df_s_n = samsung[samsung['sentiment'] == 'N']['filtered'].apply(lambda x : word_tokenize(x))\n",
    "df_a_n = iphone[iphone['sentiment'] == 'N']['filtered'].apply(lambda x : word_tokenize(x))\n",
    "\n",
    "df_s_n = list(df_s_n)\n",
    "df_a_n = list(df_a_n)"
   ]
  },
  {
   "cell_type": "code",
   "execution_count": 30,
   "metadata": {},
   "outputs": [
    {
     "name": "stdout",
     "output_type": "stream",
     "text": [
      "Negative review most common bigrams for galaxy top 20\n"
     ]
    },
    {
     "data": {
      "text/plain": [
       "[('battery life', 58),\n",
       " ('phone week', 33),\n",
       " ('bought phone', 32),\n",
       " ('week ago', 31),\n",
       " ('weeks ago', 25),\n",
       " ('2 weeks', 23),\n",
       " ('s7 edge', 22),\n",
       " ('Samsung Galaxy', 21),\n",
       " ('got phone', 20),\n",
       " ('old phone', 19),\n",
       " ('month ago', 19),\n",
       " ('3 weeks', 16),\n",
       " ('go back', 15),\n",
       " ('two weeks', 14),\n",
       " ('2 years', 13),\n",
       " ('Battery life', 13),\n",
       " ('phone last', 13),\n",
       " ('new phone', 12),\n",
       " ('Galaxy S9', 12)]"
      ]
     },
     "execution_count": 30,
     "metadata": {},
     "output_type": "execute_result"
    }
   ],
   "source": [
    "# galaxy negative review 2-gram\n",
    "\n",
    "master_2grams_s =[]\n",
    "\n",
    "for i in range(len(df_s_n)) :\n",
    "    for ngram in (ngrams(df_s_n[i], 2)) :\n",
    "        master_2grams_s.append(' '.join(str(i) for i in ngram))\n",
    "\n",
    "print(\"Negative review most common bigrams for galaxy top 20\")\n",
    "Counter(master_2grams_s).most_common()[0:19]\n"
   ]
  },
  {
   "cell_type": "code",
   "execution_count": 31,
   "metadata": {},
   "outputs": [
    {
     "name": "stdout",
     "output_type": "stream",
     "text": [
      "Negative review most common bigrams for iphone top 20\n"
     ]
    },
    {
     "data": {
      "text/plain": [
       "[('iPhone X', 56),\n",
       " ('home button', 26),\n",
       " ('Face ID', 17),\n",
       " ('face recognition', 15),\n",
       " ('iPhone 6', 12),\n",
       " ('iPhone 7', 12),\n",
       " ('facial recognition', 12),\n",
       " ('battery life', 11),\n",
       " ('iPhone 8', 9),\n",
       " ('iphone x', 8),\n",
       " ('screen protector', 8),\n",
       " ('full screen', 8),\n",
       " ('much better', 7),\n",
       " ('screen size', 7),\n",
       " ('phone X', 6),\n",
       " ('think worth', 6),\n",
       " ('use phone', 6),\n",
       " ('phone 2', 6),\n",
       " ('IPhone X', 6)]"
      ]
     },
     "execution_count": 31,
     "metadata": {},
     "output_type": "execute_result"
    }
   ],
   "source": [
    "# iphone negative review 2-gram\n",
    "\n",
    "master_2grams_a =[]\n",
    "\n",
    "for i in range(len(df_a_n)) :\n",
    "    for ngram in (ngrams(df_a_n[i], 2)) :\n",
    "        master_2grams_a.append(' '.join(str(i) for i in ngram))\n",
    "\n",
    "print(\"Negative review most common bigrams for iphone top 20\")\n",
    "Counter(master_2grams_a).most_common()[0:19]\n",
    "\n"
   ]
  },
  {
   "cell_type": "markdown",
   "metadata": {},
   "source": [
    "Here are some of things we can infer from our n-gram analysis.\n",
    "\n",
    "iPhone X\n",
    "\n",
    "1. Users are not happy about home button iPhone X.\n",
    "\n",
    "+ Users thinks iPhone X is expensve.\n",
    "\n",
    "+ Users are not happy about face recognition of iPhone X.\n",
    "\n",
    "\n",
    "Galaxy S9\n",
    "\n",
    "1. users are not happy with battery life Galaxy S9 .\n",
    "\n",
    "+ Many user are writing the review 2 or 3 weeks after they bought the phone.\n",
    "\n",
    "+ Buying cycle can be carefully infered. A consideralble count of review is stating that users upgraded from S7.\n"
   ]
  },
  {
   "cell_type": "markdown",
   "metadata": {},
   "source": [
    "## Part2. Identifying sentiment of 3-grams containing smartphone features/functionalities\n",
    "\n",
    "Our wanted to go step above from the 2-gram analysis. Here we are quantifying the sentiments of features/functionalities. The following steps can be a little confusing, but bare with us for a minute.\n",
    "\n",
    "#### Methodology\n",
    "\n",
    "- divide the dataset to iphone and galaxy\n",
    "\n",
    "\n",
    "- find most common single-grams\n",
    "\n",
    "\n",
    "- hand-pick the features/functionalities of each smartphone\n",
    "\n",
    "\n",
    "- generated 3-grams for each smartphone\n",
    "\n",
    "\n",
    "- sift the 3-grams that contains the hand-picked features/functionalities for each smartphone\n",
    "\n",
    "\n",
    "- put these 3-grams into dictionaries according to their features/functionalities\n",
    "\n",
    "\n",
    "- combine features/functionalities that are simliar to each other\n",
    "    \n",
    "       e.g. camera & photo & picture were combined into \"camera\"\n",
    "\n",
    "\n",
    "- analyze the sentiment of each dinctionary"
   ]
  },
  {
   "cell_type": "code",
   "execution_count": 32,
   "metadata": {},
   "outputs": [],
   "source": [
    "#Preparing separate data-sets for the samsung and apple phones:\n",
    "samsung = df[df['phone']=='galaxy'].reset_index(drop=True)\n",
    "iphone = df[df['phone']=='iphone'].reset_index(drop=True)\n",
    "s_list = samsung['filtered']\n",
    "a_list = iphone['filtered']\n",
    "\n",
    "s_list = list(s_list)\n",
    "a_list = list(a_list)"
   ]
  },
  {
   "cell_type": "code",
   "execution_count": 33,
   "metadata": {},
   "outputs": [],
   "source": [
    "# most common words in galaxy reviews\n",
    "sam = []\n",
    "\n",
    "for i in range(len(s_list)):\n",
    "    for tok in word_tokenize(str(s_list[i]).lower()) :\n",
    "        sam.append(tok)  \n",
    "\n",
    "common_sam = Counter(sam).most_common()\n",
    "\n",
    "# most common words in iphone reviews\n",
    "app = []\n",
    "\n",
    "for i in range(len(a_list)):\n",
    "    for tok in word_tokenize(str(a_list[i]).lower()) :\n",
    "        app.append(tok)  \n",
    "\n",
    "common_app = Counter(app).most_common()"
   ]
  },
  {
   "cell_type": "code",
   "execution_count": 34,
   "metadata": {},
   "outputs": [
    {
     "name": "stdout",
     "output_type": "stream",
     "text": [
      "[('phone', 6211), ('great', 2232), ('love', 2138), ('samsung', 2097), ('s9', 1543), ('camera', 1542), ('good', 1304), ('bought', 1287), ('features', 1116)]\n",
      "[('phone', 2527), ('iphone', 2501), ('love', 1413), ('x', 1152), ('screen', 956), ('apple', 884), ('great', 835), ('like', 822), ('camera', 796)]\n"
     ]
    }
   ],
   "source": [
    "# examples of most common single-grams\n",
    "\n",
    "print(common_sam[0:9])\n",
    "print(common_app[0:9])"
   ]
  },
  {
   "cell_type": "markdown",
   "metadata": {},
   "source": [
    "> We extracted the feaures (functionalities of the phones) based on the counts of certain words in the reviews related to the brand. We went through the most commonly occurring words and identified the features of a smarphone only."
   ]
  },
  {
   "cell_type": "code",
   "execution_count": 35,
   "metadata": {},
   "outputs": [],
   "source": [
    "# already filtered and tokenized lists to process the tri-grams\n",
    "filtered_samsung = df[df['phone']=='galaxy']['filtered'].apply(lambda x : word_tokenize(str(x).lower()))\n",
    "filtered_iphone = df[df['phone']=='iphone']['filtered'].apply(lambda x : word_tokenize(str(x).lower()))\n",
    "\n",
    "filtered_samsung = list(filtered_samsung)\n",
    "filtered_iphone = list(filtered_iphone)"
   ]
  },
  {
   "cell_type": "code",
   "execution_count": 36,
   "metadata": {},
   "outputs": [
    {
     "name": "stderr",
     "output_type": "stream",
     "text": [
      "C:\\Users\\tkjan\\Anaconda3\\lib\\site-packages\\ipykernel_launcher.py:6: DeprecationWarning: generator 'ngrams' raised StopIteration\n",
      "  \n",
      "C:\\Users\\tkjan\\Anaconda3\\lib\\site-packages\\ipykernel_launcher.py:12: DeprecationWarning: generator 'ngrams' raised StopIteration\n",
      "  if sys.path[0] == '':\n"
     ]
    }
   ],
   "source": [
    "#We create a tri-gram from the filtered review set. \n",
    "\n",
    "# create a list of trigrams for samsung features\n",
    "s_tri = []\n",
    "for i in range(len(filtered_samsung)) :\n",
    "    for ngram in (ngrams(filtered_samsung[i], 3)) :\n",
    "        s_tri.append(' '.join(str(i) for i in ngram))\n",
    "\n",
    "# create a list of trigrams for iphone features\n",
    "a_tri = []\n",
    "for i in range(len(filtered_iphone)) :\n",
    "    for ngram in (ngrams(filtered_iphone[i], 3)) :\n",
    "        a_tri.append(' '.join(str(i) for i in ngram))"
   ]
  },
  {
   "cell_type": "code",
   "execution_count": 37,
   "metadata": {},
   "outputs": [],
   "source": [
    "#Features are extracted based on the occurence and count of certain words in the reviews related to the brand.\n",
    "s_features = ['camera', 'screen', 'battery', 'iphone',  'apps', 'button', \n",
    "              'pictures' , 'design', 'sound',  'size',  'price',  'display', 'battery', 'bixby',\n",
    "              'fingerprint']\n",
    "\n",
    "samsung_features = []\n",
    "\n",
    "for item in s_tri :\n",
    "    for feature in s_features :\n",
    "        if feature in item.lower() :\n",
    "            samsung_features.append(item)\n",
    "            \n",
    "# A dictionary is created for every common feature and the tri-gram associated with the same feature.\n",
    "# key is the feature and the associated tri grams are the values.\n",
    "sam_dict = {}\n",
    "s_keys = s_features\n",
    "\n",
    "for key in s_keys:\n",
    "    for j in range(len(samsung_features)):\n",
    "        if key in samsung_features[j] :\n",
    "            if key in sam_dict :\n",
    "                sam_dict[key].append(samsung_features[j])\n",
    "            else :\n",
    "                sam_dict[key] = [samsung_features[j]]\n",
    "                "
   ]
  },
  {
   "cell_type": "code",
   "execution_count": 38,
   "metadata": {},
   "outputs": [],
   "source": [
    "a_features = ['screen','camera', 'button' ,'face', 'size','recognition', 'price', 'battery' ,\n",
    "                   'apps', 'design', 'photos', 'display','pictures', 'videos', 'charging',  'samsung']\n",
    "\n",
    "apple_features = []\n",
    "\n",
    "for item in a_tri :\n",
    "    for feature in a_features :\n",
    "        if feature in item.lower() :\n",
    "            apple_features.append(item)\n",
    "            \n",
    "# A dictionary is created for every common feature and the tri-gram associated with the same:\n",
    "app_dict = {}\n",
    "a_keys = a_features\n",
    "\n",
    "for key in a_keys:\n",
    "    for j in range(len(apple_features)):\n",
    "        if key in apple_features[j] :\n",
    "            if key in app_dict :\n",
    "                app_dict[key].append(apple_features[j])\n",
    "            else :\n",
    "                app_dict[key] = [apple_features[j]]\n",
    "                "
   ]
  },
  {
   "cell_type": "code",
   "execution_count": 39,
   "metadata": {},
   "outputs": [],
   "source": [
    "#histogram of the features of galaxy s9\n",
    "\n",
    "s_hist = []\n",
    "s_hist_feat = []\n",
    "for i, j in common_sam :\n",
    "    if i in s_features :\n",
    "        s_hist.append(j)\n",
    "        s_hist_feat.append(i)\n",
    "\n",
    "a_hist = []\n",
    "a_hist_feat = []\n",
    "for i, j in common_app :\n",
    "    if i in a_features :\n",
    "        a_hist.append(j)\n",
    "        a_hist_feat.append(i)"
   ]
  },
  {
   "cell_type": "code",
   "execution_count": 40,
   "metadata": {},
   "outputs": [
    {
     "data": {
      "image/png": "[encoded data removed]",
      "text/plain": [
       "<Figure size 936x288 with 1 Axes>"
      ]
     },
     "metadata": {},
     "output_type": "display_data"
    },
    {
     "data": {
      "image/png": "[encoded data removed]",
      "text/plain": [
       "<Figure size 936x288 with 1 Axes>"
      ]
     },
     "metadata": {},
     "output_type": "display_data"
    }
   ],
   "source": [
    "# create histogram plots\n",
    "plt.figure(figsize=(13, 4))\n",
    "plt.bar(s_hist_feat, s_hist)\n",
    "plt.title(\"most commonly mentioned features for galaxy s9\")\n",
    "plt.show()\n",
    "\n",
    "plt.figure(figsize=(13,4))\n",
    "plt.bar(a_hist_feat, a_hist, color=\"gray\")\n",
    "plt.title(\"most commonly mentioned features for iphone X\")\n",
    "plt.show()"
   ]
  },
  {
   "cell_type": "markdown",
   "metadata": {},
   "source": [
    "### Using NLTK-Library to Analyze the sentiments\n",
    "\n",
    "nltk.vader library is used in this case to extract the positivity and the negativity score of each features and the combined features in general, this should give us a holistic idea of whether a feature is liked or disliked. This will help us identify the areas of improvement for each brand."
   ]
  },
  {
   "cell_type": "code",
   "execution_count": 41,
   "metadata": {},
   "outputs": [],
   "source": [
    "# Now that we have dictionaries that hold tri-grams associated with the features as values,\n",
    "# we can create lists of individual feature to extract sentiments regarding them\n",
    "\n",
    "s_battery = list(dict.fromkeys(sam_dict[\"battery\"]))\n",
    "s_cam  = list(dict.fromkeys(sam_dict[\"camera\"])) + list(dict.fromkeys(sam_dict[\"pictures\"]))\n",
    "s_price = list(dict.fromkeys(sam_dict[\"price\"]))\n",
    "s_button = list(dict.fromkeys(sam_dict[\"button\"]))\n",
    "s_bixby = list(dict.fromkeys(sam_dict[\"bixby\"]))\n",
    "s_display = list(dict.fromkeys(sam_dict[\"display\"]))\n",
    "s_screen = list(dict.fromkeys(sam_dict[\"screen\"]))\n",
    "s_app = list(dict.fromkeys(sam_dict[\"apps\"]))\n",
    "\n",
    "a_screen  = list(dict.fromkeys(app_dict[\"screen\"]))\n",
    "a_cam  = list(dict.fromkeys(app_dict[\"camera\"])) + list(dict.fromkeys(app_dict[\"pictures\"])) + list(dict.fromkeys(app_dict[\"photos\"]))\n",
    "a_face = list(dict.fromkeys(app_dict[\"face\"])) + list(dict.fromkeys(app_dict[\"recognition\"]))\n",
    "a_price = list(dict.fromkeys(app_dict[\"price\"]))\n",
    "a_button = list(dict.fromkeys(app_dict[\"button\"]))\n",
    "a_design = list(dict.fromkeys(app_dict[\"design\"]))\n",
    "a_display = list(dict.fromkeys(app_dict[\"display\"]))\n",
    "a_app = list(dict.fromkeys(app_dict[\"apps\"]))                                                                                               \n",
    "                                                                                                   "
   ]
  },
  {
   "cell_type": "code",
   "execution_count": 42,
   "metadata": {},
   "outputs": [],
   "source": [
    "# extract the sentiment from the trigrams\n",
    "\n",
    "sid = SentimentIntensityAnalyzer()\n",
    "\n",
    "ss = [s_battery, s_cam, s_price, s_button, s_bixby, s_display,s_screen, s_app]\n",
    "s_feat = [\"battery\", \"camera\", \"price\", \"button\" , \"bixby\", \"display\",\"screen\", \"apps\"]\n",
    "aa = [a_screen, a_cam, a_face, a_price, a_button, a_design, a_display, a_app]\n",
    "a_feat = [\"screen\", \"camera\", \"face\",  \"price\", \"button\" , \"design\", \"display\", \"apps\"]\n",
    "\n",
    "\n",
    "s_pos = []\n",
    "s_neg = []\n",
    "s_com = []\n",
    "for feat in ss :\n",
    "    combined = ' '.join([i for i in feat])\n",
    "    score = sid.polarity_scores(combined)\n",
    "    score.keys()\n",
    "    s_neg.append(list(score.values())[0])\n",
    "    s_pos.append(list(score.values())[2])\n",
    "    s_com.append(list(score.values())[3])\n",
    "\n",
    "a_pos = []\n",
    "a_neg = []\n",
    "a_com = []\n",
    "for feat in aa :\n",
    "    combined = ' '.join([i for i in feat])\n",
    "    score = sid.polarity_scores(combined)\n",
    "    score.keys()\n",
    "    a_neg.append(list(score.values())[0])\n",
    "    a_pos.append(list(score.values())[2])\n",
    "    a_com.append(list(score.values())[3])\n"
   ]
  },
  {
   "cell_type": "code",
   "execution_count": 43,
   "metadata": {},
   "outputs": [
    {
     "data": {
      "text/html": [
       "<div>\n",
       "<style scoped>\n",
       "    .dataframe tbody tr th:only-of-type {\n",
       "        vertical-align: middle;\n",
       "    }\n",
       "\n",
       "    .dataframe tbody tr th {\n",
       "        vertical-align: top;\n",
       "    }\n",
       "\n",
       "    .dataframe thead th {\n",
       "        text-align: right;\n",
       "    }\n",
       "</style>\n",
       "<table border=\"1\" class=\"dataframe\">\n",
       "  <thead>\n",
       "    <tr style=\"text-align: right;\">\n",
       "      <th></th>\n",
       "      <th>features</th>\n",
       "      <th>negativity</th>\n",
       "      <th>positivity</th>\n",
       "    </tr>\n",
       "  </thead>\n",
       "  <tbody>\n",
       "    <tr>\n",
       "      <th>0</th>\n",
       "      <td>battery</td>\n",
       "      <td>0.083</td>\n",
       "      <td>0.276</td>\n",
       "    </tr>\n",
       "    <tr>\n",
       "      <th>1</th>\n",
       "      <td>camera</td>\n",
       "      <td>0.057</td>\n",
       "      <td>0.404</td>\n",
       "    </tr>\n",
       "    <tr>\n",
       "      <th>2</th>\n",
       "      <td>price</td>\n",
       "      <td>0.045</td>\n",
       "      <td>0.386</td>\n",
       "    </tr>\n",
       "    <tr>\n",
       "      <th>3</th>\n",
       "      <td>button</td>\n",
       "      <td>0.124</td>\n",
       "      <td>0.114</td>\n",
       "    </tr>\n",
       "    <tr>\n",
       "      <th>4</th>\n",
       "      <td>bixby</td>\n",
       "      <td>0.111</td>\n",
       "      <td>0.236</td>\n",
       "    </tr>\n",
       "    <tr>\n",
       "      <th>5</th>\n",
       "      <td>display</td>\n",
       "      <td>0.024</td>\n",
       "      <td>0.419</td>\n",
       "    </tr>\n",
       "    <tr>\n",
       "      <th>6</th>\n",
       "      <td>screen</td>\n",
       "      <td>0.052</td>\n",
       "      <td>0.301</td>\n",
       "    </tr>\n",
       "    <tr>\n",
       "      <th>7</th>\n",
       "      <td>apps</td>\n",
       "      <td>0.045</td>\n",
       "      <td>0.252</td>\n",
       "    </tr>\n",
       "  </tbody>\n",
       "</table>\n",
       "</div>"
      ],
      "text/plain": [
       "  features  negativity  positivity\n",
       "0  battery       0.083       0.276\n",
       "1   camera       0.057       0.404\n",
       "2    price       0.045       0.386\n",
       "3   button       0.124       0.114\n",
       "4    bixby       0.111       0.236\n",
       "5  display       0.024       0.419\n",
       "6   screen       0.052       0.301\n",
       "7     apps       0.045       0.252"
      ]
     },
     "execution_count": 43,
     "metadata": {},
     "output_type": "execute_result"
    }
   ],
   "source": [
    "# Samsung Galaxy S9\n",
    "#convert the list to a dataframe\n",
    "s_sentiment = pd.DataFrame({'features' : s_feat, 'positivity' : s_pos, 'negativity' : s_neg})\n",
    "s_sentiment"
   ]
  },
  {
   "cell_type": "code",
   "execution_count": 44,
   "metadata": {},
   "outputs": [
    {
     "data": {
      "text/html": [
       "<div>\n",
       "<style scoped>\n",
       "    .dataframe tbody tr th:only-of-type {\n",
       "        vertical-align: middle;\n",
       "    }\n",
       "\n",
       "    .dataframe tbody tr th {\n",
       "        vertical-align: top;\n",
       "    }\n",
       "\n",
       "    .dataframe thead th {\n",
       "        text-align: right;\n",
       "    }\n",
       "</style>\n",
       "<table border=\"1\" class=\"dataframe\">\n",
       "  <thead>\n",
       "    <tr style=\"text-align: right;\">\n",
       "      <th></th>\n",
       "      <th>features</th>\n",
       "      <th>negativity</th>\n",
       "      <th>positivity</th>\n",
       "    </tr>\n",
       "  </thead>\n",
       "  <tbody>\n",
       "    <tr>\n",
       "      <th>0</th>\n",
       "      <td>screen</td>\n",
       "      <td>0.040</td>\n",
       "      <td>0.258</td>\n",
       "    </tr>\n",
       "    <tr>\n",
       "      <th>1</th>\n",
       "      <td>camera</td>\n",
       "      <td>0.024</td>\n",
       "      <td>0.405</td>\n",
       "    </tr>\n",
       "    <tr>\n",
       "      <th>2</th>\n",
       "      <td>face</td>\n",
       "      <td>0.059</td>\n",
       "      <td>0.225</td>\n",
       "    </tr>\n",
       "    <tr>\n",
       "      <th>3</th>\n",
       "      <td>price</td>\n",
       "      <td>0.055</td>\n",
       "      <td>0.269</td>\n",
       "    </tr>\n",
       "    <tr>\n",
       "      <th>4</th>\n",
       "      <td>button</td>\n",
       "      <td>0.067</td>\n",
       "      <td>0.150</td>\n",
       "    </tr>\n",
       "    <tr>\n",
       "      <th>5</th>\n",
       "      <td>design</td>\n",
       "      <td>0.025</td>\n",
       "      <td>0.313</td>\n",
       "    </tr>\n",
       "    <tr>\n",
       "      <th>6</th>\n",
       "      <td>display</td>\n",
       "      <td>0.022</td>\n",
       "      <td>0.344</td>\n",
       "    </tr>\n",
       "    <tr>\n",
       "      <th>7</th>\n",
       "      <td>apps</td>\n",
       "      <td>0.051</td>\n",
       "      <td>0.209</td>\n",
       "    </tr>\n",
       "  </tbody>\n",
       "</table>\n",
       "</div>"
      ],
      "text/plain": [
       "  features  negativity  positivity\n",
       "0   screen       0.040       0.258\n",
       "1   camera       0.024       0.405\n",
       "2     face       0.059       0.225\n",
       "3    price       0.055       0.269\n",
       "4   button       0.067       0.150\n",
       "5   design       0.025       0.313\n",
       "6  display       0.022       0.344\n",
       "7     apps       0.051       0.209"
      ]
     },
     "execution_count": 44,
     "metadata": {},
     "output_type": "execute_result"
    }
   ],
   "source": [
    "# Appple Iphone X\n",
    "a_sentiment = pd.DataFrame({'features' : a_feat, 'positivity' : a_pos, 'negativity' : a_neg})\n",
    "a_sentiment"
   ]
  },
  {
   "cell_type": "markdown",
   "metadata": {},
   "source": [
    "### Creating plots based on the extracted sentiment by each feature\n",
    "\n",
    "We have extracted positive and negative sentiments per feature of each brand. We have figured out there is a negative and positive score attached with every feature of the phones, which also makes sense because there will always be mixed reviews that needs to be taken into consideration.\n"
   ]
  },
  {
   "cell_type": "code",
   "execution_count": 45,
   "metadata": {},
   "outputs": [
    {
     "data": {
      "image/png": "[encoded data removed]",
      "text/plain": [
       "<Figure size 1008x288 with 2 Axes>"
      ]
     },
     "metadata": {},
     "output_type": "display_data"
    }
   ],
   "source": [
    "# creating positive and negative bar charts - galaxy\n",
    "# before creating the plots, we will sort the values\n",
    "s_sorted_p = s_sentiment.sort_values(by=['positivity'])\n",
    "s_sorted_n = s_sentiment.sort_values(by=['negativity'])\n",
    "\n",
    "f = plt.figure(figsize=(14,4))\n",
    "ax = f.add_subplot(121)\n",
    "ax2 = f.add_subplot(122)\n",
    "\n",
    "#negativity\n",
    "ax.set_title('Negativity Score Per Feature For Galaxy S9')\n",
    "ax.set_xlabel('Features')\n",
    "ax.set_ylabel('Neagtivity Score')\n",
    "ax.bar(s_sorted_n['features'], s_sorted_n['negativity'],width=0.8,color='r',align='center')\n",
    "\n",
    "#positivity\n",
    "ax2.set_title(\"Positivity Score Per Feature For Galaxy S9\")\n",
    "ax2.set_xlabel('Features')\n",
    "ax2.set_ylabel('Neagtivity Score')\n",
    "ax2.bar(s_sorted_p['features'], s_sorted_p['positivity'],width=0.8,color='b',align='center')\n",
    "plt.show()\n"
   ]
  },
  {
   "cell_type": "code",
   "execution_count": 46,
   "metadata": {},
   "outputs": [
    {
     "data": {
      "image/png": "[encoded data removed]",
      "text/plain": [
       "<Figure size 1008x288 with 2 Axes>"
      ]
     },
     "metadata": {},
     "output_type": "display_data"
    }
   ],
   "source": [
    "# creating positive and negative bar charts - iphone\n",
    "\n",
    "a_sorted_p = a_sentiment.sort_values(by=['positivity'])\n",
    "a_sorted_n = a_sentiment.sort_values(by=['negativity'])\n",
    "\n",
    "f = plt.figure(figsize=(14,4))\n",
    "ax = f.add_subplot(121)\n",
    "ax2 = f.add_subplot(122)\n",
    "\n",
    "#negativity\n",
    "ax.set_title('Negativity Score Per Feature For iPhone X')\n",
    "ax.set_xlabel('Features')\n",
    "ax.set_ylabel('Neagtivity Score')\n",
    "ax.bar(a_sorted_n['features'], a_sorted_n['negativity'],width=0.8,color='r',align='center') \n",
    "\n",
    "#positivity\n",
    "ax2.set_title(\"Positivity Score Per Feature For iPhone X\")\n",
    "ax2.set_xlabel('Features')\n",
    "ax2.set_ylabel('Neagtivity Score')\n",
    "ax2.bar(a_sorted_p['features'], a_sorted_p['positivity'],width=0.8,color='b',align='center') \n",
    "\n",
    "plt.show()"
   ]
  },
  {
   "cell_type": "markdown",
   "metadata": {},
   "source": [
    "Our 2-gram analysis and 3-gram sentiment quantification strongly agree. Here is what we can tell from the plot above.\n",
    "\n",
    "#### iPhone X\n",
    "\n",
    "- It is true that users did not like missing \"home button\".\n",
    "\n",
    "- \"face\" is most-likely stating face recognition problem.\n",
    "\n",
    "- \"price\" is a concern in Apple's review. This make senses because iPhone was released at \\$999, and Galaxy S9 was released at \\$719.99.\n",
    "\n",
    "- Our team was curious what \"screen\" meant in the review. After a simple Google search, we found out that there was touch issues and Apple ended up replacing the display module at no cost.\n",
    "\n",
    "     [iPhone X Screen Problem](https://www.apple.com/support/iphone-x-display-module-replacement-program/)\n",
    "        \n",
    "\n",
    "\n",
    "\n",
    "#### Galaxy S9\n",
    "\n",
    "- missing \"button\" has been an issue since S8.\n",
    "\n",
    "- \"camera\" and \"battery\" are known problems of Galaxy S series.\n",
    "\n",
    "- \"bixby\" is Saumsung version of Apple's Siri. Users doesn't seem to like it. (\"bixby\" and \"button\" may be related)\n",
    "\n",
    "     [Bixby Article](https://www.theverge.com/circuitbreaker/2018/8/15/17683218/samsung-bixby-button-interactive-non-customizable-hardware)\n",
    "\n",
    "- \"price\" is still a concern, but not as high as other features."
   ]
  },
  {
   "cell_type": "markdown",
   "metadata": {},
   "source": [
    "## Similar Words\n",
    "\n",
    "- \"simple_preprocess\" lowercases, tokenizes. – the output are final tokens\n",
    "<br>\n",
    "<br>\n",
    "+ \"Word2Vec\" is unsupervised natual language processing. Word2vec is a two-layer neural net that turns words into embeding (unique vectors of numbers for each word). Simply put, its input is a text corpus and its output is a set of vectors.\n",
    "<br>\n",
    "<br>\n",
    "+ \"most_similar\" function takes these vectors and computes vector distance through linear algebra to reveal the most similar words. Fianlly, the distances are normalized and outputs the similarity socre.\n",
    "\n",
    "**How is this going to help us with our analysis?**\n",
    "\n",
    "We will input words to find out what certain words mean to consumers."
   ]
  },
  {
   "cell_type": "code",
   "execution_count": 47,
   "metadata": {},
   "outputs": [
    {
     "data": {
      "text/plain": [
       "(1215744, 1775050)"
      ]
     },
     "execution_count": 47,
     "metadata": {},
     "output_type": "execute_result"
    }
   ],
   "source": [
    "# split the dataframe by phone\n",
    "df_a = df[df['phone']=='iphone'].reset_index(drop=True)\n",
    "df_s = df[df['phone']=='galaxy'].reset_index(drop=True)\n",
    "\n",
    "#training  iPhone X\n",
    "\n",
    "documents_a = []\n",
    "\n",
    "for a in range(len(df_a)):\n",
    "    doc = gensim.utils.simple_preprocess(df_a['review'][a])\n",
    "    documents_a.append(doc)\n",
    "\n",
    "\n",
    "model_a = gensim.models.Word2Vec(documents_a, size=150, window=10, min_count=2, workers=10)\n",
    "model_a.train(documents_a,total_examples=len(documents_a),epochs=10)"
   ]
  },
  {
   "cell_type": "code",
   "execution_count": 48,
   "metadata": {},
   "outputs": [
    {
     "data": {
      "text/plain": [
       "(1160682, 1775050)"
      ]
     },
     "execution_count": 48,
     "metadata": {},
     "output_type": "execute_result"
    }
   ],
   "source": [
    "#training galaxy S9\n",
    "\n",
    "documents_s = []\n",
    "\n",
    "for s in range(len(df_s)):\n",
    "    doc = gensim.utils.simple_preprocess(df_s['review'][s])\n",
    "    documents_s.append(doc)\n",
    "\n",
    "\n",
    "model_s = gensim.models.Word2Vec(documents_s, size=150, window=10, min_count=2, workers=10)\n",
    "model_s.train(documents_a,total_examples=len(documents_s),epochs=10)"
   ]
  },
  {
   "cell_type": "markdown",
   "metadata": {},
   "source": [
    "<u>NOTE: </u>\n",
    "\n",
    "The results won't be same when preprocessed tokens go through vectorization since Word2vec uses random assignment on vectorization. I tried setting the seed, but the result still wasn't exactly consistent. This seems to be a common issue in the gensim user community.\n",
    "\n",
    "<br>\n",
    "<br>\n",
    "\n",
    "Now that we trained iPhone X review and Galaxy S9 reviews separately, let's explore the similar words.\n",
    "<br>\n",
    "\n",
    "<u>**Interesting Outputs**</u>\n",
    "\n",
    "The word, \"slow\" is associated with \"authentication\", \"restart\", \"earphones\", \"gps\" in iPhone X.\n",
    "\n",
    "The word, \"slow\" is associated with \"sensor\", \"scanner\", \"zoom\" \"loading\", \"selfie\" in Galaxy S9.\n",
    "\n",
    "<br>\n",
    "\n",
    "The word, \"terrible\" is associated with \"accessory\", \"resistant\", \"downloading\", \"cables\" in iPhone X.\n",
    "\n",
    "The word, \"terrible\" is associated with \"filming\", \"scanner\", \"loading\", \"audio\" in Galaxy S9."
   ]
  },
  {
   "cell_type": "code",
   "execution_count": 51,
   "metadata": {},
   "outputs": [
    {
     "data": {
      "application/vnd.jupyter.widget-view+json": {
       "model_id": "f2a9d74685ac43bea399550a9de30ca9",
       "version_major": 2,
       "version_minor": 0
      },
      "text/html": [
       "<p>Failed to display Jupyter Widget of type <code>Text</code>.</p>\n",
       "<p>\n",
       "  If you're reading this message in the Jupyter Notebook or JupyterLab Notebook, it may mean\n",
       "  that the widgets JavaScript is still loading. If this message persists, it\n",
       "  likely means that the widgets JavaScript library is either not installed or\n",
       "  not enabled. See the <a href=\"https://ipywidgets.readthedocs.io/en/stable/user_install.html\">Jupyter\n",
       "  Widgets Documentation</a> for setup instructions.\n",
       "</p>\n",
       "<p>\n",
       "  If you're reading this message in another frontend (for example, a static\n",
       "  rendering on GitHub or <a href=\"https://nbviewer.jupyter.org/\">NBViewer</a>),\n",
       "  it may mean that your frontend doesn't currently support widgets.\n",
       "</p>\n"
      ],
      "text/plain": [
       "Text(value='', description='Input: ', placeholder='Type a word')"
      ]
     },
     "metadata": {},
     "output_type": "display_data"
    },
    {
     "name": "stdout",
     "output_type": "stream",
     "text": [
      "====================\n",
      "input word:  slow\n",
      "======================================================================================================\n",
      "--------------------\n",
      "iPhone X\n",
      "--------------------\n",
      "[('dark', 0.8336930274963379), ('vibration', 0.8231613636016846), ('charm', 0.8151503801345825), ('wear', 0.804325520992279), ('unexpectedly', 0.7970913648605347), ('authentication', 0.796647310256958), ('eye', 0.794583797454834), ('buggy', 0.7927024960517883), ('respond', 0.7870962619781494), ('biometrics', 0.7839162945747375)]\n",
      "--------------------\n",
      "Galaxy S9\n",
      "--------------------\n",
      "[('zoom', 0.8512988686561584), ('detection', 0.8452505469322205), ('bubbles', 0.8221590518951416), ('ability', 0.8159254789352417), ('handy', 0.8155980110168457), ('pack', 0.8076636791229248), ('drained', 0.8038185834884644), ('auto', 0.8031788468360901), ('speaker', 0.8031097054481506), ('unlocking', 0.7908998727798462)]\n",
      "======================================================================================================\n"
     ]
    }
   ],
   "source": [
    "from IPython.display import display, clear_output\n",
    "import ipywidgets as widgets\n",
    "\n",
    "# Create text widget for output\n",
    "word_output = widgets.Text()\n",
    "\n",
    "# Create text widget for input\n",
    "word_input = widgets.Text(\n",
    "    placeholder=\"Type a word\",\n",
    "    description='Input: ',\n",
    "    disabled=False\n",
    "    )\n",
    "\n",
    "# Define function to bind value of the input to the output variable \n",
    "def bind_input_to_output(sender):\n",
    "    dd = model_s.wv.most_similar(positive= word_input.value)\n",
    "    ss = model_a.wv.most_similar(positive= word_input.value)\n",
    "    print('====================')\n",
    "    print('input word: ',word_input.value)\n",
    "    print('======================================================================================================')\n",
    "    print('--------------------')\n",
    "    print('iPhone X')\n",
    "    print('--------------------')\n",
    "    print(ss)\n",
    "    print('--------------------')\n",
    "    print('Galaxy S9')\n",
    "    print('--------------------')\n",
    "    print(dd)\n",
    "    print('======================================================================================================')\n",
    "# Tell the text input widget to call bind_input_to_output() on submit\n",
    "word_input.on_submit(bind_input_to_output)\n",
    "\n",
    "# Display input text box widget for input\n",
    "display(word_input)\n",
    "\n"
   ]
  },
  {
   "cell_type": "markdown",
   "metadata": {},
   "source": [
    "## Model Building\n",
    "\n",
    "### OLS Regression model using features we created\n",
    "\n",
    "Let's start out with a simple OLS regression. We picked independent variables, \"positivity\" and \"negativity\". We are also replacing \"negativity\" with \"treated_negativity\" to see if the accuracy can be improved.\n"
   ]
  },
  {
   "cell_type": "code",
   "execution_count": 52,
   "metadata": {},
   "outputs": [
    {
     "data": {
      "text/plain": [
       "array([[ 1.        , -0.39071088],\n",
       "       [-0.39071088,  1.        ]])"
      ]
     },
     "execution_count": 52,
     "metadata": {},
     "output_type": "execute_result"
    }
   ],
   "source": [
    "# Passes multicollinearity check. The correlation is mild.\n",
    "\n",
    "np.corrcoef(df['positivity'], df['treated_negativity'])"
   ]
  },
  {
   "cell_type": "code",
   "execution_count": 53,
   "metadata": {},
   "outputs": [],
   "source": [
    "train, test = train_test_split(df, test_size=0.30, random_state=42)"
   ]
  },
  {
   "cell_type": "code",
   "execution_count": 54,
   "metadata": {
    "scrolled": false
   },
   "outputs": [
    {
     "name": "stdout",
     "output_type": "stream",
     "text": [
      "                            OLS Regression Results                            \n",
      "==============================================================================\n",
      "Dep. Variable:                 rating   R-squared:                       0.264\n",
      "Model:                            OLS   Adj. R-squared:                  0.264\n",
      "Method:                 Least Squares   F-statistic:                     1659.\n",
      "Date:                Sun, 21 Apr 2019   Prob (F-statistic):               0.00\n",
      "Time:                        16:38:46   Log-Likelihood:                -11087.\n",
      "No. Observations:                9252   AIC:                         2.218e+04\n",
      "Df Residuals:                    9249   BIC:                         2.220e+04\n",
      "Df Model:                           2                                         \n",
      "Covariance Type:            nonrobust                                         \n",
      "======================================================================================\n",
      "                         coef    std err          t      P>|t|      [0.025      0.975]\n",
      "--------------------------------------------------------------------------------------\n",
      "Intercept              4.2970      0.019    226.067      0.000       4.260       4.334\n",
      "positivity             1.4714      0.055     26.988      0.000       1.365       1.578\n",
      "treated_negativity    -5.4257      0.149    -36.391      0.000      -5.718      -5.133\n",
      "==============================================================================\n",
      "Omnibus:                     3197.224   Durbin-Watson:                   1.971\n",
      "Prob(Omnibus):                  0.000   Jarque-Bera (JB):            12240.841\n",
      "Skew:                          -1.702   Prob(JB):                         0.00\n",
      "Kurtosis:                       7.491   Cond. No.                         18.8\n",
      "==============================================================================\n",
      "\n",
      "Warnings:\n",
      "[1] Standard Errors assume that the covariance matrix of the errors is correctly specified.\n"
     ]
    }
   ],
   "source": [
    "\n",
    "model1 = smf.ols('rating ~ positivity + treated_negativity', data = train).fit()\n",
    "print(model1.summary())"
   ]
  },
  {
   "cell_type": "code",
   "execution_count": 55,
   "metadata": {},
   "outputs": [
    {
     "name": "stdout",
     "output_type": "stream",
     "text": [
      "=========================================================\n",
      "treated_negativity model\n",
      "=========================================================\n",
      "Accuracy 0.6293494704992436\n",
      "RMSE:  0.8527491066134608\n"
     ]
    },
    {
     "data": {
      "text/plain": [
       "array([[   0,    1,    1,    0,    0,    0],\n",
       "       [   5,    0,    6,    2,    2,    0],\n",
       "       [  26,   18,   31,   34,   44,    0],\n",
       "       [  82,   66,  168,  323,  676,    0],\n",
       "       [  10,   11,   29,  286, 2142,    0],\n",
       "       [   0,    0,    0,    0,    3,    0]], dtype=int64)"
      ]
     },
     "execution_count": 55,
     "metadata": {},
     "output_type": "execute_result"
    }
   ],
   "source": [
    "#predict\n",
    "pred1=round(model1.predict(test))\n",
    "\n",
    "print('=========================================================')\n",
    "print('treated_negativity model')\n",
    "print('=========================================================')\n",
    "print('Accuracy', accuracy_score(y_true = test['rating'], y_pred = pred1))\n",
    "print('RMSE: ', np.sqrt(mean_squared_error(pred1, test['rating'])))\n",
    "confusion_matrix(pred1, test['rating'])"
   ]
  },
  {
   "cell_type": "code",
   "execution_count": 56,
   "metadata": {},
   "outputs": [
    {
     "name": "stdout",
     "output_type": "stream",
     "text": [
      "=========================================================\n",
      "negativity model\n",
      "=========================================================\n",
      "Accuracy:  0.6200201714573877\n",
      "RMSE:  0.855553481647791\n"
     ]
    },
    {
     "data": {
      "text/plain": [
       "array([[   0,    1,    0,    0,    0,    0],\n",
       "       [   2,    0,    3,    1,    0,    0],\n",
       "       [  27,   11,   25,   21,   38,    0],\n",
       "       [  85,   74,  180,  355,  744,    0],\n",
       "       [   9,   10,   27,  268, 2079,    0],\n",
       "       [   0,    0,    0,    0,    6,    0]], dtype=int64)"
      ]
     },
     "execution_count": 56,
     "metadata": {},
     "output_type": "execute_result"
    }
   ],
   "source": [
    "model2 = smf.ols('rating ~ positivity + negativity', data = train).fit()\n",
    "\n",
    "print('=========================================================')\n",
    "print('negativity model')\n",
    "print('=========================================================')\n",
    "pred2=round(model2.predict(test))\n",
    "print('Accuracy: ', accuracy_score(y_true = test['rating'], y_pred = pred2))\n",
    "print('RMSE: ', np.sqrt(mean_squared_error(pred2, test['rating'])))\n",
    "confusion_matrix(pred2, test['rating'])"
   ]
  },
  {
   "cell_type": "markdown",
   "metadata": {},
   "source": [
    "> The \"treated_negativity\" model looks performed better as accuracy is higher and RMSE is lower. Coefficients are statistically significant, and this model explains 26% of the variability. It has an accuracy score of 63%. The problem with this model is that predicted values have up to 6-stars because we simply rounded the prediction. We can do better than this."
   ]
  },
  {
   "cell_type": "markdown",
   "metadata": {},
   "source": [
    "### Classification Models\n",
    "\n",
    "\n",
    "To increase our prediction accuracy, iPhone and Galaxy reviews were trained separately.\n",
    "\n",
    "Lemmatization was performed to increase our accuracy. Lancaster method worked better in our models.\n",
    "\n",
    "https://www.datacamp.com/community/tutorials/stemming-lemmatization-python\n",
    "\n",
    "<br>\n",
    "\n",
    "#### Methodology\n",
    "\n",
    "- \"CountVectorizer\" converts a collection of text documents to a matrix of token counts.\n",
    "\n",
    "- \"fit_transform\" learns the vocabulary dictionary and it returns a Document-Term matrix. \n",
    "\n",
    "- \"TfidfTransformer\" transforms a count matrix to a normalized tf or tf-idf representation\n",
    "\n",
    "        TF-IDF means term-frequency times inverse document-frequency.\n",
    "        This scales down the impact of tokens that occur very frequently in a given corpus and that are less informative.\n",
    "    \n",
    "    \n",
    "<u>Models Used: </u>\n",
    "\n",
    "- MultinomialNB via GridSearch\n",
    "\n",
    "- SGDClassifier (Linear SVM) via GridSearch\n",
    "<br>\n",
    "<br>\n",
    "\n",
    "\\*GridSearch is a optimization tool that tests a few parameters."
   ]
  },
  {
   "cell_type": "code",
   "execution_count": 57,
   "metadata": {
    "scrolled": true
   },
   "outputs": [],
   "source": [
    "#### training Galaxy S9 #################\n",
    "\n",
    "# Lemmatizing\n",
    "porter = PorterStemmer()\n",
    "lancaster = LancasterStemmer()\n",
    "\n",
    "X_all_s=[]\n",
    "\n",
    "for i in range(len(df_s)):\n",
    "    X_all_s.append(lancaster.stem(df_s['review'][i]))"
   ]
  },
  {
   "cell_type": "code",
   "execution_count": 58,
   "metadata": {},
   "outputs": [],
   "source": [
    "    \n",
    "X_train_s, X_test_s, Y_train_s, Y_test_s = train_test_split(X_all_s, df_s['rating'], test_size=0.30, random_state=42)"
   ]
  },
  {
   "cell_type": "code",
   "execution_count": 59,
   "metadata": {},
   "outputs": [
    {
     "name": "stderr",
     "output_type": "stream",
     "text": [
      "C:\\Users\\tkjan\\Anaconda3\\lib\\site-packages\\sklearn\\model_selection\\_split.py:2053: FutureWarning: You should specify a value for 'cv' instead of relying on the default value. The default value will change from 3 to 5 in version 0.22.\n",
      "  warnings.warn(CV_WARNING, FutureWarning)\n"
     ]
    },
    {
     "data": {
      "text/plain": [
       "0.7528221668377071"
      ]
     },
     "execution_count": 59,
     "metadata": {},
     "output_type": "execute_result"
    }
   ],
   "source": [
    "# MultinomialNB via GirdSearch\n",
    "\n",
    "text_clf = Pipeline([('vect', CountVectorizer()),\n",
    "                     ('tfidf', TfidfTransformer()),\n",
    "                     ('clf', MultinomialNB()),\n",
    "])\n",
    "\n",
    "parameters = {'vect__ngram_range': [(1, 1), (1, 2)],\n",
    "             'tfidf__use_idf': (True, False),\n",
    "              'clf__alpha': (1e-2, 0.0005),\n",
    "}\n",
    "\n",
    "s_text_clf = text_clf.fit(X_train_s, Y_train_s)\n",
    "\n",
    "s_gs_clf = GridSearchCV(s_text_clf, parameters, n_jobs=-1)\n",
    "s_gs_clf = s_gs_clf.fit(X_train_s, Y_train_s)\n",
    "\n",
    "s_tr_gNB = s_gs_clf.best_score_\n",
    "s_tr_gNB"
   ]
  },
  {
   "cell_type": "code",
   "execution_count": 60,
   "metadata": {
    "scrolled": true
   },
   "outputs": [
    {
     "data": {
      "text/plain": [
       "0.7506839945280438"
      ]
     },
     "execution_count": 60,
     "metadata": {},
     "output_type": "execute_result"
    }
   ],
   "source": [
    "pred_GridNB_s = s_gs_clf.predict(X_test_s)\n",
    "\n",
    "s_te_gNB = accuracy_score(y_true = Y_test_s, y_pred = pred_GridNB_s)\n",
    "s_te_gNB"
   ]
  },
  {
   "cell_type": "code",
   "execution_count": 61,
   "metadata": {},
   "outputs": [
    {
     "name": "stderr",
     "output_type": "stream",
     "text": [
      "C:\\Users\\tkjan\\Anaconda3\\lib\\site-packages\\sklearn\\model_selection\\_split.py:2053: FutureWarning: You should specify a value for 'cv' instead of relying on the default value. The default value will change from 3 to 5 in version 0.22.\n",
      "  warnings.warn(CV_WARNING, FutureWarning)\n",
      "C:\\Users\\tkjan\\Anaconda3\\lib\\site-packages\\sklearn\\linear_model\\stochastic_gradient.py:152: DeprecationWarning: n_iter parameter is deprecated in 0.19 and will be removed in 0.21. Use max_iter and tol instead.\n",
      "  DeprecationWarning)\n"
     ]
    },
    {
     "data": {
      "text/plain": [
       "0.72789913502419"
      ]
     },
     "execution_count": 61,
     "metadata": {},
     "output_type": "execute_result"
    }
   ],
   "source": [
    "# SVM via GridSearch\n",
    "\n",
    "text_clf_svm = Pipeline([('vect', CountVectorizer()),\n",
    "                     ('tfidf', TfidfTransformer()),\n",
    "                     ('clf-svm', SGDClassifier(loss='hinge', penalty='l2',\n",
    "                                           alpha=1e-3, n_iter=5, random_state=42)),\n",
    "])\n",
    "\n",
    "parameters_svm = {'vect__ngram_range': [(1, 1), (1, 2)],\n",
    "              'tfidf__use_idf': (True, False),\n",
    "              'clf-svm__alpha': (1e-2, 1e-3),\n",
    "}\n",
    "\n",
    "s_gs_clf_svm = GridSearchCV(text_clf_svm, parameters_svm, n_jobs=-1)\n",
    "s_gs_clf_svm = s_gs_clf_svm.fit(X_train_s, Y_train_s)\n",
    "s_tr_gSVM = s_gs_clf_svm.best_score_\n",
    "s_tr_gSVM\n",
    "#gs_clf_svm.best_params_"
   ]
  },
  {
   "cell_type": "code",
   "execution_count": 62,
   "metadata": {},
   "outputs": [
    {
     "data": {
      "text/plain": [
       "0.7185362517099864"
      ]
     },
     "execution_count": 62,
     "metadata": {},
     "output_type": "execute_result"
    }
   ],
   "source": [
    "pred_GridSVM_s = s_gs_clf_svm.predict(X_test_s)\n",
    "\n",
    "s_te_gSVM = accuracy_score(y_true = Y_test_s, y_pred = pred_GridSVM_s)\n",
    "s_te_gSVM"
   ]
  },
  {
   "cell_type": "code",
   "execution_count": 63,
   "metadata": {},
   "outputs": [
    {
     "name": "stderr",
     "output_type": "stream",
     "text": [
      "C:\\Users\\tkjan\\Anaconda3\\lib\\site-packages\\sklearn\\model_selection\\_split.py:2053: FutureWarning: You should specify a value for 'cv' instead of relying on the default value. The default value will change from 3 to 5 in version 0.22.\n",
      "  warnings.warn(CV_WARNING, FutureWarning)\n",
      "C:\\Users\\tkjan\\Anaconda3\\lib\\site-packages\\sklearn\\model_selection\\_split.py:2053: FutureWarning: You should specify a value for 'cv' instead of relying on the default value. The default value will change from 3 to 5 in version 0.22.\n",
      "  warnings.warn(CV_WARNING, FutureWarning)\n",
      "C:\\Users\\tkjan\\Anaconda3\\lib\\site-packages\\sklearn\\linear_model\\stochastic_gradient.py:152: DeprecationWarning: n_iter parameter is deprecated in 0.19 and will be removed in 0.21. Use max_iter and tol instead.\n",
      "  DeprecationWarning)\n"
     ]
    }
   ],
   "source": [
    "#### training iPhone X #############\n",
    "\n",
    "porter = PorterStemmer()\n",
    "lancaster = LancasterStemmer()\n",
    "\n",
    "X_all=[]\n",
    "\n",
    "for i in range(len(df_a)):\n",
    "    X_all.append(lancaster.stem(df_a['review'][i]))\n",
    "    \n",
    "    \n",
    "X_train, X_test, Y_train, Y_test = train_test_split(X_all, df_a['rating'], test_size=0.30, random_state=42)\n",
    "\n",
    "# MultinomialNB via GirdSearch\n",
    "\n",
    "text_clf = Pipeline([('vect', CountVectorizer()),\n",
    "                     ('tfidf', TfidfTransformer()),\n",
    "                     ('clf', MultinomialNB()),\n",
    "])\n",
    "\n",
    "parameters = {'vect__ngram_range': [(1, 1), (1, 2)],\n",
    "             'tfidf__use_idf': (True, False),\n",
    "              'clf__alpha': (1e-2, 0.0005),\n",
    "}\n",
    "\n",
    "text_clf = text_clf.fit(X_train, Y_train)\n",
    "\n",
    "gs_clf = GridSearchCV(text_clf, parameters, n_jobs=-1)\n",
    "gs_clf = gs_clf.fit(X_train, Y_train)\n",
    "\n",
    "a_tr_gNB = gs_clf.best_score_   ###\n",
    "\n",
    "a_pred_GridNB = gs_clf.predict(X_test)\n",
    "a_te_gNB = accuracy_score(y_true = Y_test, y_pred = a_pred_GridNB)   ###\n",
    "\n",
    "\n",
    "# SVM via GridSearch\n",
    "\n",
    "text_clf_svm = Pipeline([('vect', CountVectorizer()),\n",
    "                     ('tfidf', TfidfTransformer()),\n",
    "                     ('clf-svm', SGDClassifier(loss='hinge', penalty='l2',\n",
    "                                           alpha=1e-3, n_iter=5, random_state=42)),\n",
    "])\n",
    "\n",
    "parameters_svm = {'vect__ngram_range': [(1, 1), (1, 2)],\n",
    "              'tfidf__use_idf': (True, False),\n",
    "              'clf-svm__alpha': (1e-2, 1e-3),\n",
    "}\n",
    "\n",
    "gs_clf_svm_a = GridSearchCV(text_clf_svm, parameters_svm, n_jobs=-1)\n",
    "gs_clf_svm_a = gs_clf_svm_a.fit(X_train, Y_train)\n",
    "a_tr_gSVM = gs_clf_svm_a.best_score_    ###\n",
    "\n",
    "pred_GridSVM_a = gs_clf_svm_a.predict(X_test)\n",
    "a_te_gSVM = accuracy_score(y_true = Y_test, y_pred = pred_GridSVM_a)  ###"
   ]
  },
  {
   "cell_type": "markdown",
   "metadata": {},
   "source": [
    "### Accuracy"
   ]
  },
  {
   "cell_type": "code",
   "execution_count": 64,
   "metadata": {},
   "outputs": [
    {
     "data": {
      "text/html": [
       "<div>\n",
       "<style scoped>\n",
       "    .dataframe tbody tr th:only-of-type {\n",
       "        vertical-align: middle;\n",
       "    }\n",
       "\n",
       "    .dataframe tbody tr th {\n",
       "        vertical-align: top;\n",
       "    }\n",
       "\n",
       "    .dataframe thead th {\n",
       "        text-align: right;\n",
       "    }\n",
       "</style>\n",
       "<table border=\"1\" class=\"dataframe\">\n",
       "  <thead>\n",
       "    <tr style=\"text-align: right;\">\n",
       "      <th></th>\n",
       "      <th>GalaxyS9</th>\n",
       "      <th>iPhoneX</th>\n",
       "    </tr>\n",
       "  </thead>\n",
       "  <tbody>\n",
       "    <tr>\n",
       "      <th>GridNB-Train</th>\n",
       "      <td>0.752822</td>\n",
       "      <td>0.753599</td>\n",
       "    </tr>\n",
       "    <tr>\n",
       "      <th>GridNB-Test</th>\n",
       "      <td>0.750684</td>\n",
       "      <td>0.731286</td>\n",
       "    </tr>\n",
       "    <tr>\n",
       "      <th>GridSVM-Train</th>\n",
       "      <td>0.727899</td>\n",
       "      <td>0.749074</td>\n",
       "    </tr>\n",
       "    <tr>\n",
       "      <th>GridSVM-Test</th>\n",
       "      <td>0.718536</td>\n",
       "      <td>0.740883</td>\n",
       "    </tr>\n",
       "  </tbody>\n",
       "</table>\n",
       "</div>"
      ],
      "text/plain": [
       "               GalaxyS9   iPhoneX\n",
       "GridNB-Train   0.752822  0.753599\n",
       "GridNB-Test    0.750684  0.731286\n",
       "GridSVM-Train  0.727899  0.749074\n",
       "GridSVM-Test   0.718536  0.740883"
      ]
     },
     "execution_count": 64,
     "metadata": {},
     "output_type": "execute_result"
    }
   ],
   "source": [
    "# Model accuracies\n",
    "\n",
    "pd.DataFrame({'iPhoneX' : [a_tr_gNB, a_te_gNB, a_tr_gSVM, a_te_gSVM], \n",
    "              'GalaxyS9' : [s_tr_gNB, s_te_gNB, s_tr_gSVM, s_te_gSVM]},\n",
    "            index = ['GridNB-Train', 'GridNB-Test', 'GridSVM-Train', 'GridSVM-Test'])"
   ]
  },
  {
   "cell_type": "markdown",
   "metadata": {},
   "source": [
    "### Prediction\n",
    "\n",
    "Because we scraped a far more Samsung S9 review, we will create a prediction system using trained NaiveBayes model for Galaxy S9. Simply, type a possible Galaxy S9 review in the below input box."
   ]
  },
  {
   "cell_type": "code",
   "execution_count": 65,
   "metadata": {},
   "outputs": [
    {
     "data": {
      "application/vnd.jupyter.widget-view+json": {
       "model_id": "21c3797e706d44889f312e5f57bacb2c",
       "version_major": 2,
       "version_minor": 0
      },
      "text/html": [
       "<p>Failed to display Jupyter Widget of type <code>Text</code>.</p>\n",
       "<p>\n",
       "  If you're reading this message in the Jupyter Notebook or JupyterLab Notebook, it may mean\n",
       "  that the widgets JavaScript is still loading. If this message persists, it\n",
       "  likely means that the widgets JavaScript library is either not installed or\n",
       "  not enabled. See the <a href=\"https://ipywidgets.readthedocs.io/en/stable/user_install.html\">Jupyter\n",
       "  Widgets Documentation</a> for setup instructions.\n",
       "</p>\n",
       "<p>\n",
       "  If you're reading this message in another frontend (for example, a static\n",
       "  rendering on GitHub or <a href=\"https://nbviewer.jupyter.org/\">NBViewer</a>),\n",
       "  it may mean that your frontend doesn't currently support widgets.\n",
       "</p>\n"
      ],
      "text/plain": [
       "Text(value='', description='Input: ', placeholder='Type a review')"
      ]
     },
     "metadata": {},
     "output_type": "display_data"
    }
   ],
   "source": [
    "###### GalaxyS9 #########\n",
    "\n",
    "word_output1 = widgets.Text()\n",
    "\n",
    "word_input1 = widgets.Text(\n",
    "    placeholder=\"Type a review\",\n",
    "    description='Input: ',\n",
    "    disabled=False\n",
    "    )\n",
    "\n",
    "def bind_input_to_output1(sender):\n",
    "    print('================================')\n",
    "    sss=lancaster.stem(word_input1.value)\n",
    "    ss=s_gs_clf.predict([sss])[0]\n",
    "    print('Input :', word_input1.value)\n",
    "    print('Predicted Rating is: ', ss)\n",
    "    print('================================================================================================================')\n",
    "\n",
    "word_input1.on_submit(bind_input_to_output1)\n",
    "\n",
    "display(word_input1)"
   ]
  },
  {
   "cell_type": "markdown",
   "metadata": {},
   "source": [
    "## Conclusion and Limitation\n",
    "\n",
    "\n",
    "#### Apple Inc.\n",
    "\n",
    "- Starting iPhone X generation, Apple got rid of a home button which was considered a bold move in the industry.\n",
    "\n",
    "- It is evident that users miss home button. It will be intereting to see if users have gotten used to not having a home button in the later generation (more scraping). \n",
    "\n",
    "- Face recognition needs to be more responsive and sensitive. \n",
    "\n",
    "- The consensus is that iPhones are priced high.\n",
    "\n",
    "#### Samsung Electronics\n",
    "\n",
    "- The battery drainage issue should be fixed.\n",
    "\n",
    "- The sensors (authentication - fingerprint scanner and face recognition) needs to be more responsive.\n",
    "\n",
    "- camera needs to be improved.\n",
    "\n",
    "- come up with better algorithms for Bixby to improve its user interaction."
   ]
  },
  {
   "cell_type": "markdown",
   "metadata": {},
   "source": [
    "         \n",
    "#### More data\n",
    "\n",
    "As we saw in our prediction model, only 9745 reviews were used to train and test. In order to increase our prediction accuracy, we need far more reviews to train a usuful model. It will be interesting to see how these products evolve from generation to generation in users' reviews.\n",
    "\n",
    "#### Language is Less Intuitive and messy\n",
    "\n",
    "Consider following reviews."
   ]
  },
  {
   "cell_type": "code",
   "execution_count": 66,
   "metadata": {},
   "outputs": [
    {
     "name": "stdout",
     "output_type": "stream",
     "text": [
      "I bought this a month ago and I'm really happy with the product\n",
      "Great all round phone. Looks great, feels great, and works well. Can't see me wanting to let this one go.\n"
     ]
    }
   ],
   "source": [
    "print(df['review'][8098])\n",
    "print(df['review'][9368])"
   ]
  },
  {
   "cell_type": "markdown",
   "metadata": {},
   "source": [
    "- The first review is a 5-star rating and this sentence is straightforward and easy to understand.\n",
    "\n",
    "- The second review is also a 5-star review. The last sentence is starting with a negative word \"Can't\". And you won't know whether this is a positive or negative sentence until you see the word, \"go\"."
   ]
  }
 ],
 "metadata": {
  "kernelspec": {
   "display_name": "Python 3",
   "language": "python",
   "name": "python3"
  },
  "language_info": {
   "codemirror_mode": {
    "name": "ipython",
    "version": 3
   },
   "file_extension": ".py",
   "mimetype": "text/x-python",
   "name": "python",
   "nbconvert_exporter": "python",
   "pygments_lexer": "ipython3",
   "version": "3.6.8"
  }
 },
 "nbformat": 4,
 "nbformat_minor": 2
}
