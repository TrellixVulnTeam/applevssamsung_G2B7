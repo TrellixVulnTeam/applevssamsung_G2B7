{
 "cells": [
  {
   "cell_type": "markdown",
   "metadata": {},
   "source": [
    "# FEATURE EXTRACTION AND IDENTIFICATION:\n",
    "\n",
    "** We are trying to extract the features of each brand that make them popular and unique, in a sense to identify which features are driving positive reviews and which features are the ones that the consumer dosen't like**"
   ]
  },
  {
   "cell_type": "markdown",
   "metadata": {},
   "source": [
    "* The word pixel, clearity and focus were combined into $Camera$ , picture and pictures were combined together into $picture$ , processor was combined with $speed$ and android was combined with $software$. *"
   ]
  },
  {
   "cell_type": "code",
   "execution_count": 27,
   "metadata": {},
   "outputs": [],
   "source": [
    "#Loading the required libraries and the csv file created:\n",
    "\n",
    "import pandas as pd\n",
    "import re\n",
    "import nltk\n",
    "from nltk.corpus import stopwords\n",
    "\n",
    "data = pd.read_csv(\"final_data_labeled.csv\")"
   ]
  },
  {
   "cell_type": "code",
   "execution_count": 28,
   "metadata": {},
   "outputs": [
    {
     "data": {
      "text/html": [
       "<div>\n",
       "<style scoped>\n",
       "    .dataframe tbody tr th:only-of-type {\n",
       "        vertical-align: middle;\n",
       "    }\n",
       "\n",
       "    .dataframe tbody tr th {\n",
       "        vertical-align: top;\n",
       "    }\n",
       "\n",
       "    .dataframe thead th {\n",
       "        text-align: right;\n",
       "    }\n",
       "</style>\n",
       "<table border=\"1\" class=\"dataframe\">\n",
       "  <thead>\n",
       "    <tr style=\"text-align: right;\">\n",
       "      <th>rating</th>\n",
       "      <th>1</th>\n",
       "      <th>2</th>\n",
       "      <th>3</th>\n",
       "      <th>4</th>\n",
       "      <th>5</th>\n",
       "    </tr>\n",
       "    <tr>\n",
       "      <th>phone</th>\n",
       "      <th></th>\n",
       "      <th></th>\n",
       "      <th></th>\n",
       "      <th></th>\n",
       "      <th></th>\n",
       "    </tr>\n",
       "  </thead>\n",
       "  <tbody>\n",
       "    <tr>\n",
       "      <th>galaxy</th>\n",
       "      <td>277</td>\n",
       "      <td>252</td>\n",
       "      <td>535</td>\n",
       "      <td>1673</td>\n",
       "      <td>7037</td>\n",
       "    </tr>\n",
       "    <tr>\n",
       "      <th>iphone</th>\n",
       "      <td>127</td>\n",
       "      <td>97</td>\n",
       "      <td>179</td>\n",
       "      <td>501</td>\n",
       "      <td>2572</td>\n",
       "    </tr>\n",
       "  </tbody>\n",
       "</table>\n",
       "</div>"
      ],
      "text/plain": [
       "rating    1    2    3     4     5\n",
       "phone                            \n",
       "galaxy  277  252  535  1673  7037\n",
       "iphone  127   97  179   501  2572"
      ]
     },
     "execution_count": 28,
     "metadata": {},
     "output_type": "execute_result"
    }
   ],
   "source": [
    "#Creating a count of the ratings in the table.\n",
    "# We see that there are large number of higher ratings in the data-set for both the phones.\n",
    "\n",
    "table_rating = pd.pivot_table(data, index='phone',columns='rating', aggfunc='size')\n",
    "table_rating"
   ]
  },
  {
   "cell_type": "code",
   "execution_count": 29,
   "metadata": {},
   "outputs": [],
   "source": [
    "#Removing the sentiments which can not be classified into positive or negative:\n",
    "\n",
    "data = data[data['sentiment'] != '?']"
   ]
  },
  {
   "cell_type": "code",
   "execution_count": 30,
   "metadata": {
    "scrolled": true
   },
   "outputs": [],
   "source": [
    "#Calculating the number of positive or negative sentiments of the reviews:\n",
    "\n",
    "sentiment = data['sentiment']\n",
    "table = pd.pivot_table(data, index='phone', columns='sentiment',aggfunc='size',fill_value='0')\n"
   ]
  },
  {
   "cell_type": "code",
   "execution_count": 31,
   "metadata": {},
   "outputs": [],
   "source": [
    "#Preparing separate data-sets for the samsung and apple phones:\n",
    "\n",
    "samsung = data[data['phone']=='galaxy']\n",
    "iphone = data[data['phone']=='iphone']\n",
    "\n",
    "samsung = samsung.reset_index()\n",
    "iphone = iphone.reset_index()"
   ]
  },
  {
   "cell_type": "markdown",
   "metadata": {},
   "source": [
    "### Exploratory Data Analysis and Cleaning:\n",
    "\n",
    "*We have used multiple techniques to clean and extract the reviews which make sense, we have used Regular Expression to remove special characters and stop words from the NLTK Library to remove stop words. We have also tokenized the reviews*"
   ]
  },
  {
   "cell_type": "code",
   "execution_count": 32,
   "metadata": {},
   "outputs": [],
   "source": [
    "#Using Regular Expression to perform EDA and clean the reviews set.\n",
    "\n",
    "import re\n",
    "\n",
    "samsung_review = samsung['review'].str.cat(sep='/n')\n",
    "samsung_review = samsung['review'].str.cat(sep='/n')\n",
    "\n",
    "pstr = re.sub(r'[?|$|.|!]',r'',samsung_review)\n",
    "samsung_review = re.sub(r'[^a-zA-Z0-9 ]',r'',pstr)"
   ]
  },
  {
   "cell_type": "code",
   "execution_count": 33,
   "metadata": {},
   "outputs": [
    {
     "data": {
      "text/plain": [
       "150518"
      ]
     },
     "execution_count": 33,
     "metadata": {},
     "output_type": "execute_result"
    }
   ],
   "source": [
    "#Using NLTK Library functionality of Tokenize and stop-word removal, we create a ist of filtered reviews:\n",
    "\n",
    "from nltk.corpus import stopwords \n",
    "from nltk.tokenize import word_tokenize \n",
    "  \n",
    "stop_words = set(stopwords.words('english')) \n",
    "  \n",
    "word_tokens = word_tokenize(samsung_review) \n",
    "  \n",
    "filtered_review = [w for w in word_tokens if not w in stop_words] \n",
    "  \n",
    "filtered_review = [] \n",
    "  \n",
    "for w in word_tokens: \n",
    "    if w not in stop_words: \n",
    "        filtered_review.append(w) \n",
    "\n",
    "len(filtered_review)"
   ]
  },
  {
   "cell_type": "markdown",
   "metadata": {},
   "source": [
    "#### Identifying Common words and creating N-Grams for the features.\n",
    "\n",
    "*We have selected a Tri-Gram Model instead of a bi-gram model beause we have more chances of capturing the word occurences and tri-gram also takes care of padding issue in a Language sentiment extraction case.*"
   ]
  },
  {
   "cell_type": "code",
   "execution_count": 34,
   "metadata": {},
   "outputs": [],
   "source": [
    "#We identify the most common occuring words in the reviews of the brand:\n",
    "\n",
    "from collections import Counter\n",
    "\n",
    "common = Counter(filtered_review).most_common()\n"
   ]
  },
  {
   "cell_type": "code",
   "execution_count": 35,
   "metadata": {},
   "outputs": [],
   "source": [
    "#We create a tri-gram from the filtered review set. For an N-Gram Model, \n",
    "#a trigram model (N = 3) predicts the occurrence of a word based on its previous two words (as N – 1 = 2 in this case).\n",
    "\n",
    "from nltk import ngrams\n",
    "\n",
    "n = 3\n",
    "trigrams_pos = ngrams(filtered_review, n)\n",
    "galaxy_trigrams = []\n",
    "for grams in trigrams_pos:\n",
    "    galaxy_trigrams.append(grams)    "
   ]
  },
  {
   "cell_type": "markdown",
   "metadata": {},
   "source": [
    "### Feature Engineering and Dimensionality Reduction:\n",
    "\n",
    "** We identified features based on the occurence of the words and its association and functionality in terms of the brand.**\n",
    "** Feature Engineering was done in a way that common words were combined together and the count of the occurence of the words were increases, in order to provide higher weight metric.**"
   ]
  },
  {
   "cell_type": "markdown",
   "metadata": {},
   "source": [
    "* The word pixel, clearity and focus were combined into $Camera$ , picture and $pictures$ were combined together , processor was combined with $speed$ and android was combined with $software$. *"
   ]
  },
  {
   "cell_type": "markdown",
   "metadata": {},
   "source": [
    "* For Dimensionality reduction, we reduced the feature space to not account for words which have occurence less than 100 times. 20 top variables with combined attributes are taken into consideration for the identification of the drinving factors.*"
   ]
  },
  {
   "cell_type": "markdown",
   "metadata": {},
   "source": [
    "* We have selected the top features and have created a tri-grams which have the occurence of the word. This is done in order to associate the feature with its tri-gram occurence and create a key-value pair dictionary.*"
   ]
  },
  {
   "cell_type": "code",
   "execution_count": 36,
   "metadata": {},
   "outputs": [],
   "source": [
    "#Features are extracted based on the occurence and count of certain words in the reviews related to the brand.\n",
    "\n",
    "features = ['camera',  'features' 'screen', 'battery', 'iPhone',  'apps', 'Bixby', 'button',  'feature', 'pictures' 'design',  'sound',  'size',  'price',  'display', 'Camera',  'performance' , 'Battery', 'bixby', 'fingerprint' , 'charge',  'speed',  'charging' 'software']\n",
    "\n",
    "trigram_features = []\n",
    "\n",
    "for item in galaxy_trigrams:\n",
    "    for feature in features :\n",
    "        if feature in item :\n",
    "            trigram_features.append(item)"
   ]
  },
  {
   "cell_type": "code",
   "execution_count": 37,
   "metadata": {},
   "outputs": [],
   "source": [
    "# A dictionary is created for every common feature and the tri-gram associated with the same:\n",
    "\n",
    "tri_dict = {}\n",
    "keys = features\n",
    "\n",
    "for key in keys:\n",
    "    for j in range(len(trigram_features)):\n",
    "        if key in trigram_features[j] :\n",
    "            if key in tri_dict :\n",
    "                tri_dict[key].append(trigram_features[j])\n",
    "            else :\n",
    "                tri_dict[key] = [trigram_features[j]]"
   ]
  },
  {
   "cell_type": "code",
   "execution_count": 38,
   "metadata": {},
   "outputs": [],
   "source": [
    "# Creating a string function from the dictionary:\n",
    "\n",
    "samsung_features = str(tri_dict)"
   ]
  },
  {
   "cell_type": "code",
   "execution_count": 78,
   "metadata": {},
   "outputs": [],
   "source": [
    "#Creating strings of individual features to extract sentiments regarding them in particular:\n",
    "\n",
    "\n",
    "#Feature string with tri-grams of Camera:\n",
    "samsung_camera = tri_dict[\"camera\"]\n",
    "\n",
    "\n",
    "#Feature string with tri-grams of Battery:\n",
    "samsung_battery = tri_dict[\"battery\"]\n",
    "\n",
    "\n",
    "#Feature String with tri-grams of the occurence of the word Iphone in the samsung reviews:\n",
    "samsung_iphone = tri_dict[\"iPhone\"]\n",
    "\n",
    "\n",
    "#Feature String with tri-grams of the occurence of the word Price in the samsung reviews:\n",
    "samsung_price = tri_dict[\"price\"]\n",
    "\n",
    "\n",
    "#Feature String with tri-grams of the occurence of the word Button in the samsung reviews:\n",
    "samsung_button = tri_dict[\"button\"]\n",
    "\n",
    "\n",
    "#Feature String with tri-grams of the occurence of the word Bixby in the samsung reviews:\n",
    "samsung_bixby = tri_dict[\"Bixby\"]\n",
    "\n",
    "\n",
    "#Feature String with tri-grams of the occurence of the word Display in the samsung reviews:\n",
    "samsung_display = tri_dict[\"display\"]\n",
    "\n"
   ]
  },
  {
   "cell_type": "markdown",
   "metadata": {},
   "source": [
    "### Using NLTK-Library to Analyse the sentiments:\n",
    "\n",
    "*NLTK Library is used in this case to extract the positivity and the negativity score of each features and the combined features in general, this should give us a holistic idea of whether a feature is liked or disliked. This will help us identifies area of improvement for each brand.*"
   ]
  },
  {
   "cell_type": "code",
   "execution_count": 79,
   "metadata": {},
   "outputs": [],
   "source": [
    "battery = ' '.join([i for sub in samsung_battery for i in sub])\n",
    "cam  = ' '.join([i for sub in samsung_camera for i in sub])\n",
    "price = ' '.join([i for sub in samsung_price for i in sub])\n",
    "button = ' '.join([i for sub in samsung_button for i in sub])\n",
    "bixby = ' '.join([i for sub in samsung_bixby for i in sub])\n",
    "display = ' '.join([i for sub in samsung_display for i in sub])"
   ]
  },
  {
   "cell_type": "code",
   "execution_count": 71,
   "metadata": {},
   "outputs": [
    {
     "name": "stdout",
     "output_type": "stream",
     "text": [
      "The positive score for battery is 0.25\n",
      "The neagtive score for battery is 0.069\n"
     ]
    }
   ],
   "source": [
    "from nltk.sentiment.vader import SentimentIntensityAnalyzer\n",
    "\n",
    "\n",
    "sid = SentimentIntensityAnalyzer()\n",
    "score=sid.polarity_scores(battery)\n",
    "score.keys()\n",
    "neg_battery=list(score.values())[0]\n",
    "pos_battery=list(score.values())[2]\n",
    "comp=list(score.values())[3]\n",
    "    \n",
    "\n",
    "print(\"The positive score for battery is \" + str(pos_battery))\n",
    "print(\"The neagtive score for battery is \" + str(neg_battery))"
   ]
  },
  {
   "cell_type": "code",
   "execution_count": 72,
   "metadata": {},
   "outputs": [
    {
     "name": "stdout",
     "output_type": "stream",
     "text": [
      "The positive score for camera is 0.456\n",
      "The neagtive score for camera is 0.017\n"
     ]
    }
   ],
   "source": [
    "from nltk.sentiment.vader import SentimentIntensityAnalyzer\n",
    "\n",
    "\n",
    "sid = SentimentIntensityAnalyzer()\n",
    "score=sid.polarity_scores(cam)\n",
    "score.keys()\n",
    "neg_camera=list(score.values())[0]\n",
    "pos_camera=list(score.values())[2]\n",
    "    \n",
    "print(\"The positive score for camera is \" + str(pos_camera))\n",
    "print(\"The neagtive score for camera is \" + str(neg_camera))"
   ]
  },
  {
   "cell_type": "code",
   "execution_count": 73,
   "metadata": {},
   "outputs": [
    {
     "name": "stdout",
     "output_type": "stream",
     "text": [
      "The positive score for Price is 0.34\n",
      "The neagtive score for Price is 0.052\n"
     ]
    }
   ],
   "source": [
    "from nltk.sentiment.vader import SentimentIntensityAnalyzer\n",
    "\n",
    "sid = SentimentIntensityAnalyzer()\n",
    "score=sid.polarity_scores(price)\n",
    "score.keys()\n",
    "neg_price=list(score.values())[0]\n",
    "pos_price=list(score.values())[2]\n",
    "    \n",
    "\n",
    "print(\"The positive score for Price is \" + str(pos_price))\n",
    "print(\"The neagtive score for Price is \" + str(neg_price))"
   ]
  },
  {
   "cell_type": "code",
   "execution_count": 74,
   "metadata": {},
   "outputs": [
    {
     "name": "stdout",
     "output_type": "stream",
     "text": [
      "The positive score for Button is 0.085\n",
      "The neagtive score for Button is 0.115\n"
     ]
    }
   ],
   "source": [
    "from nltk.sentiment.vader import SentimentIntensityAnalyzer\n",
    "\n",
    "sid = SentimentIntensityAnalyzer()\n",
    "score=sid.polarity_scores(button)\n",
    "score.keys()\n",
    "neg_button=list(score.values())[0]\n",
    "pos_button=list(score.values())[2]\n",
    "    \n",
    "\n",
    "print(\"The positive score for Button is \" + str(pos_button))\n",
    "print(\"The neagtive score for Button is \" + str(neg_button))"
   ]
  },
  {
   "cell_type": "code",
   "execution_count": 80,
   "metadata": {},
   "outputs": [
    {
     "name": "stdout",
     "output_type": "stream",
     "text": [
      "The positive score for battery is 0.209\n",
      "The neagtive score for battery is 0.106\n"
     ]
    }
   ],
   "source": [
    "from nltk.sentiment.vader import SentimentIntensityAnalyzer\n",
    "\n",
    "\n",
    "sid = SentimentIntensityAnalyzer()\n",
    "score=sid.polarity_scores(bixby)\n",
    "score.keys()\n",
    "neg_bixby=list(score.values())[0]\n",
    "pos_bixby=list(score.values())[2]\n",
    "comp=list(score.values())[3]\n",
    "    \n",
    "\n",
    "print(\"The positive score for Bixby is \" + str(pos_bixby))\n",
    "print(\"The neagtive score for Bixby is \" + str(neg_bixby))"
   ]
  },
  {
   "cell_type": "code",
   "execution_count": 81,
   "metadata": {},
   "outputs": [
    {
     "name": "stdout",
     "output_type": "stream",
     "text": [
      "The positive score for Display is 0.43\n",
      "The neagtive score for Display is 0.01\n"
     ]
    }
   ],
   "source": [
    "from nltk.sentiment.vader import SentimentIntensityAnalyzer\n",
    "\n",
    "\n",
    "sid = SentimentIntensityAnalyzer()\n",
    "score=sid.polarity_scores(display)\n",
    "score.keys()\n",
    "neg_display=list(score.values())[0]\n",
    "pos_display=list(score.values())[2]\n",
    "comp=list(score.values())[3]\n",
    "    \n",
    "\n",
    "print(\"The positive score for Display is \" + str(pos_display))\n",
    "print(\"The neagtive score for Display is \" + str(neg_display))"
   ]
  },
  {
   "cell_type": "code",
   "execution_count": 97,
   "metadata": {},
   "outputs": [
    {
     "data": {
      "text/plain": [
       "['battery', 'camera', 'price', 'button', 'bixby', 'display']"
      ]
     },
     "execution_count": 97,
     "metadata": {},
     "output_type": "execute_result"
    }
   ],
   "source": [
    "neg_score = (neg_battery, neg_camera, neg_price, neg_button , neg_bixby , neg_display )\n",
    "list(neg_score)\n",
    "\n",
    "pos_score = (pos_battery, pos_camera, pos_price, pos_button , pos_bixby , pos_display )\n",
    "list(pos_score)\n",
    "\n",
    "Feature_list = ('battery' , 'camera' , 'price' , 'button' , 'bixby' , 'display')\n",
    "list(Feature_list)"
   ]
  },
  {
   "cell_type": "code",
   "execution_count": 107,
   "metadata": {},
   "outputs": [
    {
     "data": {
      "text/plain": [
       "Text(0,0.5,'Neagtivity Score')"
      ]
     },
     "execution_count": 107,
     "metadata": {},
     "output_type": "execute_result"
    },
    {
     "data": {
      "image/png": "[encoded data removed]",
      "text/plain": [
       "<Figure size 432x288 with 1 Axes>"
      ]
     },
     "metadata": {
      "needs_background": "light"
     },
     "output_type": "display_data"
    },
    {
     "data": {
      "text/plain": [
       "<Figure size 1080x720 with 0 Axes>"
      ]
     },
     "metadata": {},
     "output_type": "display_data"
    }
   ],
   "source": [
    "ax = plt.subplot(111)\n",
    "ax.bar(Feature_list, neg_score,width=0.8,color='r',align='center')             \n",
    "plt.figure(figsize=(15, 10))\n",
    "ax.set_title('Bar Chart for Negativity Score')\n",
    "ax.set_xlabel('Feature_List')\n",
    "ax.set_ylabel('Neagtivity Score')"
   ]
  },
  {
   "cell_type": "code",
   "execution_count": 106,
   "metadata": {},
   "outputs": [
    {
     "data": {
      "text/plain": [
       "Text(0,0.5,'Positivity Score')"
      ]
     },
     "execution_count": 106,
     "metadata": {},
     "output_type": "execute_result"
    },
    {
     "data": {
      "image/png": "[encoded data removed]",
      "text/plain": [
       "<Figure size 432x288 with 1 Axes>"
      ]
     },
     "metadata": {
      "needs_background": "light"
     },
     "output_type": "display_data"
    },
    {
     "data": {
      "text/plain": [
       "<Figure size 1080x720 with 0 Axes>"
      ]
     },
     "metadata": {},
     "output_type": "display_data"
    }
   ],
   "source": [
    "ax = plt.subplot(111)\n",
    "ax.bar(Feature_list, pos_score,width=0.8,color='g',align='center')             \n",
    "plt.figure(figsize=(15, 10))\n",
    "ax.set_title('Bar Chart for Positivity Score')\n",
    "ax.set_xlabel('Feature_List')\n",
    "ax.set_ylabel('Positivity Score')"
   ]
  },
  {
   "cell_type": "markdown",
   "metadata": {},
   "source": [
    "**We have figured out there is a neagtive and positive score attached with every feature of the phone, which also makes sense because there will always be mixed reviews that needs to be taken into consideration.** \n",
    "\n",
    "**We also see that the neagtovity score associated with the battery is a little higher, which can be considered an area of improvement for Samsung.**"
   ]
  },
  {
   "cell_type": "markdown",
   "metadata": {},
   "source": [
    "#### Negativity Score Bar Chart:\n",
    "\n",
    "*We see that the people were having negative sentiments towards the button, bixby and battery. And this also coincides with the mass sentiment because the pacement of the button at the back of the galaxy phone was not very intuitive and when compared to siri, Bixby was of no use and had limited functionality. There was constant complaints from people regarding the battery explosion in Samsung also.*"
   ]
  },
  {
   "cell_type": "markdown",
   "metadata": {},
   "source": [
    "#### Positivity Score Bar Chart:\n",
    "\n",
    "*We see that people are primarily happy with the camera quality, the price range and the display of the samsung phone. Samsung phones are not as costly as Iphone and hence can lead to better sale because people dont want to invest $1K$ on their phone. Samsung Camera has also been constantly compared to that of Iphone and has shown positive result in surveys.*"
   ]
  },
  {
   "cell_type": "markdown",
   "metadata": {},
   "source": [
    "### Using Text-Blob Library to analyse sentiments from the feature ocuurences:\n",
    "\n",
    "*Textblob is used in this case as a sentiment analyzer which is a part of a Natural Language Processing.\n",
    "Textblob is designed to gain more benifits which does not included in NLTK. NLTK is a modern library to fulfill requirements like token and word integration.*"
   ]
  },
  {
   "cell_type": "code",
   "execution_count": 109,
   "metadata": {},
   "outputs": [],
   "source": [
    "samsung_camera = str(samsung_camera)\n",
    "samsung_battery = str(samsung_battery)\n",
    "samsung_iphone = str(samsung_iphone)\n",
    "samsung_price = str(samsung_price)\n",
    "samsung_button = str(samsung_button)\n",
    "samsung_bixby = str(samsung_bixby)\n",
    "samsung_display = str(samsung_display)"
   ]
  },
  {
   "cell_type": "code",
   "execution_count": 54,
   "metadata": {
    "scrolled": true
   },
   "outputs": [
    {
     "name": "stdout",
     "output_type": "stream",
     "text": [
      "Sentiment(polarity=0.3854104523211436, subjectivity=0.6150900956056012)\n"
     ]
    }
   ],
   "source": [
    "# We identify the overall sentiment of the features:\n",
    "\n",
    "from textblob import TextBlob\n",
    "samsung_blob = TextBlob(samsung_features)\n",
    "for text in samsung_blob.sentences:\n",
    "    print(text.sentiment)\n",
    "    "
   ]
  },
  {
   "cell_type": "code",
   "execution_count": 60,
   "metadata": {},
   "outputs": [
    {
     "name": "stdout",
     "output_type": "stream",
     "text": [
      "Sentiment(polarity=0.5186260052518823, subjectivity=0.6881299244292772)\n"
     ]
    }
   ],
   "source": [
    "#Identifying sentiments for the specific highly occuring feature >> \"CAMERA\"\n",
    "\n",
    "from textblob import TextBlob\n",
    "samsung_camera_blob = TextBlob(samsung_camera)\n",
    "for text_camera in samsung_camera_blob.sentences:\n",
    "    print(text_camera.sentiment)"
   ]
  },
  {
   "cell_type": "code",
   "execution_count": 61,
   "metadata": {},
   "outputs": [
    {
     "name": "stdout",
     "output_type": "stream",
     "text": [
      "Sentiment(polarity=0.27673262305327556, subjectivity=0.5936150847944337)\n"
     ]
    }
   ],
   "source": [
    "#Identifying sentiments for the second highest occuring frequency feature >> \"BATTERY\"\n",
    "\n",
    "from textblob import TextBlob\n",
    "samsung_battery_blob = TextBlob(samsung_battery)\n",
    "for text_battery in samsung_battery_blob.sentences:\n",
    "    print(text_battery.sentiment)"
   ]
  },
  {
   "cell_type": "code",
   "execution_count": 62,
   "metadata": {},
   "outputs": [
    {
     "name": "stdout",
     "output_type": "stream",
     "text": [
      "Sentiment(polarity=0.21257296407296372, subjectivity=0.4722224565557886)\n"
     ]
    }
   ],
   "source": [
    "#Identifying sentiments for the combination of the opposing brand name feature >> \"IPHONE\"\n",
    "\n",
    "from textblob import TextBlob\n",
    "samsung_iphone_blob = TextBlob(samsung_iphone)\n",
    "for text_iphone in samsung_iphone_blob.sentences:\n",
    "    print(text_iphone.sentiment)"
   ]
  },
  {
   "cell_type": "code",
   "execution_count": 64,
   "metadata": {},
   "outputs": [
    {
     "name": "stdout",
     "output_type": "stream",
     "text": [
      "Sentiment(polarity=0.4557859321414522, subjectivity=0.5580275406411764)\n"
     ]
    }
   ],
   "source": [
    "#Identifying sentiments for the occurence of the feature >> \"Price\"\n",
    "\n",
    "from textblob import TextBlob\n",
    "samsung_price_blob = TextBlob(samsung_price)\n",
    "for text_price in samsung_price_blob.sentences:\n",
    "    print(text_price.sentiment)"
   ]
  },
  {
   "cell_type": "code",
   "execution_count": 65,
   "metadata": {},
   "outputs": [
    {
     "name": "stdout",
     "output_type": "stream",
     "text": [
      "Sentiment(polarity=-0.07338769046396168, subjectivity=0.477783341893512)\n"
     ]
    }
   ],
   "source": [
    "#Identifying sentiments for the occurence of the feature >> \"Button\"\n",
    "\n",
    "from textblob import TextBlob\n",
    "samsung_button_blob = TextBlob(samsung_button)\n",
    "for text_button in samsung_button_blob.sentences:\n",
    "    print(text_button.sentiment)"
   ]
  },
  {
   "cell_type": "code",
   "execution_count": 112,
   "metadata": {
    "scrolled": true
   },
   "outputs": [
    {
     "name": "stdout",
     "output_type": "stream",
     "text": [
      "Sentiment(polarity=0.13277876693199267, subjectivity=0.6078595430107531)\n"
     ]
    }
   ],
   "source": [
    "#Identifying sentiments for the occurence of the feature >> \"Bixby\"\n",
    "\n",
    "from textblob import TextBlob\n",
    "samsung_bixby_blob = TextBlob(samsung_bixby)\n",
    "for text_bixby in samsung_bixby_blob.sentences:\n",
    "    print(text_bixby.sentiment)"
   ]
  },
  {
   "cell_type": "code",
   "execution_count": 113,
   "metadata": {},
   "outputs": [
    {
     "name": "stdout",
     "output_type": "stream",
     "text": [
      "Sentiment(polarity=0.4979405789740977, subjectivity=0.6992479261892667)\n"
     ]
    }
   ],
   "source": [
    "#Identifying sentiments for the occurence of the feature >> \"Display\"\n",
    "\n",
    "from textblob import TextBlob\n",
    "samsung_display_blob = TextBlob(samsung_display)\n",
    "for text_display in samsung_display_blob.sentences:\n",
    "    print(text_display.sentiment)"
   ]
  },
  {
   "cell_type": "markdown",
   "metadata": {},
   "source": [
    "**We consider the comairson of the findings from both NLTK Library and the TextBlob Library, to compare the polarity score with a metric of positive and negative score achieved from the NLTK Library.**\n",
    "\n",
    "*Different insights received can be that Samsung needs to improve on the battery and people are happy with the price range in which the samsung galaxy phone is.*"
   ]
  },
  {
   "cell_type": "markdown",
   "metadata": {},
   "source": [
    "* We identify the features and their tri-gram association has a $positive$  $sentiment$ with a $Polarity Score: 0.38$ and people are having a positive outlook towards the features and like them, hence they invest into buying a galaxy device.\n",
    "\n",
    "\n",
    "* We also identify major positive sentiments towards the features like $Camera$ , $Screen$ which are having positive polarity score of greater than 0.40.\n",
    "\n",
    "* There have been occurence of some negative words in the $Battery$ which have lead to lesser positive polarity in this case.\n",
    "\n",
    "* $Iphone$ occurence with samsung has a positive polarity which is indicative of the fact that samsung is more preferred over Iphone and samsung features are also more preferred in the reviews.\n",
    "\n",
    "\n",
    "* The findings from the bar charts are also proved through high polarity and low polarity scores obtained through the TextBlob Library."
   ]
  },
  {
   "cell_type": "markdown",
   "metadata": {},
   "source": [
    "### Creating a frequency distribution plots of multiple types for the count of the occurence of the feature words.\n",
    "\n",
    "*We have incremented the count of the features with related variable names as a part of Feature Engineering. We get a histogram with the highest occuring feature words and the ones which drive the sentiment for the entire brand.*\n",
    "\n",
    "**$Camera$ , $Feature$ , $Screen$ & $Battery$ are the ones which are highest occuring ones.**"
   ]
  },
  {
   "cell_type": "code",
   "execution_count": 114,
   "metadata": {},
   "outputs": [
    {
     "data": {
      "image/png": "[encoded data removed]",
      "text/plain": [
       "<Figure size 1440x1080 with 1 Axes>"
      ]
     },
     "metadata": {
      "needs_background": "light"
     },
     "output_type": "display_data"
    }
   ],
   "source": [
    "from matplotlib import pyplot as plt\n",
    "\n",
    "feature_list = [ 'camera',\n",
    " 'features',\n",
    " 'screen',\n",
    " 'battery',\n",
    " 'iPhone',\n",
    " 'apps',\n",
    " 'Bixby',\n",
    " 'button',\n",
    " 'feature',\n",
    " 'pictures',\n",
    " 'design',\n",
    " 'sound',\n",
    " 'size',\n",
    " 'price',\n",
    " 'display',\n",
    " 'Camera',\n",
    " 'performance',\n",
    " 'Battery',\n",
    " 'bixby',\n",
    " 'fingerprint',\n",
    " 'charge',\n",
    " 'speed',\n",
    " 'charging',\n",
    " 'software']\n",
    "\n",
    "feature_count = [1606,\n",
    "1331,\n",
    "941,\n",
    "894,\n",
    "579,\n",
    "416,\n",
    "362,\n",
    "288,\n",
    "209,\n",
    "197,\n",
    "196,\n",
    "193,\n",
    "183,\n",
    "167,\n",
    "147,\n",
    "144,\n",
    "143,\n",
    "127,\n",
    "123,\n",
    "121,\n",
    "114,\n",
    "114,\n",
    "109,\n",
    "103]\n",
    "\n",
    "plt.figure(figsize=(20, 15))  \n",
    "\n",
    "plt.bar(feature_list, feature_count)\n",
    "plt.show()"
   ]
  },
  {
   "cell_type": "code",
   "execution_count": 115,
   "metadata": {},
   "outputs": [
    {
     "data": {
      "image/png": "[encoded data removed]",
      "text/plain": [
       "<Figure size 1440x360 with 1 Axes>"
      ]
     },
     "metadata": {
      "needs_background": "light"
     },
     "output_type": "display_data"
    }
   ],
   "source": [
    "plt.figure(figsize= (20,5))\n",
    "\n",
    "plt.scatter(feature_list, feature_count , marker = '+')\n",
    "plt.show()"
   ]
  },
  {
   "cell_type": "code",
   "execution_count": 117,
   "metadata": {},
   "outputs": [
    {
     "data": {
      "text/plain": [
       "[<matplotlib.lines.Line2D at 0x1392bca1dd8>]"
      ]
     },
     "execution_count": 117,
     "metadata": {},
     "output_type": "execute_result"
    },
    {
     "data": {
      "image/png": "[encoded data removed]",
      "text/plain": [
       "<Figure size 720x720 with 1 Axes>"
      ]
     },
     "metadata": {
      "needs_background": "light"
     },
     "output_type": "display_data"
    }
   ],
   "source": [
    "plt.figure(figsize= (10,10))\n",
    "plt.plot(feature_count, feature_list ,color='green', linestyle='dashed', marker='o',\n",
    "     markerfacecolor='red', markersize=9 , antialiased=False)"
   ]
  },
  {
   "cell_type": "markdown",
   "metadata": {},
   "source": [
    "#### KDE PLOT:\n",
    "\n",
    "*Kernel density estimation is a non-parametric way to estimate the distribution of a variable. In seaborn, we can plot a kde using jointplot(). Pass value 'kde' to the parameter kind to plot kernel plot.* \n",
    "\n",
    "*Here we have used KDE Plot along with a rig plot, to see that there has been highest distribution in the count of occurence for 0-500 words and the polarity of the sentiment is affected by those features the most*"
   ]
  },
  {
   "cell_type": "code",
   "execution_count": 118,
   "metadata": {},
   "outputs": [
    {
     "name": "stderr",
     "output_type": "stream",
     "text": [
      "C:\\Users\\sensu\\Anaconda3\\lib\\site-packages\\scipy\\stats\\stats.py:1713: FutureWarning: Using a non-tuple sequence for multidimensional indexing is deprecated; use `arr[tuple(seq)]` instead of `arr[seq]`. In the future this will be interpreted as an array index, `arr[np.array(seq)]`, which will result either in an error or a different result.\n",
      "  return np.add.reduce(sorted[indexer] * weights, axis=axis) / sumval\n"
     ]
    },
    {
     "data": {
      "text/plain": [
       "<matplotlib.axes._subplots.AxesSubplot at 0x1392d071a58>"
      ]
     },
     "execution_count": 118,
     "metadata": {},
     "output_type": "execute_result"
    },
    {
     "data": {
      "image/png": "[encoded data removed]",
      "text/plain": [
       "<Figure size 432x432 with 1 Axes>"
      ]
     },
     "metadata": {
      "needs_background": "light"
     },
     "output_type": "display_data"
    }
   ],
   "source": [
    "import seaborn as sns\n",
    "\n",
    "df = pd.read_csv(\"samsung_Features.csv\")\n",
    "\n",
    "f, ax = plt.subplots(figsize=(6, 6))\n",
    "sns.kdeplot(df.Feature_Count,ax=ax)\n",
    "sns.rugplot(df.Feature_Count, color=\"g\", ax=ax)"
   ]
  },
  {
   "cell_type": "markdown",
   "metadata": {},
   "source": [
    "### Completing the steps of Data Cleaning, EDA , Sentiment Extraction and Visualization for the Iphone Reviews:"
   ]
  },
  {
   "cell_type": "code",
   "execution_count": 124,
   "metadata": {},
   "outputs": [],
   "source": [
    "#Cleaning the reviews with Regular Expression:\n",
    "\n",
    "import re\n",
    "\n",
    "iphone_review = iphone['review'].str.cat(sep='/n')\n",
    "iphone_review = iphone['review'].str.cat(sep='/n')\n",
    "\n",
    "pstr = re.sub(r'[?|$|.|!]',r'',iphone_review)\n",
    "iphone_review = re.sub(r'[^a-zA-Z0-9 ]',r'',pstr)"
   ]
  },
  {
   "cell_type": "code",
   "execution_count": 125,
   "metadata": {},
   "outputs": [],
   "source": [
    "#Using NLTK to further perform EDA and remove stop-words and tokenize:\n",
    "\n",
    "from nltk.corpus import stopwords \n",
    "from nltk.tokenize import word_tokenize \n",
    "  \n",
    "stop_words = set(stopwords.words('english')) \n",
    "  \n",
    "word_tokens = word_tokenize(iphone_review) \n",
    "  \n",
    "filtered_iphone_review = [w for w in word_tokens if not w in stop_words] \n",
    "  \n",
    "filtered_iphone_review = [] \n",
    "  \n",
    "for w in word_tokens: \n",
    "    if w not in stop_words: \n",
    "        filtered_iphone_review.append(w) \n"
   ]
  },
  {
   "cell_type": "code",
   "execution_count": 126,
   "metadata": {},
   "outputs": [],
   "source": [
    "#Collecting the most common occuring words and creating tri-grams from the cleaned reviews of the IPHONE:\n",
    "\n",
    "\n",
    "from collections import Counter\n",
    "\n",
    "common_iphone = Counter(filtered_iphone_review).most_common()\n",
    "\n",
    "from nltk import ngrams\n",
    "\n",
    "n = 3\n",
    "trigrams_pos = ngrams(filtered_iphone_review, n)\n",
    "iphone_trigrams = []\n",
    "for grams in trigrams_pos:\n",
    "    iphone_trigrams.append(grams)    "
   ]
  },
  {
   "cell_type": "code",
   "execution_count": 127,
   "metadata": {},
   "outputs": [],
   "source": [
    "#Identifying Features from the reviews and the most occuring words to identify the sentiments towards particular features:\n",
    "\n",
    "\n",
    "iphone_features = ['screen',\n",
    "'camera',\n",
    "'button',\n",
    "'ID',\n",
    "'features'\n",
    "'face',\n",
    "'size',\n",
    "'recognition'\n",
    "'quality'\n",
    "'time',\n",
    "'price',\n",
    "'battery'  \n",
    "'apps',    \n",
    "'design',  \n",
    "'feature', \n",
    "'expensive',\n",
    "'photos',  \n",
    "'upgrade',  \n",
    "'display',  \n",
    "'pictures', \n",
    "'videos',  \n",
    "'charging',  \n",
    "'Samsung']\n",
    "\n",
    "iphone_feature_count = [1137,\n",
    "868,\n",
    "567,\n",
    "455,\n",
    "425,\n",
    "403,\n",
    "392,\n",
    "367,\n",
    "358,\n",
    "339,\n",
    "306,\n",
    "296,\n",
    "247,\n",
    "225,\n",
    "187,\n",
    "181,\n",
    "167,\n",
    "159,\n",
    "146,]"
   ]
  },
  {
   "cell_type": "code",
   "execution_count": 128,
   "metadata": {},
   "outputs": [],
   "source": [
    "#Creating Trigram of the features of the iphone:\n",
    "\n",
    "trigram_iphone_features = []\n",
    "\n",
    "for item in iphone_trigrams:\n",
    "    for feature in iphone_features :\n",
    "        if feature in item :\n",
    "            trigram_iphone_features.append(item)"
   ]
  },
  {
   "cell_type": "code",
   "execution_count": 129,
   "metadata": {},
   "outputs": [],
   "source": [
    "#Creating dictionary of the features and the name of the features as key:value pairs for the same:\n",
    "\n",
    "tri_iphone_dict = {}\n",
    "keys = iphone_features\n",
    "\n",
    "for key in keys:\n",
    "    for j in range(len(trigram_iphone_features)):\n",
    "        if key in trigram_iphone_features[j] :\n",
    "            if key in tri_iphone_dict :\n",
    "                tri_iphone_dict[key].append(trigram_iphone_features[j])\n",
    "            else :\n",
    "                tri_iphone_dict[key] = [trigram_iphone_features[j]]"
   ]
  },
  {
   "cell_type": "code",
   "execution_count": 130,
   "metadata": {},
   "outputs": [],
   "source": [
    "iphone_feat = str(tri_iphone_dict)"
   ]
  },
  {
   "cell_type": "code",
   "execution_count": 136,
   "metadata": {},
   "outputs": [],
   "source": [
    "#Creating strings of individual features to extract sentiments regarding them in particular:\n",
    "\n",
    "\n",
    "#Feature string with tri-grams of Camera:\n",
    "iphone_camera = tri_iphone_dict[\"camera\"]\n",
    "\n",
    "\n",
    "#Feature string with tri-grams of Screen:\n",
    "iphone_screen = tri_iphone_dict[\"screen\"]\n",
    "\n",
    "\n",
    "#Feature String with tri-grams of the occurence of the word button in the reviews:\n",
    "iphone_button = tri_iphone_dict[\"button\"]\n",
    "\n",
    "\n",
    "\n",
    "#Feature String with tri-grams of Price in the reviews:\n",
    "iphone_price = tri_iphone_dict[\"price\"]\n",
    "\n",
    "\n",
    "#Feature String with tri-grams of Display in the reviews:\n",
    "iphone_display = tri_iphone_dict[\"display\"]\n",
    "\n",
    "\n",
    "#Feature String with tri-grams of Design in the reviews:\n",
    "iphone_design = tri_iphone_dict[\"design\"]\n"
   ]
  },
  {
   "cell_type": "code",
   "execution_count": 137,
   "metadata": {},
   "outputs": [],
   "source": [
    "screen = ' '.join([i for sub in iphone_screen for i in sub])\n",
    "cam  = ' '.join([i for sub in iphone_camera for i in sub])\n",
    "price = ' '.join([i for sub in iphone_price for i in sub])\n",
    "button = ' '.join([i for sub in iphone_button for i in sub])\n",
    "display = ' '.join([i for sub in iphone_display for i in sub])\n",
    "design = ' '.join([i for sub in iphone_design for i in sub])"
   ]
  },
  {
   "cell_type": "code",
   "execution_count": 138,
   "metadata": {},
   "outputs": [
    {
     "name": "stdout",
     "output_type": "stream",
     "text": [
      "The positive score for screen is 0.247\n",
      "The neagtive score for screen is 0.025\n"
     ]
    }
   ],
   "source": [
    "from nltk.sentiment.vader import SentimentIntensityAnalyzer\n",
    "\n",
    "sid = SentimentIntensityAnalyzer()\n",
    "score=sid.polarity_scores(screen)\n",
    "score.keys()\n",
    "neg_screen=list(score.values())[0]\n",
    "pos_screen=list(score.values())[2]\n",
    "comp=list(score.values())[3]\n",
    "\n",
    "\n",
    "print(\"The positive score for screen is \" + str(pos_screen))\n",
    "print(\"The neagtive score for screen is \" + str(neg_screen))"
   ]
  },
  {
   "cell_type": "code",
   "execution_count": 140,
   "metadata": {},
   "outputs": [
    {
     "name": "stdout",
     "output_type": "stream",
     "text": [
      "The positive score for camera is 0.394\n",
      "The neagtive score for camera is 0.018\n"
     ]
    }
   ],
   "source": [
    "from nltk.sentiment.vader import SentimentIntensityAnalyzer\n",
    "\n",
    "sid = SentimentIntensityAnalyzer()\n",
    "score=sid.polarity_scores(cam)\n",
    "score.keys()\n",
    "neg_cam=list(score.values())[0]\n",
    "pos_cam=list(score.values())[2]\n",
    "comp=list(score.values())[3]\n",
    "    \n",
    "\n",
    "print(\"The positive score for camera is \" + str(pos_cam))\n",
    "print(\"The neagtive score for camera is \" + str(neg_cam))"
   ]
  },
  {
   "cell_type": "code",
   "execution_count": 141,
   "metadata": {},
   "outputs": [
    {
     "name": "stdout",
     "output_type": "stream",
     "text": [
      "The positive score for price is 0.226\n",
      "The neagtive score for price is 0.067\n"
     ]
    }
   ],
   "source": [
    "from nltk.sentiment.vader import SentimentIntensityAnalyzer\n",
    "\n",
    "sid = SentimentIntensityAnalyzer()\n",
    "score=sid.polarity_scores(price)\n",
    "score.keys()\n",
    "neg_price=list(score.values())[0]\n",
    "pos_price=list(score.values())[2]\n",
    "comp=list(score.values())[3]\n",
    "    \n",
    "print(\"The positive score for price is \" + str(pos_price))\n",
    "print(\"The neagtive score for price is \" + str(neg_price))"
   ]
  },
  {
   "cell_type": "code",
   "execution_count": 142,
   "metadata": {},
   "outputs": [
    {
     "name": "stdout",
     "output_type": "stream",
     "text": [
      "The positive score for button is 0.117\n",
      "The neagtive score for button is 0.083\n"
     ]
    }
   ],
   "source": [
    "from nltk.sentiment.vader import SentimentIntensityAnalyzer\n",
    "\n",
    "\n",
    "sid = SentimentIntensityAnalyzer()\n",
    "score=sid.polarity_scores(button)\n",
    "score.keys()\n",
    "neg_button=list(score.values())[0]\n",
    "pos_button=list(score.values())[2]\n",
    "comp=list(score.values())[3]\n",
    "\n",
    "\n",
    "print(\"The positive score for button is \" + str(pos_button))\n",
    "print(\"The neagtive score for button is \" + str(neg_button))"
   ]
  },
  {
   "cell_type": "code",
   "execution_count": 144,
   "metadata": {},
   "outputs": [
    {
     "name": "stdout",
     "output_type": "stream",
     "text": [
      "The positive score for display is 0.328\n",
      "The neagtive score for display is 0.019\n"
     ]
    }
   ],
   "source": [
    "from nltk.sentiment.vader import SentimentIntensityAnalyzer\n",
    "\n",
    "\n",
    "sid = SentimentIntensityAnalyzer()\n",
    "score=sid.polarity_scores(display)\n",
    "score.keys()\n",
    "neg_display=list(score.values())[0]\n",
    "pos_display=list(score.values())[2]\n",
    "comp=list(score.values())[3]\n",
    "\n",
    "\n",
    "print(\"The positive score for display is \" + str(pos_display))\n",
    "print(\"The neagtive score for display is \" + str(neg_display))"
   ]
  },
  {
   "cell_type": "code",
   "execution_count": 145,
   "metadata": {},
   "outputs": [
    {
     "name": "stdout",
     "output_type": "stream",
     "text": [
      "The positive score for display is 0.297\n",
      "The neagtive score for display is 0.042\n"
     ]
    }
   ],
   "source": [
    "from nltk.sentiment.vader import SentimentIntensityAnalyzer\n",
    "\n",
    "\n",
    "sid = SentimentIntensityAnalyzer()\n",
    "score=sid.polarity_scores(design)\n",
    "score.keys()\n",
    "neg_design=list(score.values())[0]\n",
    "pos_design=list(score.values())[2]\n",
    "comp=list(score.values())[3]\n",
    "\n",
    "\n",
    "print(\"The positive score for display is \" + str(pos_design))\n",
    "print(\"The neagtive score for display is \" + str(neg_design))"
   ]
  },
  {
   "cell_type": "code",
   "execution_count": 147,
   "metadata": {},
   "outputs": [
    {
     "data": {
      "text/plain": [
       "['screen', 'camera', 'price', 'button', 'display', 'design']"
      ]
     },
     "execution_count": 147,
     "metadata": {},
     "output_type": "execute_result"
    }
   ],
   "source": [
    "neg_score = (neg_screen, neg_camera, neg_price, neg_button , neg_display , neg_design )\n",
    "list(neg_score)\n",
    "\n",
    "pos_score = (pos_screen, pos_camera, pos_price, pos_button , pos_display , pos_design )\n",
    "list(pos_score)\n",
    "\n",
    "Feature_list = ('screen' , 'camera' , 'price' , 'button' , 'display' , 'design')\n",
    "list(Feature_list)\n"
   ]
  },
  {
   "cell_type": "code",
   "execution_count": 148,
   "metadata": {},
   "outputs": [
    {
     "data": {
      "text/plain": [
       "Text(0,0.5,'Neagtivity Score')"
      ]
     },
     "execution_count": 148,
     "metadata": {},
     "output_type": "execute_result"
    },
    {
     "data": {
      "image/png": "[encoded data removed]",
      "text/plain": [
       "<Figure size 432x288 with 1 Axes>"
      ]
     },
     "metadata": {
      "needs_background": "light"
     },
     "output_type": "display_data"
    },
    {
     "data": {
      "text/plain": [
       "<Figure size 1080x720 with 0 Axes>"
      ]
     },
     "metadata": {},
     "output_type": "display_data"
    }
   ],
   "source": [
    "\n",
    "ax = plt.subplot(111)\n",
    "ax.bar(Feature_list, neg_score,width=0.8,color='r',align='center')             \n",
    "plt.figure(figsize=(15, 10))\n",
    "ax.set_title('Bar Chart for Negativity Score')\n",
    "ax.set_xlabel('Feature_List')\n",
    "ax.set_ylabel('Neagtivity Score')\n"
   ]
  },
  {
   "cell_type": "code",
   "execution_count": 150,
   "metadata": {},
   "outputs": [
    {
     "data": {
      "text/plain": [
       "Text(0,0.5,'Positivity Score')"
      ]
     },
     "execution_count": 150,
     "metadata": {},
     "output_type": "execute_result"
    },
    {
     "data": {
      "image/png": "[encoded data removed]",
      "text/plain": [
       "<Figure size 432x288 with 1 Axes>"
      ]
     },
     "metadata": {
      "needs_background": "light"
     },
     "output_type": "display_data"
    },
    {
     "data": {
      "text/plain": [
       "<Figure size 1080x720 with 0 Axes>"
      ]
     },
     "metadata": {},
     "output_type": "display_data"
    }
   ],
   "source": [
    "ax = plt.subplot(111)\n",
    "ax.bar(Feature_list, pos_score,width=0.8,color='g',align='center')             \n",
    "plt.figure(figsize=(15, 10))\n",
    "ax.set_title('Bar Chart for Positivity Score')\n",
    "ax.set_xlabel('Feature_List')\n",
    "ax.set_ylabel('Positivity Score')"
   ]
  },
  {
   "cell_type": "markdown",
   "metadata": {},
   "source": [
    "#### Negativity Bar Chart:\n",
    "\n",
    "*This bar chart gives an insight that is also similar to popular opinions, people were upset about the removal of the button for fingerprint, with the price range of the phone and the chnage in design where they upgraded the Iphone to an end-to-end design feature also.*"
   ]
  },
  {
   "cell_type": "markdown",
   "metadata": {},
   "source": [
    "#### Positivity Bar Chart:\n",
    "\n",
    "*This bar gives an insight that with the upgrade of the new Iphone X, people were extremely happy with the new camera and the upgrade from the LCD display to OLED display with higher pixels and resolution.*"
   ]
  },
  {
   "cell_type": "markdown",
   "metadata": {},
   "source": [
    "**NLTK gives various insights regarding the IPhone category features.**\n",
    "\n",
    "**The positive score associated with \"Button\" and \"Scree\" for Iphone is very less and these 2 were the major features that changed when the Iphone X was launched in the market.**\n",
    "\n",
    "**There is also a negative score associated with Price which is considerable in a way that IPhone is one of the costliest phone in the market.**"
   ]
  },
  {
   "cell_type": "code",
   "execution_count": null,
   "metadata": {},
   "outputs": [],
   "source": [
    "iphone_camera = str(iphone_camera)\n",
    "iphone_screen = str(iphone_screen)\n",
    "iphone_button = str(iphone_button)\n",
    "iphone_price = str(iphone_price)"
   ]
  },
  {
   "cell_type": "code",
   "execution_count": null,
   "metadata": {},
   "outputs": [],
   "source": [
    "from textblob import TextBlob\n",
    "iphone_blob = TextBlob(iphone_feat)\n",
    "for text in iphone_blob.sentences:\n",
    "    print(text.sentiment)"
   ]
  },
  {
   "cell_type": "code",
   "execution_count": null,
   "metadata": {},
   "outputs": [],
   "source": [
    "from textblob import TextBlob\n",
    "iphone_camera_blob = TextBlob(iphone_camera)\n",
    "for text in iphone_camera_blob.sentences:\n",
    "    print(\"Iphone Camera \" + str(text.sentiment))"
   ]
  },
  {
   "cell_type": "code",
   "execution_count": null,
   "metadata": {},
   "outputs": [],
   "source": [
    "from textblob import TextBlob\n",
    "iphone_screen_blob = TextBlob(iphone_screen)\n",
    "for text in iphone_screen_blob.sentences:\n",
    "    print(\"Iphone Screen \" + str(text.sentiment))"
   ]
  },
  {
   "cell_type": "code",
   "execution_count": null,
   "metadata": {},
   "outputs": [],
   "source": [
    "from textblob import TextBlob\n",
    "iphone_button_blob = TextBlob(iphone_button)\n",
    "for text in iphone_button_blob.sentences:\n",
    "    print(\"Iphone Button \" + str(text.sentiment))"
   ]
  },
  {
   "cell_type": "code",
   "execution_count": null,
   "metadata": {},
   "outputs": [],
   "source": [
    "from textblob import TextBlob\n",
    "iphone_price_blob = TextBlob(iphone_price)\n",
    "for text in iphone_price_blob.sentences:\n",
    "    print(\"Iphone Button \" + str(text.sentiment))"
   ]
  },
  {
   "cell_type": "markdown",
   "metadata": {},
   "source": [
    "* We see that there have mixed reviews for Iphone, primarily positive but yes there has been certain features which are driving the sentiment of the overall reviews towards a negatove polarity, hence we identify lesser positive sentiment polarity assocaited with the Apple Brand, the value is $0.29$\n",
    "\n",
    "\n",
    "* Both the options have comaparably high positive polarity for the $Camera$ Feature.\n",
    "\n",
    "\n",
    "* There are certain features which appear more than any other features and that are Some of them are $Screen$ , $Home Button$ and $Price$.\n",
    "\n",
    "\n",
    "* On further analysis, we see that the absence of the $Home Button$ on the new Iphone X had mixed reviews and spurred occurences of the feature $Face ID$, people had a negative polarity score for the $Price$ Tag of the Iphone flagship model.\n",
    "\n",
    "\n",
    "* If there is one area that we can suggest for both brands to improve upon, then that will be $Battery$ $for$ $Samsung$  & $Price$ $for$ $Iphone$ based on our findings of polarity and positive score."
   ]
  },
  {
   "cell_type": "markdown",
   "metadata": {},
   "source": [
    "### Plots for depicting the distribution of Features in the Iphone reviews:\n",
    "\n",
    "*Most common occurinf features are screen, camera, button and ID. And this goes with the popular opinion that while Iphone introduced the new Iphone X, they removed the Home Button and for the first time crossed the mark of $1000K$ for Pricing.*"
   ]
  },
  {
   "cell_type": "code",
   "execution_count": null,
   "metadata": {
    "scrolled": true
   },
   "outputs": [],
   "source": [
    "from matplotlib import pyplot as plt\n",
    "\n",
    "plt.figure(figsize=(20, 15))  \n",
    "\n",
    "plt.bar(iphone_features, iphone_feature_count)\n",
    "# plt.show()"
   ]
  },
  {
   "cell_type": "code",
   "execution_count": null,
   "metadata": {},
   "outputs": [],
   "source": [
    "plt.figure(figsize= (10,10))\n",
    "matplotlib.pyplot.plot(feature_count, feature_list ,color='yellow', linestyle='dashed', marker='*',\n",
    "     markerfacecolor='red', markersize=9 , antialiased=False)"
   ]
  },
  {
   "cell_type": "markdown",
   "metadata": {},
   "source": [
    "**KDE Plot had similar distrbution for both the features in the devices**"
   ]
  },
  {
   "cell_type": "code",
   "execution_count": null,
   "metadata": {},
   "outputs": [],
   "source": [
    "f, ax = plt.subplots(figsize=(6, 6))\n",
    "sns.kdeplot(iphone_feature_count,ax=ax)\n",
    "sns.rugplot(iphone_feature_count, color=\"g\", ax=ax)"
   ]
  },
  {
   "cell_type": "markdown",
   "metadata": {},
   "source": [
    "### Overall, we see that there are certain features that make a brand famous and also there are certain features which have had negative sentiments attached to them. Both devices had positive polarity score in terms of Features and Functionality holistically."
   ]
  }
 ],
 "metadata": {
  "kernelspec": {
   "display_name": "Python 3",
   "language": "python",
   "name": "python3"
  },
  "language_info": {
   "codemirror_mode": {
    "name": "ipython",
    "version": 3
   },
   "file_extension": ".py",
   "mimetype": "text/x-python",
   "name": "python",
   "nbconvert_exporter": "python",
   "pygments_lexer": "ipython3",
   "version": "3.6.8"
  }
 },
 "nbformat": 4,
 "nbformat_minor": 2
}
