{
 "cells": [
  {
   "cell_type": "code",
   "execution_count": 14,
   "metadata": {},
   "outputs": [],
   "source": [
    "'''\n",
    "This is to scrape verizonwireless.com's iphone reviews.\n",
    "There are 179 reviews for iphone X and 73 reviews for galaxy s9.\n",
    "\n",
    "written by Soi Kang\n",
    "3/30/2019\n",
    "'''\n",
    "\n",
    "from selenium import webdriver\n",
    "from selenium.webdriver.support.ui import WebDriverWait\n",
    "from selenium.webdriver.support import expected_conditions as EC\n",
    "from selenium.webdriver.common.by import By\n",
    "from pathlib import Path\n",
    "from bs4 import BeautifulSoup\n",
    "\n",
    "driver = webdriver.Chrome()\n",
    "driver.get(\"https://www.verizonwireless.com/smartphones/apple-iphone-x/?sku=sku2680533\")\n",
    "\n",
    "# need to navigate through reviews.\n",
    "# problem for this website is that the url doesn't change no matter what I navigate through\n",
    "# but selenium can do it\n",
    "\n",
    "#this is to get to the reviews from the original url\n",
    "review_button_path = '//*[@id=\"reviewsLink\"]'\n",
    "wait = WebDriverWait(driver, 5)\n",
    "review_button = wait.until(EC.visibility_of_element_located((By.XPATH, review_button_path)))\n",
    "driver.execute_script(\"arguments[0].click();\", review_button)"
   ]
  },
  {
   "cell_type": "code",
   "execution_count": 59,
   "metadata": {},
   "outputs": [],
   "source": [
    "# i = 0\n",
    "# while True:\n",
    "#   # locate all elements\n",
    "#     elements = driver.find_elements_by_css_selector('.border_gray.onlyBottomBorder.color_000.fontSize_1')\n",
    "#     if len(elements) > i:\n",
    "#         driver.execute_script(\"arguments[0].click();\", elements[i])\n",
    "#       #elements[i].click() # click on the i-th element in the list\n",
    "#         i += 1 # increment i\n",
    "#         time.sleep(0.5) # wait until list will be updated\n",
    "#         continue\n",
    "    \n",
    "#     break"
   ]
  },
  {
   "cell_type": "code",
   "execution_count": 80,
   "metadata": {},
   "outputs": [],
   "source": [
    "# get the reviews and rating for the first page\n",
    "reviews = []\n",
    "review_list = driver.find_elements_by_css_selector('.NHaasDS55Rg.fontSize_12.padBottom15.wrapText')\n",
    "\n",
    "for el in review_list:\n",
    "    \n",
    "    element = el.find_elements_by_css_selector('.border_gray.onlyBottomBorder.color_000.fontSize_1')\n",
    "    \n",
    "    #print(element)\n",
    "    # this code below is to expand the 'read more' part of the review if the review has it\n",
    "    if (len(element)==1):\n",
    "        time.sleep(1.5)\n",
    "        driver.execute_script(\"arguments[0].click();\",element[0])\n",
    "        driver.execute_script(\"arguments[0].click();\",element[0])\n",
    "        time.sleep(1.5)\n",
    "        reviews.append(el.find_element_by_tag_name('span').text)\n",
    "        \n",
    "    else:\n",
    "        reviews.append(el.find_element_by_tag_name('span').text)\n",
    "        time.sleep(1.5)\n"
   ]
  },
  {
   "cell_type": "code",
   "execution_count": 81,
   "metadata": {},
   "outputs": [
    {
     "data": {
      "text/plain": [
       "['This phone is terrible, horrible and clunky not high tech or worth it. Had it a month, picking up an s10+ to stop my pain. Android or apple??? Definitely android.',\n",
       " \"Don't buy it. Screen goes on the fritz. It drops email accounts randomly. Microphone doesn't work. I'm on my 3rd replacement since September. Extremely unhappy with Verizon support on this, too. Customer of 20+years. Horrible.\",\n",
       " 'Having agonized for months about giving up my trusty iPhone5, I am really glad I made the change. The new phone is easy to operate and the larger screen size makes reading a lot easier.',\n",
       " \"I'm not the type of person who writes a review about a product after using it for a week unless there is a specific function that I've tested. By the time I've made up my mind it's been 6 months and sometimes writing a review is not worth the trouble. This phone had me convinced after 30 minutes that it's worth it. I haven't been this impressed by a smartphone in years. This phone is Not addicting in the way that you'd be glued to your phone. It's Rather that you won't give this one up and it will quickly become your trusty sidekick. I have ZERO complaints so far. The only reason I went with this over the iPhone 8 plus is because the 8 plus wasn't in stock but after using the iPhone X for 30 minutes I'm glad it wasn't. IMO, the extra money I paid for it is worth it and I believe I will have this phone for 3 years. The look of the screen, the color accuracy, the crispness of the text, and most of all the accuracy of the digitizer are top notch. The input lag is the best I've seen yet from a phone. There is no lag. The feature that I find to be over the top is the facial recognition. I will not have to thumb and paw at my phone to get into it. I have not misspelled any words yet when writing a text. The performance is flawless. The size of the phone is physically the same as the s6 I had been using for years. The reason I'm mentioning a competing brand is because size is a factor people consider when buying a phone. This is certainly a better pick if you have smaller hands but you want a larger screen. The iPhone X fits great in my hands. The final thing I'm happy about is battery life. With BT, WiFi, and location on the phone only used about 25% of it's battery life in a span of 8 hours. In this 8 hours I listened to music for an hour while exercising, set up the phone from scratch, and I downloaded the few apps and music I listen to. In the past I had to run my phones as lean as possible to maximize battery life but now I might be able to run a few extra apps. The final thing to keep in mind is I have about 6 days of seat time using iPhones before buying this one. This is my first iPhone. I found everything easy to use and straightforward. I had zero growing pains going from my previous phone to this one.\",\n",
       " 'I wanted to NOT believe the hype surrounding this phone and I even went with the iPhone 8 Plus at first because I said I wasn’t interested in the X. I’m glad I was wrong and I’m glad I ended up going back within my 14 days and exchanging for an iPhone X. It ended up being the right choice; this phone is amazing. Face ID actually works pretty darn well and the lack of a home button has been very easy to get used to. The camera is ridiculously good. Like everybody’s going to be a “true photographer” with this phone lol. Don’t hesitate, just get it and see how amazing it is!',\n",
       " \"As a long time Android device owner I was reluctant to switch to an iPhone when there are spectacular phones out there like the Galaxy line, the Pixel 2 devices and many other flagship phones all with their own unique advantages and features. The iPhone X has caught a lot of backlash for its price and notch but if you can get over those two things it really is a brilliant device. Sure, there are things I miss from Android OS but no matter what phone I would have chose I would have had to make compromises. What the iPhone X got right that impressed me enough to give it a try was the Samsung made OLED display. Coming from an already great display on my previous Galaxy S7 Edge, I would not settle for a typical iPhone with large bezels and a LCD display. This move into the OLED world was the right move for Apple to make. The 5.8in edge-to-edge screen is truly impressive from my few days of use. The Face ID feature works and it works well. I don't think there's any other questions about it. No, it's not quite as fast as the latest generation of Touch ID but the fluidity of the features is what makes it remarkable. The way notifications reveal themselves to you when the devices recognizes that it is nobody else's face but your own is flawless. iPhone X's cameras are impressive. Definitely one of the best out there and any buyers will not be disappointed but I will not dub it THE best smartphone camera out there. The Pixel 2 holds that title in my eyes but iPhone X is a serious contender and does have an edge if you are taking photos from a distance due to it's 2x Zoom Telephoto lens. The build quality is exceptional. I went with the space grey version and the phone looks and feels as premium as it should. It's smooth and has a great weight to it. I'd expect nothing less from Apple in that department. iOS as a whole hasn't been my favorite OS in recent years but this is the phone that made me try it out again and that, in my opinion, means the iPhone X is superb. Everything works and works well, and I can't wait to see how things improve in the coming weeks and months. I hope my review helps!\",\n",
       " 'Ok, so allow.me to start off by saying I am not a dedicated Apple, Samsung or Google fan. I’m a fan of what works elegantly. I really did not know what I would think of the X but once I got it in my hand I immediately knew this device was different. I had a very difficult time deciding between the Note 8 and the X. I am so very glad I got the X. Don’t get me wrong, the Note 8 is a fantastic device. But there’s an undefinable quality to the iPhone X that is difficult to put into words. The display is simply awe inspiring. The notch doesn’t bother me in the least; and that really surprised me. Honestly is just disappears after a few moments of use. Yes, some apps aren’t optimized yet but they soon will be. The camer system takes honestly breathtaking photos. FaceID works so well it’s almost scary. And the A11 processor absolutely blows all other phones out of the water (see Tom’s Guide comparison - specifically the Geekbench tests). What I think is often missed here is that the iPhone X will be a powerful phone even compared to the next few phones released by Samsung and the like. Also, I’m very excited to see how app developers make use of the powerhouse under the hood of the X - specifically with AR. If you’re on the fence, I’d say take the risk and try this phone. It’s a work of art. And honestly Verizon’s return policy is amazing (like their service) and if you don’t like it you can always exchange for another device. Hope this helps.....',\n",
       " \"I just recently purchased my Apple IPhoneX over a week ago, and I am very satisfied with the product! It is the perfect phone for someone who is very tech savvy and isn't afraid of taking time to figure out the new features compared to the previous apple products. I recently had the IPhone 6s, but it was definitely time for an upgrade. I was contemplating between the Samsung Note 8 and the IPhoneX, and I definitely picked the winner! Technology Features: As the week went on, I noticed how useful the IPhoneX has been for me. With the face recognition; it is very easy for anyone to unlock his or her phone, even in the dark! What makes it even more useful is that other apps allows the facial recognition feature as well, so you don't have to remember any passwords as much. Another thing to note; the camera on this phone is AMAZING. This phone would be perfect if you like to take photographs for fun or even if you’re a professional. The picture quality is outstanding, and you can’t even tell that it is a picture. Stability/ Durability of the product: Before getting this phone, I was a little hesitant when I realized that the phone is all glass, but after a week of having it, you would have it figured out that it is not a problem. The second day of having the phone, I went to get out of my car and the phone slid out of my pocket and onto the pavement. Neither a dent, nor a scratch had appeared on my phone! You could say that the phone is very durable, and the all-new glass look makes it look very sleek. I have also happened to notice that when they said the IPhoneX is water resistant, they were not kidding. You could even use the phone in the shower if you wanted! Negatives: One thing that I do not find thrilling about this product is the final price, but thankfully you are able to make monthly payments. Other than the price, I do not see anything wrong with the IPhoneX. As I said before, this phone is all glass, so if you are a clumsy person, this is not the phone for you. Overall: You would like this phone if you are looking for something that is durable, sleek, and perfect for every day-to-day use. I highly recommend this phone to anyone who is looking for an upgrade from their current IPhone, and even some Samsung users if they are looking for something new.\",\n",
       " \"I love that it's all screen. I love the Face ID and how it unlocks everything without needing to put password in anymore. I'm actually liking the gestures and it makes it easier to navigate through my phone and tasks. The camera is by far the best camera ever. I'm really loving the Animoji on the phone and how they follow my face movement. Overall I am very happy with my X.\",\n",
       " 'Overall a really good phone. FaceID works almost flawlessly. The screen is nothing short of amazing. I thought I might struggle a bit with the new gestures and not having a home button, however the new gestures are very easy to pick up on. The phone feels really nice to hold, if you are like me and don’t like the extra bulk that a case usually adds but worry about the risk of not having a case I would recommend the silicone case that Apple makes.']"
      ]
     },
     "execution_count": 81,
     "metadata": {},
     "output_type": "execute_result"
    }
   ],
   "source": [
    "reviews"
   ]
  },
  {
   "cell_type": "code",
   "execution_count": 82,
   "metadata": {},
   "outputs": [
    {
     "name": "stdout",
     "output_type": "stream",
     "text": [
      "0\n",
      "1\n",
      "2\n",
      "3\n",
      "4\n",
      "5\n",
      "6\n",
      "7\n",
      "8\n",
      "9\n",
      "10\n",
      "11\n",
      "12\n",
      "13\n",
      "14\n",
      "15\n"
     ]
    }
   ],
   "source": [
    "# to get the rest of the review pages\n",
    "# this script takes a while to run because it takes care of the 'read more' expansion part\n",
    "# once you click one 'read more', another 'read more' that was already open gets closed again\n",
    "# so it's one by one execution\n",
    "from selenium.common import exceptions\n",
    "import time\n",
    "\n",
    "j=0\n",
    "while(True):\n",
    "    try :\n",
    "        next_review_path = '//*[@id=\"reviews\"]/div/div[3]/div/ul/li[6]/a/span[1]' \n",
    "        review_next_button = WebDriverWait(driver, 50).until(EC.element_to_be_clickable((By.XPATH, next_review_path)))\n",
    "        driver.execute_script(\"arguments[0].click();\", review_next_button)\n",
    "        time.sleep(4)\n",
    "  \n",
    "        review_list = driver.find_elements_by_css_selector('.NHaasDS55Rg.fontSize_12.padBottom15.wrapText')\n",
    "        for el in review_list:\n",
    "            element = el.find_elements_by_css_selector('.border_gray.onlyBottomBorder.color_000.fontSize_1')\n",
    "            if (len(element)==1):\n",
    "                time.sleep(1.5)\n",
    "                driver.execute_script(\"arguments[0].click();\",element[0])\n",
    "                driver.execute_script(\"arguments[0].click();\",element[0])\n",
    "                time.sleep(1.5)\n",
    "                reviews.append(el.find_element_by_tag_name('span').text)\n",
    "        \n",
    "            else:\n",
    "                reviews.append(el.find_element_by_tag_name('span').text)\n",
    "                time.sleep(1.5)\n",
    "    \n",
    "    \n",
    "    except exceptions.StaleElementReferenceException as e:\n",
    "        raise e\n",
    "    \n",
    "    except exceptions.TimeoutException :\n",
    "        break\n"
   ]
  },
  {
   "cell_type": "code",
   "execution_count": 93,
   "metadata": {},
   "outputs": [
    {
     "name": "stdout",
     "output_type": "stream",
     "text": [
      "0\n",
      "1\n",
      "2\n",
      "3\n",
      "4\n",
      "5\n",
      "6\n",
      "7\n",
      "8\n",
      "9\n",
      "10\n",
      "11\n",
      "12\n",
      "13\n",
      "14\n",
      "15\n",
      "16\n"
     ]
    }
   ],
   "source": [
    "ratings=[]\n",
    "rating_list = driver.find_elements_by_css_selector('.displayInlineBlock.positionRelative.fontSize_14')        \n",
    "for i in range(len(rating_list)) :\n",
    "    print (i)\n",
    "    # we should get rid of the first 7 elements since it is different rating values; not associated with the reviews.\n",
    "    # starting index at 7, the stars are associated with the reviews\n",
    "    if(i>6) :\n",
    "        element = rating_list[i].find_element_by_class_name(\"a11y-hidden\").text\n",
    "        ratings.append(element) #this will have 17 elements in the list.\n",
    "    else :\n",
    "        pass #do nothing\n",
    "    "
   ]
  },
  {
   "cell_type": "code",
   "execution_count": 94,
   "metadata": {},
   "outputs": [
    {
     "data": {
      "text/plain": [
       "10"
      ]
     },
     "execution_count": 94,
     "metadata": {},
     "output_type": "execute_result"
    }
   ],
   "source": [
    "len(ratings)"
   ]
  }
 ],
 "metadata": {
  "kernelspec": {
   "display_name": "Python 3",
   "language": "python",
   "name": "python3"
  },
  "language_info": {
   "codemirror_mode": {
    "name": "ipython",
    "version": 3
   },
   "file_extension": ".py",
   "mimetype": "text/x-python",
   "name": "python",
   "nbconvert_exporter": "python",
   "pygments_lexer": "ipython3",
   "version": "3.6.8"
  }
 },
 "nbformat": 4,
 "nbformat_minor": 2
}
