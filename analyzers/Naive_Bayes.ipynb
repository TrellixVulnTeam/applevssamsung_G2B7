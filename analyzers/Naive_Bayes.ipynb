{
 "cells": [
  {
   "cell_type": "markdown",
   "metadata": {},
   "source": [
    "# Predicting Reviews Sentiment with Naive Bayes and Other Text Classifiers:\n",
    "\n",
    "*Classification is the process of identifying the category of a new, unseen observation based of a training set of data, which has categories that are known.*\n",
    "\n",
    "**In our case, our reviews are the observations and the positive/negative sentiment are the categories. This is a binary classification problem -- we're trying to predict if a review is either positive or negative.**"
   ]
  },
  {
   "cell_type": "markdown",
   "metadata": {},
   "source": [
    "** Importing the basic libraries**"
   ]
  },
  {
   "cell_type": "code",
   "execution_count": 21,
   "metadata": {},
   "outputs": [],
   "source": [
    "import math\n",
    "import random\n",
    "from collections import defaultdict\n",
    "from pprint import pprint\n",
    "\n",
    "# Prevent future/deprecation warnings from showing in output\n",
    "import warnings\n",
    "warnings.filterwarnings(action='ignore')\n",
    "\n",
    "import seaborn as sns\n",
    "import matplotlib.pyplot as plt\n",
    "import numpy as np\n",
    "import pandas as pd\n",
    "\n",
    "# Set global styles for plots\n",
    "sns.set_style(style='white')\n",
    "sns.set_context(context='notebook', font_scale=1.3, rc={'figure.figsize': (16,9)})"
   ]
  },
  {
   "cell_type": "markdown",
   "metadata": {},
   "source": [
    "#### Loading the Dataset:"
   ]
  },
  {
   "cell_type": "code",
   "execution_count": 22,
   "metadata": {},
   "outputs": [
    {
     "data": {
      "text/html": [
       "<div>\n",
       "<style scoped>\n",
       "    .dataframe tbody tr th:only-of-type {\n",
       "        vertical-align: middle;\n",
       "    }\n",
       "\n",
       "    .dataframe tbody tr th {\n",
       "        vertical-align: top;\n",
       "    }\n",
       "\n",
       "    .dataframe thead th {\n",
       "        text-align: right;\n",
       "    }\n",
       "</style>\n",
       "<table border=\"1\" class=\"dataframe\">\n",
       "  <thead>\n",
       "    <tr style=\"text-align: right;\">\n",
       "      <th></th>\n",
       "      <th>sentiment</th>\n",
       "      <th>review</th>\n",
       "    </tr>\n",
       "  </thead>\n",
       "  <tbody>\n",
       "    <tr>\n",
       "      <th>0</th>\n",
       "      <td>P</td>\n",
       "      <td>The Samsung Galaxy s9 is arguably the most bea...</td>\n",
       "    </tr>\n",
       "    <tr>\n",
       "      <th>1</th>\n",
       "      <td>P</td>\n",
       "      <td>great  phone smart features easy to use ,, , p...</td>\n",
       "    </tr>\n",
       "    <tr>\n",
       "      <th>2</th>\n",
       "      <td>P</td>\n",
       "      <td>I really liked the phone. It has good camera w...</td>\n",
       "    </tr>\n",
       "    <tr>\n",
       "      <th>3</th>\n",
       "      <td>P</td>\n",
       "      <td>First of all the camera quality does not disap...</td>\n",
       "    </tr>\n",
       "    <tr>\n",
       "      <th>4</th>\n",
       "      <td>P</td>\n",
       "      <td>As a flagship phone goes, everything is pretty...</td>\n",
       "    </tr>\n",
       "  </tbody>\n",
       "</table>\n",
       "</div>"
      ],
      "text/plain": [
       "  sentiment                                             review\n",
       "0         P  The Samsung Galaxy s9 is arguably the most bea...\n",
       "1         P  great  phone smart features easy to use ,, , p...\n",
       "2         P  I really liked the phone. It has good camera w...\n",
       "3         P  First of all the camera quality does not disap...\n",
       "4         P  As a flagship phone goes, everything is pretty..."
      ]
     },
     "execution_count": 22,
     "metadata": {},
     "output_type": "execute_result"
    }
   ],
   "source": [
    "df = pd.read_csv('NB_Data.csv')\n",
    "df.head()"
   ]
  },
  {
   "cell_type": "markdown",
   "metadata": {},
   "source": [
    "*Now that we have the dataset in a dataframe, We removed the reviews for which the sentiments can not be identified, so we can focus on only classifying positive or negative:*"
   ]
  },
  {
   "cell_type": "code",
   "execution_count": 23,
   "metadata": {
    "scrolled": true
   },
   "outputs": [
    {
     "data": {
      "text/plain": [
       "P    11970\n",
       "N     1248\n",
       "Name: sentiment, dtype: int64"
      ]
     },
     "execution_count": 23,
     "metadata": {},
     "output_type": "execute_result"
    }
   ],
   "source": [
    "df = df[df['sentiment'] != '?']\n",
    "df.sentiment.value_counts()"
   ]
  },
  {
   "cell_type": "markdown",
   "metadata": {},
   "source": [
    "#### Featurization of the Reviews:"
   ]
  },
  {
   "cell_type": "markdown",
   "metadata": {},
   "source": [
    "* In order to train our classifier, we need to transform our reviews of words into numbers, since algorithms only know how to work with numbers.*\n",
    "\n",
    "* To do this transformation, we're going to use $CountVectorizer$ from sklearn. This is a very straightforward class for converting words into features.*\n",
    "\n",
    "* $CountVectorizer$ should handle tokenization and tranformation to lower case characters *"
   ]
  },
  {
   "cell_type": "markdown",
   "metadata": {},
   "source": [
    "* vect is set up with default params to tokenize and lowercase words. On top of that, we have set binary=True so we get an output of 0 (word doesn't exist in that sentence) or 1 (word exists in that sentence).\n",
    "\n",
    "*vect builds a vocabulary from all the words it sees in all the text of the review, then assigns a 0 or 1 if that word exists in the sentence.*"
   ]
  },
  {
   "cell_type": "code",
   "execution_count": 24,
   "metadata": {},
   "outputs": [
    {
     "data": {
      "text/plain": [
       "array([[0, 0, 0, ..., 0, 0, 0],\n",
       "       [0, 0, 0, ..., 0, 0, 0],\n",
       "       [0, 0, 0, ..., 0, 0, 0],\n",
       "       ...,\n",
       "       [0, 0, 0, ..., 0, 0, 0],\n",
       "       [0, 0, 0, ..., 0, 0, 0],\n",
       "       [0, 0, 0, ..., 0, 0, 0]], dtype=int64)"
      ]
     },
     "execution_count": 24,
     "metadata": {},
     "output_type": "execute_result"
    }
   ],
   "source": [
    "from sklearn.feature_extraction.text import CountVectorizer\n",
    "vect = CountVectorizer(max_features=2000, binary=True)\n",
    "X = vect.fit_transform(df.review)\n",
    "\n",
    "X.toarray()"
   ]
  },
  {
   "cell_type": "markdown",
   "metadata": {},
   "source": [
    "*The vectorizer by default stores everything in a sparse array, and using X.toarray()shows us the dense version. A sparse array is much more efficient since most values in each row are 0. In other words, most reviews are a dozen or so words and each row contains every word ever seen, and sparse arrays only store the non-zero value indices*"
   ]
  },
  {
   "cell_type": "markdown",
   "metadata": {},
   "source": [
    "*max_features. This is essentially the number of words to consider, ranked by frequency. Here to dimensionally reduce the feature space, we have identified only 2500 words as the highest frequency count*"
   ]
  },
  {
   "cell_type": "code",
   "execution_count": 25,
   "metadata": {},
   "outputs": [],
   "source": [
    "from sklearn.model_selection import train_test_split\n",
    "\n",
    "X = df.review\n",
    "y = df.sentiment\n",
    "\n",
    "X_train, X_test, y_train, y_test = train_test_split(X, y, test_size=0.2)"
   ]
  },
  {
   "cell_type": "markdown",
   "metadata": {},
   "source": [
    "**Our test size is 0.2, or 20%. This means that X_test and y_test contains 20% of our data which we reserve for testing. We will apply the Vectorizer to only the training set and not to the entire data-set.**"
   ]
  },
  {
   "cell_type": "code",
   "execution_count": 26,
   "metadata": {},
   "outputs": [],
   "source": [
    "from sklearn.feature_extraction.text import CountVectorizer\n",
    "\n",
    "vect = CountVectorizer(max_features=2000, binary=True)\n",
    "\n",
    "X_train_vect = vect.fit_transform(X_train)"
   ]
  },
  {
   "cell_type": "code",
   "execution_count": 27,
   "metadata": {},
   "outputs": [
    {
     "name": "stdout",
     "output_type": "stream",
     "text": [
      "P    11970\n",
      "N     1248\n",
      "Name: sentiment, dtype: int64\n",
      "\n",
      "Predicting only Postive = 90.56% accuracy\n"
     ]
    }
   ],
   "source": [
    "counts = df.sentiment.value_counts()\n",
    "print(counts)\n",
    "\n",
    "print(\"\\nPredicting only Postive = {:.2f}% accuracy\".format(counts[0] / sum(counts) * 100))"
   ]
  },
  {
   "cell_type": "markdown",
   "metadata": {},
   "source": [
    "#### Balancing the Data:\n",
    "\n",
    "*There are higher number of positive reviews than neagtive reviews, and so we have a lot more positive labels than negative labels.*"
   ]
  },
  {
   "cell_type": "markdown",
   "metadata": {},
   "source": [
    "*By calculating if our model only chose to predict $P$ , the larger class, we would get a ~91% accuracy. This means that in our binary classification model, where random chance is 50%, a 91% accuracy would be misleading.*\n",
    "\n",
    "*We can balance our data by using a form of oversampling called SMOTE. SMOTE looks at the minor class, negatives in our case, and creates new, synthetic training examples.*\n",
    "\n",
    "**Note: We have to make sure we only oversample the train data so we don't leak any information to the test set.**"
   ]
  },
  {
   "cell_type": "code",
   "execution_count": 28,
   "metadata": {},
   "outputs": [],
   "source": [
    "from imblearn.over_sampling import SMOTE\n",
    "\n",
    "sm = SMOTE()\n",
    "\n",
    "X_train_res, y_train_res = sm.fit_sample(X_train_vect, y_train)"
   ]
  },
  {
   "cell_type": "code",
   "execution_count": 29,
   "metadata": {},
   "outputs": [
    {
     "name": "stdout",
     "output_type": "stream",
     "text": [
      "[('N', 9559), ('P', 9559)]\n"
     ]
    }
   ],
   "source": [
    "unique, counts = np.unique(y_train_res, return_counts=True)\n",
    "print(list(zip(unique, counts)))"
   ]
  },
  {
   "cell_type": "markdown",
   "metadata": {},
   "source": [
    "#### Using Naive Bayes to create a model for the training data:"
   ]
  },
  {
   "cell_type": "code",
   "execution_count": 30,
   "metadata": {},
   "outputs": [
    {
     "data": {
      "text/plain": [
       "0.9205983889528193"
      ]
     },
     "execution_count": 30,
     "metadata": {},
     "output_type": "execute_result"
    }
   ],
   "source": [
    "from sklearn.naive_bayes import MultinomialNB\n",
    "\n",
    "nb = MultinomialNB()\n",
    "\n",
    "nb.fit(X_train_res, y_train_res)\n",
    "\n",
    "nb.score(X_train_res, y_train_res)"
   ]
  },
  {
   "cell_type": "markdown",
   "metadata": {},
   "source": [
    "*Naive Bayes has successfully fit all of our training data and is ready to make predictions. You'll notice that we have a score of ~93%. This is the fit score, and not the actual accuracy score.* \n",
    "\n",
    "*We will vectorize the test set, then use that test set to predict if each test review is either positive or negative. Since we're avoiding any data leakage, we are only transforming, not refitting. And we are not using SMOTE to oversample either.*"
   ]
  },
  {
   "cell_type": "code",
   "execution_count": 31,
   "metadata": {},
   "outputs": [
    {
     "data": {
      "text/plain": [
       "array(['P', 'P', 'P', ..., 'P', 'N', 'P'], dtype='<U1')"
      ]
     },
     "execution_count": 31,
     "metadata": {},
     "output_type": "execute_result"
    }
   ],
   "source": [
    "X_test_vect = vect.transform(X_test)\n",
    "\n",
    "y_pred = nb.predict(X_test_vect)\n",
    "\n",
    "y_pred"
   ]
  },
  {
   "cell_type": "code",
   "execution_count": 32,
   "metadata": {},
   "outputs": [
    {
     "name": "stdout",
     "output_type": "stream",
     "text": [
      "Accuracy: 87.37%\n"
     ]
    }
   ],
   "source": [
    "from sklearn.metrics import accuracy_score, confusion_matrix\n",
    "\n",
    "print(\"Accuracy: {:.2f}%\".format(accuracy_score(y_test, y_pred) * 100))\n",
    "accs_norm = []\n",
    "accs_norm.append(accuracy_score(y_test, y_pred))"
   ]
  },
  {
   "cell_type": "code",
   "execution_count": 33,
   "metadata": {},
   "outputs": [
    {
     "name": "stdout",
     "output_type": "stream",
     "text": [
      "[[ 137   96]\n",
      " [ 238 2173]]\n"
     ]
    },
    {
     "data": {
      "image/png": "[encoded data removed]",
      "text/plain": [
       "<Figure size 288x288 with 2 Axes>"
      ]
     },
     "metadata": {},
     "output_type": "display_data"
    }
   ],
   "source": [
    "# Compute confusion matrix\n",
    "cm = confusion_matrix(y_test, y_pred)\n",
    "\n",
    "print(cm)\n",
    "\n",
    "# Show confusion matrix in a separate window\n",
    "plt.matshow(cm)\n",
    "plt.title('Confusion matrix')\n",
    "plt.colorbar()\n",
    "plt.ylabel('True label')\n",
    "plt.xlabel('Predicted label')\n",
    "plt.show()"
   ]
  },
  {
   "cell_type": "markdown",
   "metadata": {},
   "source": [
    "**We can see that our model has predicted the sentiment of reviews with a 88% accuracy, but looking at the confusion matrix we can see it's not doing that great of a job classifying.**\n",
    "\n",
    "For a breakdown of the confusion matrix, we have:\n",
    "\n",
    "We have considered 0 <- Negative and 1 <- Positive.\n",
    "For business scenario, we see that classifying a positive reviews as a neagtive one is detrimental.\n",
    "\n",
    ">140 predicted negative (-1), and was negative (-1). True Negative.\n",
    "\n",
    ">2196 predicted positive (+1), and was positive (+1). True Positive.\n",
    "\n",
    ">198 predicted negative (-1), but was positive (+1). False Negative.\n",
    "\n",
    ">110 predicted positive (+1), but was negative (-1). False Positive.\n",
    "\n",
    "So our classifier is getting a lot of the positives, but there's a high number of false predictions. We'll see if we can improve these metrics with other classifiers below."
   ]
  },
  {
   "cell_type": "markdown",
   "metadata": {},
   "source": [
    "### Cross Validation:\n",
    "\n",
    "*In cross validation, where we generate a training and testing set 10 different times on the same data in different positions.*\n",
    "\n",
    "\n",
    "The relevant class from the sklearn library is ShuffleSplit. This performs a shuffle first and then a split of the data into train/test. Since it's an iterator, it will perform a random shuffle and split for each iteration.\n",
    "\n",
    "The n_splits parameter in ShuffleSplit is the number of times to randomize the data and then split it 80/20, whereas the cv parameter in cross_val_score is the number of folds. "
   ]
  },
  {
   "cell_type": "code",
   "execution_count": 34,
   "metadata": {},
   "outputs": [
    {
     "name": "stdout",
     "output_type": "stream",
     "text": [
      "\n",
      "Average accuracy across folds: 87.69%\n",
      "\n",
      "Average Confusion Matrix across folds: \n",
      " [[ 148.7  104.2]\n",
      " [ 221.2 2169.9]]\n"
     ]
    }
   ],
   "source": [
    "from sklearn.model_selection import ShuffleSplit\n",
    "\n",
    "X = df.review\n",
    "y = df.sentiment\n",
    "\n",
    "ss = ShuffleSplit(n_splits=10, test_size=0.2)\n",
    "sm = SMOTE()\n",
    "\n",
    "accs = []\n",
    "cms = []\n",
    "\n",
    "for train_index, test_index in ss.split(X):\n",
    "    \n",
    "    X_train, X_test = X.iloc[train_index], X.iloc[test_index]\n",
    "    y_train, y_test = y.iloc[train_index], y.iloc[test_index]\n",
    "    \n",
    "    # Fit vectorizer and transform X train, then transform X test\n",
    "    X_train_vect = vect.fit_transform(X_train)\n",
    "    X_test_vect = vect.transform(X_test)\n",
    "    \n",
    "    # Oversample\n",
    "    X_train_res, y_train_res = sm.fit_sample(X_train_vect, y_train)\n",
    "    \n",
    "    # Fit Naive Bayes on the vectorized X with y train labels, \n",
    "    # then predict new y labels using X test\n",
    "    nb.fit(X_train_res, y_train_res)\n",
    "    y_pred = nb.predict(X_test_vect)\n",
    "    \n",
    "    # Determine test set accuracy and f1 score on this fold using the true y labels and predicted y labels\n",
    "    accs.append(accuracy_score(y_test, y_pred))\n",
    "    cms.append(confusion_matrix(y_test, y_pred))\n",
    "    \n",
    "print(\"\\nAverage accuracy across folds: {:.2f}%\".format(sum(accs) / len(accs) * 100))\n",
    "print(\"\\nAverage Confusion Matrix across folds: \\n {}\".format(sum(cms) / len(cms)))"
   ]
  },
  {
   "cell_type": "markdown",
   "metadata": {},
   "source": [
    "**This plot shows the Accuracy of the Naive Bayes classifier in predicting the sentiments for all the 10 cases of the cross-validation. The final accuracy metric calculation is obtained through the average of the 10 validations.**"
   ]
  },
  {
   "cell_type": "code",
   "execution_count": 35,
   "metadata": {},
   "outputs": [
    {
     "data": {
      "image/png": "[encoded data removed]",
      "text/plain": [
       "<Figure size 1440x720 with 1 Axes>"
      ]
     },
     "metadata": {},
     "output_type": "display_data"
    }
   ],
   "source": [
    "f, ax = plt.subplots(figsize=(20, 10))\n",
    "acc_scores = [round(a * 100, 1) for a in accs]\n",
    "x1 = np.arange(len(acc_scores))\n",
    "ax.bar(x1, acc_scores, color='#559ebf')\n",
    "    \n",
    "ax.set_ylabel('Accuracy (%)')\n",
    "ax.set_xlabel('Runs for Cross-Validation')\n",
    "ax.set_title('Naive Bayes')\n",
    "ax.set_ylim([0, 100])\n",
    "\n",
    "sns.despine(bottom=True, left=True)\n",
    "plt.show()\n",
    "    "
   ]
  },
  {
   "cell_type": "markdown",
   "metadata": {},
   "source": [
    "#### Below are the multiple machine learning classifcation algorithms that are used and the explanation for the same:\n",
    "\n",
    "\n",
    "> Naive Bayes classifier for multivariate Bernoulli models. Like MultinomialNB, this classifier is suitable for discrete data. The difference is that MultinomialNB works with occurrence counts.\n",
    "\n",
    "> SGDClassifier: This estimator implements regularized linear models with stochastic gradient descent (SGD) learning: the gradient of the loss is estimated each sample at a time and the model is updated along the way with a decreasing strength schedule (aka learning rate). SGD allows minibatch (online/out-of-core) learning, see the partial_fit method\n",
    "\n",
    ">Similar to SVC with parameter kernel=’linear’, but implemented in terms of liblinear rather than libsvm, so it has more flexibility in the choice of penalties and loss functions and should scale better to large numbers of samples.\n",
    "\n",
    ">Random Forest: A random forest is a meta estimator that fits a number of decision tree classifiers on various sub-samples of the dataset and uses averaging to improve the predictive accuracy and control over-fitting. \n",
    "\n",
    ">MLP Classifier: The model is part of the Neural Net Classifier class and this model optimizes the log-loss function using stochastic gradient descent.\n"
   ]
  },
  {
   "cell_type": "code",
   "execution_count": null,
   "metadata": {},
   "outputs": [],
   "source": [
    "from sklearn.naive_bayes import BernoulliNB\n",
    "from sklearn.linear_model import LogisticRegression, SGDClassifier\n",
    "from sklearn.svm import LinearSVC\n",
    "from sklearn.ensemble import RandomForestClassifier\n",
    "from sklearn.neural_network import MLPClassifier\n",
    "\n",
    "X = df.review\n",
    "y = df.sentiment\n",
    "\n",
    "cv = ShuffleSplit(n_splits=20, test_size=0.2)\n",
    "\n",
    "models = [\n",
    "    MultinomialNB(),\n",
    "    BernoulliNB(),\n",
    "    LogisticRegression(),\n",
    "    SGDClassifier(),\n",
    "    LinearSVC(),\n",
    "    RandomForestClassifier(),\n",
    "    MLPClassifier()\n",
    "]\n",
    "\n",
    "sm = SMOTE()\n",
    "\n",
    "# Init a dictionary for storing results of each run for each model\n",
    "results = {\n",
    "    model.__class__.__name__: {\n",
    "        'accuracy': [], \n",
    "        'confusion_matrix': []\n",
    "    } for model in models\n",
    "}\n",
    "\n",
    "for train_index, test_index in cv.split(X):\n",
    "    X_train, X_test  = X.iloc[train_index], X.iloc[test_index]\n",
    "    y_train, y_test = y.iloc[train_index], y.iloc[test_index]\n",
    "    \n",
    "    X_train_vect = vect.fit_transform(X_train)    \n",
    "    X_test_vect = vect.transform(X_test)\n",
    "    \n",
    "    X_train_res, y_train_res = sm.fit_sample(X_train_vect, y_train)\n",
    "    \n",
    "    for model in models:\n",
    "        model.fit(X_train_res, y_train_res)\n",
    "        y_pred = model.predict(X_test_vect)\n",
    "        \n",
    "        acc = accuracy_score(y_test, y_pred)\n",
    "        cm = confusion_matrix(y_test, y_pred)\n",
    "        \n",
    "        results[model.__class__.__name__]['accuracy'].append(acc)\n",
    "        results[model.__class__.__name__]['confusion_matrix'].append(cm)"
   ]
  },
  {
   "cell_type": "code",
   "execution_count": null,
   "metadata": {},
   "outputs": [],
   "source": [
    "sensitivity1 = cm1[0,0]/(cm1[0,0]+cm1[0,1])\n",
    "specificity1 = cm1[1,1]/(cm1[1,0]+cm1[1,1])"
   ]
  },
  {
   "cell_type": "code",
   "execution_count": 20,
   "metadata": {},
   "outputs": [
    {
     "name": "stdout",
     "output_type": "stream",
     "text": [
      "MultinomialNB\n",
      "------------------------------\n",
      "        Avg. Accuracy: 87.57%\n",
      "        Avg. Confusion Matrix: \n",
      "        \n",
      "[[ 143.4   105.35]\n",
      " [ 223.2  2172.05]]\n",
      "        \n",
      "BernoulliNB\n",
      "------------------------------\n",
      "        Avg. Accuracy: 70.70%\n",
      "        Avg. Confusion Matrix: \n",
      "        \n",
      "[[  72.45  176.3 ]\n",
      " [ 598.45 1796.8 ]]\n",
      "        \n",
      "LogisticRegression\n",
      "------------------------------\n",
      "        Avg. Accuracy: 88.57%\n",
      "        Avg. Confusion Matrix: \n",
      "        \n",
      "[[ 153.35   95.4 ]\n",
      " [ 206.7  2188.55]]\n",
      "        \n",
      "SGDClassifier\n",
      "------------------------------\n",
      "        Avg. Accuracy: 88.17%\n",
      "        Avg. Confusion Matrix: \n",
      "        \n",
      "[[ 148.2   100.55]\n",
      " [ 212.25 2183.  ]]\n",
      "        \n",
      "LinearSVC\n",
      "------------------------------\n",
      "        Avg. Accuracy: 88.42%\n",
      "        Avg. Confusion Matrix: \n",
      "        \n",
      "[[ 144.95  103.8 ]\n",
      " [ 202.4  2192.85]]\n",
      "        \n",
      "RandomForestClassifier\n",
      "------------------------------\n",
      "        Avg. Accuracy: 88.57%\n",
      "        Avg. Confusion Matrix: \n",
      "        \n",
      "[[  70.15  178.6 ]\n",
      " [ 123.6  2271.65]]\n",
      "        \n",
      "MLPClassifier\n",
      "------------------------------\n",
      "        Avg. Accuracy: 91.03%\n",
      "        Avg. Confusion Matrix: \n",
      "        \n",
      "[[ 135.95  112.8 ]\n",
      " [ 124.4  2270.85]]\n",
      "        \n"
     ]
    }
   ],
   "source": [
    "for model, d in results.items():\n",
    "    avg_acc = sum(d['accuracy']) / len(d['accuracy']) * 100\n",
    "    avg_cm = sum(d['confusion_matrix']) / len(d['confusion_matrix'])\n",
    "    \n",
    "    slashes = '-' * 30\n",
    "    \n",
    "    s = f\"\"\"{model}\\n{slashes}\n",
    "        Avg. Accuracy: {avg_acc:.2f}%\n",
    "        Avg. Confusion Matrix: \n",
    "        \\n{avg_cm}\n",
    "        \"\"\"\n",
    "    print(s)"
   ]
  },
  {
   "cell_type": "markdown",
   "metadata": {},
   "source": [
    "### We have the highest model accuracy achieved with MLP Classifier, the accuracy is of 91% which is considered very good for Binary prediction. The leats prediction is from Bernoulli NB Classfier, which makes sense because it works well with discrete data and this is classfication model problem."
   ]
  }
 ],
 "metadata": {
  "kernelspec": {
   "display_name": "Python 3",
   "language": "python",
   "name": "python3"
  },
  "language_info": {
   "codemirror_mode": {
    "name": "ipython",
    "version": 3
   },
   "file_extension": ".py",
   "mimetype": "text/x-python",
   "name": "python",
   "nbconvert_exporter": "python",
   "pygments_lexer": "ipython3",
   "version": "3.6.8"
  }
 },
 "nbformat": 4,
 "nbformat_minor": 2
}
